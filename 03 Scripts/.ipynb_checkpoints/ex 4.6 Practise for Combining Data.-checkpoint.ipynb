{
 "cells": [
  {
   "cell_type": "code",
   "execution_count": 4,
   "id": "8251c371",
   "metadata": {},
   "outputs": [],
   "source": [
    "import pandas as pd\n",
    "import numpy as np\n",
    "import os"
   ]
  },
  {
   "cell_type": "markdown",
   "id": "28461eb4",
   "metadata": {},
   "source": [
    "## Concatenating Data. "
   ]
  },
  {
   "cell_type": "markdown",
   "id": "1839ade3",
   "metadata": {},
   "source": [
    "### creating dictionaries from the data for the months of january "
   ]
  },
  {
   "cell_type": "code",
   "execution_count": 1,
   "id": "7f2c3f78",
   "metadata": {},
   "outputs": [],
   "source": [
    "data1 = {'customer_id':['6732', '767', '890', '635'],\n",
    "    'month':['Jan-20', 'Jan-20', 'Jan-20', 'Jan-20'],\n",
    "    'purchased_meat':[0, 13, 3, 4],\n",
    "    'purchased_alcohol':[1, 2, 10, 0],\n",
    "    'purchased_snacks':[10, 5, 1, 7]}"
   ]
  },
  {
   "cell_type": "markdown",
   "id": "5f925bf8",
   "metadata": {},
   "source": [
    "### creating dictionaries from the data for the months of february"
   ]
  },
  {
   "cell_type": "code",
   "execution_count": 2,
   "id": "e5522009",
   "metadata": {},
   "outputs": [],
   "source": [
    "data2 = {'customer_id':['6732', '767', '890', '635'],\n",
    "    'month':['Feb-20', 'Feb-20', 'Feb-20', 'Feb-20'],\n",
    "    'purchased_meat':[0, 10, 5, 3],\n",
    "    'purchased_alcohol':[2, 4, 14, 0],\n",
    "    'purchased_snacks':[15, 3, 2, 6]}"
   ]
  },
  {
   "cell_type": "markdown",
   "id": "37903723",
   "metadata": {},
   "source": [
    "### convert the dictionaries into dataframes by using pd.DataFrame function and index argument."
   ]
  },
  {
   "cell_type": "code",
   "execution_count": 5,
   "id": "849c05a6",
   "metadata": {},
   "outputs": [],
   "source": [
    "df = pd.DataFrame(data1,index=[0, 1, 2, 3])\n",
    "df_1 = pd.DataFrame(data2,index=[0, 1, 2, 3])"
   ]
  },
  {
   "cell_type": "code",
   "execution_count": 6,
   "id": "b64b5b31",
   "metadata": {},
   "outputs": [
    {
     "data": {
      "text/html": [
       "<div>\n",
       "<style scoped>\n",
       "    .dataframe tbody tr th:only-of-type {\n",
       "        vertical-align: middle;\n",
       "    }\n",
       "\n",
       "    .dataframe tbody tr th {\n",
       "        vertical-align: top;\n",
       "    }\n",
       "\n",
       "    .dataframe thead th {\n",
       "        text-align: right;\n",
       "    }\n",
       "</style>\n",
       "<table border=\"1\" class=\"dataframe\">\n",
       "  <thead>\n",
       "    <tr style=\"text-align: right;\">\n",
       "      <th></th>\n",
       "      <th>customer_id</th>\n",
       "      <th>month</th>\n",
       "      <th>purchased_meat</th>\n",
       "      <th>purchased_alcohol</th>\n",
       "      <th>purchased_snacks</th>\n",
       "    </tr>\n",
       "  </thead>\n",
       "  <tbody>\n",
       "    <tr>\n",
       "      <th>0</th>\n",
       "      <td>6732</td>\n",
       "      <td>Jan-20</td>\n",
       "      <td>0</td>\n",
       "      <td>1</td>\n",
       "      <td>10</td>\n",
       "    </tr>\n",
       "    <tr>\n",
       "      <th>1</th>\n",
       "      <td>767</td>\n",
       "      <td>Jan-20</td>\n",
       "      <td>13</td>\n",
       "      <td>2</td>\n",
       "      <td>5</td>\n",
       "    </tr>\n",
       "    <tr>\n",
       "      <th>2</th>\n",
       "      <td>890</td>\n",
       "      <td>Jan-20</td>\n",
       "      <td>3</td>\n",
       "      <td>10</td>\n",
       "      <td>1</td>\n",
       "    </tr>\n",
       "    <tr>\n",
       "      <th>3</th>\n",
       "      <td>635</td>\n",
       "      <td>Jan-20</td>\n",
       "      <td>4</td>\n",
       "      <td>0</td>\n",
       "      <td>7</td>\n",
       "    </tr>\n",
       "  </tbody>\n",
       "</table>\n",
       "</div>"
      ],
      "text/plain": [
       "  customer_id   month  purchased_meat  purchased_alcohol  purchased_snacks\n",
       "0        6732  Jan-20               0                  1                10\n",
       "1         767  Jan-20              13                  2                 5\n",
       "2         890  Jan-20               3                 10                 1\n",
       "3         635  Jan-20               4                  0                 7"
      ]
     },
     "execution_count": 6,
     "metadata": {},
     "output_type": "execute_result"
    }
   ],
   "source": [
    "df"
   ]
  },
  {
   "cell_type": "code",
   "execution_count": 7,
   "id": "3bbcdc12",
   "metadata": {},
   "outputs": [
    {
     "data": {
      "text/html": [
       "<div>\n",
       "<style scoped>\n",
       "    .dataframe tbody tr th:only-of-type {\n",
       "        vertical-align: middle;\n",
       "    }\n",
       "\n",
       "    .dataframe tbody tr th {\n",
       "        vertical-align: top;\n",
       "    }\n",
       "\n",
       "    .dataframe thead th {\n",
       "        text-align: right;\n",
       "    }\n",
       "</style>\n",
       "<table border=\"1\" class=\"dataframe\">\n",
       "  <thead>\n",
       "    <tr style=\"text-align: right;\">\n",
       "      <th></th>\n",
       "      <th>customer_id</th>\n",
       "      <th>month</th>\n",
       "      <th>purchased_meat</th>\n",
       "      <th>purchased_alcohol</th>\n",
       "      <th>purchased_snacks</th>\n",
       "    </tr>\n",
       "  </thead>\n",
       "  <tbody>\n",
       "    <tr>\n",
       "      <th>0</th>\n",
       "      <td>6732</td>\n",
       "      <td>Feb-20</td>\n",
       "      <td>0</td>\n",
       "      <td>2</td>\n",
       "      <td>15</td>\n",
       "    </tr>\n",
       "    <tr>\n",
       "      <th>1</th>\n",
       "      <td>767</td>\n",
       "      <td>Feb-20</td>\n",
       "      <td>10</td>\n",
       "      <td>4</td>\n",
       "      <td>3</td>\n",
       "    </tr>\n",
       "    <tr>\n",
       "      <th>2</th>\n",
       "      <td>890</td>\n",
       "      <td>Feb-20</td>\n",
       "      <td>5</td>\n",
       "      <td>14</td>\n",
       "      <td>2</td>\n",
       "    </tr>\n",
       "    <tr>\n",
       "      <th>3</th>\n",
       "      <td>635</td>\n",
       "      <td>Feb-20</td>\n",
       "      <td>3</td>\n",
       "      <td>0</td>\n",
       "      <td>6</td>\n",
       "    </tr>\n",
       "  </tbody>\n",
       "</table>\n",
       "</div>"
      ],
      "text/plain": [
       "  customer_id   month  purchased_meat  purchased_alcohol  purchased_snacks\n",
       "0        6732  Feb-20               0                  2                15\n",
       "1         767  Feb-20              10                  4                 3\n",
       "2         890  Feb-20               5                 14                 2\n",
       "3         635  Feb-20               3                  0                 6"
      ]
     },
     "execution_count": 7,
     "metadata": {},
     "output_type": "execute_result"
    }
   ],
   "source": [
    "df_1"
   ]
  },
  {
   "cell_type": "markdown",
   "id": "6105d1b7",
   "metadata": {},
   "source": [
    "### Create a list- Frames(df and df_1). then concatenate this list with the pandas function pd.concat(), and then saving the results in new dataframe-  df_concat      (long way) vertically\n",
    "     "
   ]
  },
  {
   "cell_type": "code",
   "execution_count": 8,
   "id": "73340316",
   "metadata": {},
   "outputs": [],
   "source": [
    "frames = [df, df_1]\n",
    "df_concat = pd.concat(frames)"
   ]
  },
  {
   "cell_type": "code",
   "execution_count": 9,
   "id": "ee9512c1",
   "metadata": {},
   "outputs": [
    {
     "data": {
      "text/html": [
       "<div>\n",
       "<style scoped>\n",
       "    .dataframe tbody tr th:only-of-type {\n",
       "        vertical-align: middle;\n",
       "    }\n",
       "\n",
       "    .dataframe tbody tr th {\n",
       "        vertical-align: top;\n",
       "    }\n",
       "\n",
       "    .dataframe thead th {\n",
       "        text-align: right;\n",
       "    }\n",
       "</style>\n",
       "<table border=\"1\" class=\"dataframe\">\n",
       "  <thead>\n",
       "    <tr style=\"text-align: right;\">\n",
       "      <th></th>\n",
       "      <th>customer_id</th>\n",
       "      <th>month</th>\n",
       "      <th>purchased_meat</th>\n",
       "      <th>purchased_alcohol</th>\n",
       "      <th>purchased_snacks</th>\n",
       "    </tr>\n",
       "  </thead>\n",
       "  <tbody>\n",
       "    <tr>\n",
       "      <th>0</th>\n",
       "      <td>6732</td>\n",
       "      <td>Jan-20</td>\n",
       "      <td>0</td>\n",
       "      <td>1</td>\n",
       "      <td>10</td>\n",
       "    </tr>\n",
       "    <tr>\n",
       "      <th>1</th>\n",
       "      <td>767</td>\n",
       "      <td>Jan-20</td>\n",
       "      <td>13</td>\n",
       "      <td>2</td>\n",
       "      <td>5</td>\n",
       "    </tr>\n",
       "    <tr>\n",
       "      <th>2</th>\n",
       "      <td>890</td>\n",
       "      <td>Jan-20</td>\n",
       "      <td>3</td>\n",
       "      <td>10</td>\n",
       "      <td>1</td>\n",
       "    </tr>\n",
       "    <tr>\n",
       "      <th>3</th>\n",
       "      <td>635</td>\n",
       "      <td>Jan-20</td>\n",
       "      <td>4</td>\n",
       "      <td>0</td>\n",
       "      <td>7</td>\n",
       "    </tr>\n",
       "    <tr>\n",
       "      <th>0</th>\n",
       "      <td>6732</td>\n",
       "      <td>Feb-20</td>\n",
       "      <td>0</td>\n",
       "      <td>2</td>\n",
       "      <td>15</td>\n",
       "    </tr>\n",
       "    <tr>\n",
       "      <th>1</th>\n",
       "      <td>767</td>\n",
       "      <td>Feb-20</td>\n",
       "      <td>10</td>\n",
       "      <td>4</td>\n",
       "      <td>3</td>\n",
       "    </tr>\n",
       "    <tr>\n",
       "      <th>2</th>\n",
       "      <td>890</td>\n",
       "      <td>Feb-20</td>\n",
       "      <td>5</td>\n",
       "      <td>14</td>\n",
       "      <td>2</td>\n",
       "    </tr>\n",
       "    <tr>\n",
       "      <th>3</th>\n",
       "      <td>635</td>\n",
       "      <td>Feb-20</td>\n",
       "      <td>3</td>\n",
       "      <td>0</td>\n",
       "      <td>6</td>\n",
       "    </tr>\n",
       "  </tbody>\n",
       "</table>\n",
       "</div>"
      ],
      "text/plain": [
       "  customer_id   month  purchased_meat  purchased_alcohol  purchased_snacks\n",
       "0        6732  Jan-20               0                  1                10\n",
       "1         767  Jan-20              13                  2                 5\n",
       "2         890  Jan-20               3                 10                 1\n",
       "3         635  Jan-20               4                  0                 7\n",
       "0        6732  Feb-20               0                  2                15\n",
       "1         767  Feb-20              10                  4                 3\n",
       "2         890  Feb-20               5                 14                 2\n",
       "3         635  Feb-20               3                  0                 6"
      ]
     },
     "execution_count": 9,
     "metadata": {},
     "output_type": "execute_result"
    }
   ],
   "source": [
    "df_concat"
   ]
  },
  {
   "cell_type": "markdown",
   "id": "7a3a2445",
   "metadata": {},
   "source": [
    "### now if you want to present dataframe in wide way or horizontally, just need to add axis=1 "
   ]
  },
  {
   "cell_type": "code",
   "execution_count": 10,
   "id": "7771207c",
   "metadata": {},
   "outputs": [],
   "source": [
    "frames = [df, df_1]\n",
    "df_concat = pd.concat(frames, axis=1)"
   ]
  },
  {
   "cell_type": "code",
   "execution_count": 11,
   "id": "6c066a9a",
   "metadata": {},
   "outputs": [
    {
     "data": {
      "text/html": [
       "<div>\n",
       "<style scoped>\n",
       "    .dataframe tbody tr th:only-of-type {\n",
       "        vertical-align: middle;\n",
       "    }\n",
       "\n",
       "    .dataframe tbody tr th {\n",
       "        vertical-align: top;\n",
       "    }\n",
       "\n",
       "    .dataframe thead th {\n",
       "        text-align: right;\n",
       "    }\n",
       "</style>\n",
       "<table border=\"1\" class=\"dataframe\">\n",
       "  <thead>\n",
       "    <tr style=\"text-align: right;\">\n",
       "      <th></th>\n",
       "      <th>customer_id</th>\n",
       "      <th>month</th>\n",
       "      <th>purchased_meat</th>\n",
       "      <th>purchased_alcohol</th>\n",
       "      <th>purchased_snacks</th>\n",
       "      <th>customer_id</th>\n",
       "      <th>month</th>\n",
       "      <th>purchased_meat</th>\n",
       "      <th>purchased_alcohol</th>\n",
       "      <th>purchased_snacks</th>\n",
       "    </tr>\n",
       "  </thead>\n",
       "  <tbody>\n",
       "    <tr>\n",
       "      <th>0</th>\n",
       "      <td>6732</td>\n",
       "      <td>Jan-20</td>\n",
       "      <td>0</td>\n",
       "      <td>1</td>\n",
       "      <td>10</td>\n",
       "      <td>6732</td>\n",
       "      <td>Feb-20</td>\n",
       "      <td>0</td>\n",
       "      <td>2</td>\n",
       "      <td>15</td>\n",
       "    </tr>\n",
       "    <tr>\n",
       "      <th>1</th>\n",
       "      <td>767</td>\n",
       "      <td>Jan-20</td>\n",
       "      <td>13</td>\n",
       "      <td>2</td>\n",
       "      <td>5</td>\n",
       "      <td>767</td>\n",
       "      <td>Feb-20</td>\n",
       "      <td>10</td>\n",
       "      <td>4</td>\n",
       "      <td>3</td>\n",
       "    </tr>\n",
       "    <tr>\n",
       "      <th>2</th>\n",
       "      <td>890</td>\n",
       "      <td>Jan-20</td>\n",
       "      <td>3</td>\n",
       "      <td>10</td>\n",
       "      <td>1</td>\n",
       "      <td>890</td>\n",
       "      <td>Feb-20</td>\n",
       "      <td>5</td>\n",
       "      <td>14</td>\n",
       "      <td>2</td>\n",
       "    </tr>\n",
       "    <tr>\n",
       "      <th>3</th>\n",
       "      <td>635</td>\n",
       "      <td>Jan-20</td>\n",
       "      <td>4</td>\n",
       "      <td>0</td>\n",
       "      <td>7</td>\n",
       "      <td>635</td>\n",
       "      <td>Feb-20</td>\n",
       "      <td>3</td>\n",
       "      <td>0</td>\n",
       "      <td>6</td>\n",
       "    </tr>\n",
       "  </tbody>\n",
       "</table>\n",
       "</div>"
      ],
      "text/plain": [
       "  customer_id   month  purchased_meat  purchased_alcohol  purchased_snacks  \\\n",
       "0        6732  Jan-20               0                  1                10   \n",
       "1         767  Jan-20              13                  2                 5   \n",
       "2         890  Jan-20               3                 10                 1   \n",
       "3         635  Jan-20               4                  0                 7   \n",
       "\n",
       "  customer_id   month  purchased_meat  purchased_alcohol  purchased_snacks  \n",
       "0        6732  Feb-20               0                  2                15  \n",
       "1         767  Feb-20              10                  4                 3  \n",
       "2         890  Feb-20               5                 14                 2  \n",
       "3         635  Feb-20               3                  0                 6  "
      ]
     },
     "execution_count": 11,
     "metadata": {},
     "output_type": "execute_result"
    }
   ],
   "source": [
    "df_concat"
   ]
  },
  {
   "cell_type": "markdown",
   "id": "3ca65467",
   "metadata": {},
   "source": [
    "## Joining Data"
   ]
  },
  {
   "cell_type": "markdown",
   "id": "c7e89732",
   "metadata": {},
   "source": [
    "### we will usedf.merge() function. ( same like SQL join operators). lets create another Dataframe df_2"
   ]
  },
  {
   "cell_type": "code",
   "execution_count": 12,
   "id": "b7386a90",
   "metadata": {},
   "outputs": [],
   "source": [
    "data3 = {'customer_id':['6732', '767', '890', '635'],\n",
    "    'month':['Jan-20', 'Jan-20', 'Jan-20', 'Jan-20'],\n",
    "    'days_purchased_on':[0, 10, 4, 1]}\n",
    "\n",
    "df_2 = pd.DataFrame(data3,index=[0, 1, 2, 3])"
   ]
  },
  {
   "cell_type": "code",
   "execution_count": 13,
   "id": "574a8540",
   "metadata": {},
   "outputs": [
    {
     "data": {
      "text/html": [
       "<div>\n",
       "<style scoped>\n",
       "    .dataframe tbody tr th:only-of-type {\n",
       "        vertical-align: middle;\n",
       "    }\n",
       "\n",
       "    .dataframe tbody tr th {\n",
       "        vertical-align: top;\n",
       "    }\n",
       "\n",
       "    .dataframe thead th {\n",
       "        text-align: right;\n",
       "    }\n",
       "</style>\n",
       "<table border=\"1\" class=\"dataframe\">\n",
       "  <thead>\n",
       "    <tr style=\"text-align: right;\">\n",
       "      <th></th>\n",
       "      <th>customer_id</th>\n",
       "      <th>month</th>\n",
       "      <th>days_purchased_on</th>\n",
       "    </tr>\n",
       "  </thead>\n",
       "  <tbody>\n",
       "    <tr>\n",
       "      <th>0</th>\n",
       "      <td>6732</td>\n",
       "      <td>Jan-20</td>\n",
       "      <td>0</td>\n",
       "    </tr>\n",
       "    <tr>\n",
       "      <th>1</th>\n",
       "      <td>767</td>\n",
       "      <td>Jan-20</td>\n",
       "      <td>10</td>\n",
       "    </tr>\n",
       "    <tr>\n",
       "      <th>2</th>\n",
       "      <td>890</td>\n",
       "      <td>Jan-20</td>\n",
       "      <td>4</td>\n",
       "    </tr>\n",
       "    <tr>\n",
       "      <th>3</th>\n",
       "      <td>635</td>\n",
       "      <td>Jan-20</td>\n",
       "      <td>1</td>\n",
       "    </tr>\n",
       "  </tbody>\n",
       "</table>\n",
       "</div>"
      ],
      "text/plain": [
       "  customer_id   month  days_purchased_on\n",
       "0        6732  Jan-20                  0\n",
       "1         767  Jan-20                 10\n",
       "2         890  Jan-20                  4\n",
       "3         635  Jan-20                  1"
      ]
     },
     "execution_count": 13,
     "metadata": {},
     "output_type": "execute_result"
    }
   ],
   "source": [
    "df_2"
   ]
  },
  {
   "cell_type": "markdown",
   "id": "6298a6a0",
   "metadata": {},
   "source": [
    "### we want to merge two dataframes df and df_2 by using df.merge() function. and set the on argument to pivot around a common column 'customer_id' "
   ]
  },
  {
   "cell_type": "code",
   "execution_count": 14,
   "id": "4122adf2",
   "metadata": {},
   "outputs": [],
   "source": [
    "df_merged = df.merge(df_2, on = 'customer_id')"
   ]
  },
  {
   "cell_type": "code",
   "execution_count": 15,
   "id": "4c26ab3a",
   "metadata": {},
   "outputs": [
    {
     "data": {
      "text/html": [
       "<div>\n",
       "<style scoped>\n",
       "    .dataframe tbody tr th:only-of-type {\n",
       "        vertical-align: middle;\n",
       "    }\n",
       "\n",
       "    .dataframe tbody tr th {\n",
       "        vertical-align: top;\n",
       "    }\n",
       "\n",
       "    .dataframe thead th {\n",
       "        text-align: right;\n",
       "    }\n",
       "</style>\n",
       "<table border=\"1\" class=\"dataframe\">\n",
       "  <thead>\n",
       "    <tr style=\"text-align: right;\">\n",
       "      <th></th>\n",
       "      <th>customer_id</th>\n",
       "      <th>month_x</th>\n",
       "      <th>purchased_meat</th>\n",
       "      <th>purchased_alcohol</th>\n",
       "      <th>purchased_snacks</th>\n",
       "      <th>month_y</th>\n",
       "      <th>days_purchased_on</th>\n",
       "    </tr>\n",
       "  </thead>\n",
       "  <tbody>\n",
       "    <tr>\n",
       "      <th>0</th>\n",
       "      <td>6732</td>\n",
       "      <td>Jan-20</td>\n",
       "      <td>0</td>\n",
       "      <td>1</td>\n",
       "      <td>10</td>\n",
       "      <td>Jan-20</td>\n",
       "      <td>0</td>\n",
       "    </tr>\n",
       "    <tr>\n",
       "      <th>1</th>\n",
       "      <td>767</td>\n",
       "      <td>Jan-20</td>\n",
       "      <td>13</td>\n",
       "      <td>2</td>\n",
       "      <td>5</td>\n",
       "      <td>Jan-20</td>\n",
       "      <td>10</td>\n",
       "    </tr>\n",
       "    <tr>\n",
       "      <th>2</th>\n",
       "      <td>890</td>\n",
       "      <td>Jan-20</td>\n",
       "      <td>3</td>\n",
       "      <td>10</td>\n",
       "      <td>1</td>\n",
       "      <td>Jan-20</td>\n",
       "      <td>4</td>\n",
       "    </tr>\n",
       "    <tr>\n",
       "      <th>3</th>\n",
       "      <td>635</td>\n",
       "      <td>Jan-20</td>\n",
       "      <td>4</td>\n",
       "      <td>0</td>\n",
       "      <td>7</td>\n",
       "      <td>Jan-20</td>\n",
       "      <td>1</td>\n",
       "    </tr>\n",
       "  </tbody>\n",
       "</table>\n",
       "</div>"
      ],
      "text/plain": [
       "  customer_id month_x  purchased_meat  purchased_alcohol  purchased_snacks  \\\n",
       "0        6732  Jan-20               0                  1                10   \n",
       "1         767  Jan-20              13                  2                 5   \n",
       "2         890  Jan-20               3                 10                 1   \n",
       "3         635  Jan-20               4                  0                 7   \n",
       "\n",
       "  month_y  days_purchased_on  \n",
       "0  Jan-20                  0  \n",
       "1  Jan-20                 10  \n",
       "2  Jan-20                  4  \n",
       "3  Jan-20                  1  "
      ]
     },
     "execution_count": 15,
     "metadata": {},
     "output_type": "execute_result"
    }
   ],
   "source": [
    "df_merged"
   ]
  },
  {
   "cell_type": "markdown",
   "id": "f7262deb",
   "metadata": {},
   "source": [
    "### above we noticed that the additional of the on=customer_id column tells pandas that the customer_id column is the common column between the two. the result is a wide format dataframe with all the information from both dataframes and most importantly, no rows with missing values."
   ]
  },
  {
   "cell_type": "markdown",
   "id": "179e9dce",
   "metadata": {},
   "source": [
    "### now we know that months are same so how merged it? more then one parameter so using [ ] "
   ]
  },
  {
   "cell_type": "code",
   "execution_count": 16,
   "id": "66c6a7cf",
   "metadata": {},
   "outputs": [],
   "source": [
    "df_merged = df.merge(df_2, on = ['customer_id', 'month'])"
   ]
  },
  {
   "cell_type": "code",
   "execution_count": 17,
   "id": "23d80d4c",
   "metadata": {},
   "outputs": [
    {
     "data": {
      "text/html": [
       "<div>\n",
       "<style scoped>\n",
       "    .dataframe tbody tr th:only-of-type {\n",
       "        vertical-align: middle;\n",
       "    }\n",
       "\n",
       "    .dataframe tbody tr th {\n",
       "        vertical-align: top;\n",
       "    }\n",
       "\n",
       "    .dataframe thead th {\n",
       "        text-align: right;\n",
       "    }\n",
       "</style>\n",
       "<table border=\"1\" class=\"dataframe\">\n",
       "  <thead>\n",
       "    <tr style=\"text-align: right;\">\n",
       "      <th></th>\n",
       "      <th>customer_id</th>\n",
       "      <th>month</th>\n",
       "      <th>purchased_meat</th>\n",
       "      <th>purchased_alcohol</th>\n",
       "      <th>purchased_snacks</th>\n",
       "      <th>days_purchased_on</th>\n",
       "    </tr>\n",
       "  </thead>\n",
       "  <tbody>\n",
       "    <tr>\n",
       "      <th>0</th>\n",
       "      <td>6732</td>\n",
       "      <td>Jan-20</td>\n",
       "      <td>0</td>\n",
       "      <td>1</td>\n",
       "      <td>10</td>\n",
       "      <td>0</td>\n",
       "    </tr>\n",
       "    <tr>\n",
       "      <th>1</th>\n",
       "      <td>767</td>\n",
       "      <td>Jan-20</td>\n",
       "      <td>13</td>\n",
       "      <td>2</td>\n",
       "      <td>5</td>\n",
       "      <td>10</td>\n",
       "    </tr>\n",
       "    <tr>\n",
       "      <th>2</th>\n",
       "      <td>890</td>\n",
       "      <td>Jan-20</td>\n",
       "      <td>3</td>\n",
       "      <td>10</td>\n",
       "      <td>1</td>\n",
       "      <td>4</td>\n",
       "    </tr>\n",
       "    <tr>\n",
       "      <th>3</th>\n",
       "      <td>635</td>\n",
       "      <td>Jan-20</td>\n",
       "      <td>4</td>\n",
       "      <td>0</td>\n",
       "      <td>7</td>\n",
       "      <td>1</td>\n",
       "    </tr>\n",
       "  </tbody>\n",
       "</table>\n",
       "</div>"
      ],
      "text/plain": [
       "  customer_id   month  purchased_meat  purchased_alcohol  purchased_snacks  \\\n",
       "0        6732  Jan-20               0                  1                10   \n",
       "1         767  Jan-20              13                  2                 5   \n",
       "2         890  Jan-20               3                 10                 1   \n",
       "3         635  Jan-20               4                  0                 7   \n",
       "\n",
       "   days_purchased_on  \n",
       "0                  0  \n",
       "1                 10  \n",
       "2                  4  \n",
       "3                  1  "
      ]
     },
     "execution_count": 17,
     "metadata": {},
     "output_type": "execute_result"
    }
   ],
   "source": [
    "df_merged"
   ]
  },
  {
   "cell_type": "markdown",
   "id": "a310e992",
   "metadata": {},
   "source": [
    "### A quick and easy way to check for a full match is via the indicator=True argument.It creates additional column.if you find 'both' means key exists in both dataframes. while value of left_only or right_only indicates that the key only exists in either the left or right dataframe.  If every row within the dataframes returns a value of 'both' it means you have full match between your dataframes."
   ]
  },
  {
   "cell_type": "code",
   "execution_count": 18,
   "id": "322e9436",
   "metadata": {},
   "outputs": [],
   "source": [
    "df_merged = df.merge(df_2, on = ['customer_id', 'month'], indicator = True)"
   ]
  },
  {
   "cell_type": "code",
   "execution_count": 19,
   "id": "5f5edd2b",
   "metadata": {},
   "outputs": [
    {
     "data": {
      "text/html": [
       "<div>\n",
       "<style scoped>\n",
       "    .dataframe tbody tr th:only-of-type {\n",
       "        vertical-align: middle;\n",
       "    }\n",
       "\n",
       "    .dataframe tbody tr th {\n",
       "        vertical-align: top;\n",
       "    }\n",
       "\n",
       "    .dataframe thead th {\n",
       "        text-align: right;\n",
       "    }\n",
       "</style>\n",
       "<table border=\"1\" class=\"dataframe\">\n",
       "  <thead>\n",
       "    <tr style=\"text-align: right;\">\n",
       "      <th></th>\n",
       "      <th>customer_id</th>\n",
       "      <th>month</th>\n",
       "      <th>purchased_meat</th>\n",
       "      <th>purchased_alcohol</th>\n",
       "      <th>purchased_snacks</th>\n",
       "      <th>days_purchased_on</th>\n",
       "      <th>_merge</th>\n",
       "    </tr>\n",
       "  </thead>\n",
       "  <tbody>\n",
       "    <tr>\n",
       "      <th>0</th>\n",
       "      <td>6732</td>\n",
       "      <td>Jan-20</td>\n",
       "      <td>0</td>\n",
       "      <td>1</td>\n",
       "      <td>10</td>\n",
       "      <td>0</td>\n",
       "      <td>both</td>\n",
       "    </tr>\n",
       "    <tr>\n",
       "      <th>1</th>\n",
       "      <td>767</td>\n",
       "      <td>Jan-20</td>\n",
       "      <td>13</td>\n",
       "      <td>2</td>\n",
       "      <td>5</td>\n",
       "      <td>10</td>\n",
       "      <td>both</td>\n",
       "    </tr>\n",
       "    <tr>\n",
       "      <th>2</th>\n",
       "      <td>890</td>\n",
       "      <td>Jan-20</td>\n",
       "      <td>3</td>\n",
       "      <td>10</td>\n",
       "      <td>1</td>\n",
       "      <td>4</td>\n",
       "      <td>both</td>\n",
       "    </tr>\n",
       "    <tr>\n",
       "      <th>3</th>\n",
       "      <td>635</td>\n",
       "      <td>Jan-20</td>\n",
       "      <td>4</td>\n",
       "      <td>0</td>\n",
       "      <td>7</td>\n",
       "      <td>1</td>\n",
       "      <td>both</td>\n",
       "    </tr>\n",
       "  </tbody>\n",
       "</table>\n",
       "</div>"
      ],
      "text/plain": [
       "  customer_id   month  purchased_meat  purchased_alcohol  purchased_snacks  \\\n",
       "0        6732  Jan-20               0                  1                10   \n",
       "1         767  Jan-20              13                  2                 5   \n",
       "2         890  Jan-20               3                 10                 1   \n",
       "3         635  Jan-20               4                  0                 7   \n",
       "\n",
       "   days_purchased_on _merge  \n",
       "0                  0   both  \n",
       "1                 10   both  \n",
       "2                  4   both  \n",
       "3                  1   both  "
      ]
     },
     "execution_count": 19,
     "metadata": {},
     "output_type": "execute_result"
    }
   ],
   "source": [
    "df_merged"
   ]
  },
  {
   "cell_type": "markdown",
   "id": "6500378d",
   "metadata": {},
   "source": [
    "### you can check frequency on this column, you will quickly able to see how many rows in the new dataframe have a value of both, right_only and left_only."
   ]
  },
  {
   "cell_type": "code",
   "execution_count": 20,
   "id": "dd5c8924",
   "metadata": {},
   "outputs": [
    {
     "data": {
      "text/plain": [
       "_merge\n",
       "both          4\n",
       "left_only     0\n",
       "right_only    0\n",
       "Name: count, dtype: int64"
      ]
     },
     "execution_count": 20,
     "metadata": {},
     "output_type": "execute_result"
    }
   ],
   "source": [
    "df_merged['_merge']. value_counts()"
   ]
  },
  {
   "cell_type": "markdown",
   "id": "d4ceef00",
   "metadata": {},
   "source": [
    "###using 'how' argument. how you want tthe dataframes to be merged and it can tajke the values left, right, inner or outer.Inner join is used to keep only information that is present in both datasets."
   ]
  },
  {
   "cell_type": "code",
   "execution_count": 21,
   "id": "0ee66852",
   "metadata": {},
   "outputs": [
    {
     "data": {
      "text/html": [
       "<div>\n",
       "<style scoped>\n",
       "    .dataframe tbody tr th:only-of-type {\n",
       "        vertical-align: middle;\n",
       "    }\n",
       "\n",
       "    .dataframe tbody tr th {\n",
       "        vertical-align: top;\n",
       "    }\n",
       "\n",
       "    .dataframe thead th {\n",
       "        text-align: right;\n",
       "    }\n",
       "</style>\n",
       "<table border=\"1\" class=\"dataframe\">\n",
       "  <thead>\n",
       "    <tr style=\"text-align: right;\">\n",
       "      <th></th>\n",
       "      <th>customer_id</th>\n",
       "      <th>month</th>\n",
       "      <th>purchased_meat</th>\n",
       "      <th>purchased_alcohol</th>\n",
       "      <th>purchased_snacks</th>\n",
       "      <th>days_purchased_on</th>\n",
       "    </tr>\n",
       "  </thead>\n",
       "  <tbody>\n",
       "    <tr>\n",
       "      <th>0</th>\n",
       "      <td>6732</td>\n",
       "      <td>Jan-20</td>\n",
       "      <td>0</td>\n",
       "      <td>1</td>\n",
       "      <td>10</td>\n",
       "      <td>0</td>\n",
       "    </tr>\n",
       "    <tr>\n",
       "      <th>1</th>\n",
       "      <td>767</td>\n",
       "      <td>Jan-20</td>\n",
       "      <td>13</td>\n",
       "      <td>2</td>\n",
       "      <td>5</td>\n",
       "      <td>10</td>\n",
       "    </tr>\n",
       "    <tr>\n",
       "      <th>2</th>\n",
       "      <td>890</td>\n",
       "      <td>Jan-20</td>\n",
       "      <td>3</td>\n",
       "      <td>10</td>\n",
       "      <td>1</td>\n",
       "      <td>4</td>\n",
       "    </tr>\n",
       "    <tr>\n",
       "      <th>3</th>\n",
       "      <td>635</td>\n",
       "      <td>Jan-20</td>\n",
       "      <td>4</td>\n",
       "      <td>0</td>\n",
       "      <td>7</td>\n",
       "      <td>1</td>\n",
       "    </tr>\n",
       "  </tbody>\n",
       "</table>\n",
       "</div>"
      ],
      "text/plain": [
       "  customer_id   month  purchased_meat  purchased_alcohol  purchased_snacks  \\\n",
       "0        6732  Jan-20               0                  1                10   \n",
       "1         767  Jan-20              13                  2                 5   \n",
       "2         890  Jan-20               3                 10                 1   \n",
       "3         635  Jan-20               4                  0                 7   \n",
       "\n",
       "   days_purchased_on  \n",
       "0                  0  \n",
       "1                 10  \n",
       "2                  4  \n",
       "3                  1  "
      ]
     },
     "execution_count": 21,
     "metadata": {},
     "output_type": "execute_result"
    }
   ],
   "source": [
    "df.merge(df_2, on = ['customer_id', 'month'], how = 'inner')"
   ]
  },
  {
   "cell_type": "code",
   "execution_count": null,
   "id": "a3e6ceda",
   "metadata": {},
   "outputs": [],
   "source": []
  }
 ],
 "metadata": {
  "kernelspec": {
   "display_name": "Python 3 (ipykernel)",
   "language": "python",
   "name": "python3"
  },
  "language_info": {
   "codemirror_mode": {
    "name": "ipython",
    "version": 3
   },
   "file_extension": ".py",
   "mimetype": "text/x-python",
   "name": "python",
   "nbconvert_exporter": "python",
   "pygments_lexer": "ipython3",
   "version": "3.11.7"
  }
 },
 "nbformat": 4,
 "nbformat_minor": 5
}
