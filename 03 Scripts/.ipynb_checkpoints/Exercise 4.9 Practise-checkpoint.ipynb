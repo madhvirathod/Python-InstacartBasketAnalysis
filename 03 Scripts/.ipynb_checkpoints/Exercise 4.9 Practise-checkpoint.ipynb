{
 "cells": [
  {
   "cell_type": "markdown",
   "id": "2f881081",
   "metadata": {},
   "source": [
    "## Importing libraries"
   ]
  },
  {
   "cell_type": "code",
   "execution_count": 1,
   "id": "e3c1b157",
   "metadata": {},
   "outputs": [],
   "source": [
    "import pandas as pd\n",
    "import numpy as np\n",
    "import os\n",
    "import matplotlib.pyplot as plt\n",
    "import seaborn as sns\n",
    "import scipy"
   ]
  },
  {
   "cell_type": "code",
   "execution_count": 2,
   "id": "f0e2d25f",
   "metadata": {},
   "outputs": [],
   "source": [
    "path=r\"C:\\Users\\tjsra\\OneDrive\\Desktop\\INSTACART BASKET ANALYSIS\""
   ]
  },
  {
   "cell_type": "code",
   "execution_count": 3,
   "id": "c2a9e64c",
   "metadata": {},
   "outputs": [],
   "source": [
    "ords_prods_merge = pd.read_pickle(os.path.join(path, '02 Data','Prepared Data', 'orders_products_merged_grouped.pkl'))"
   ]
  },
  {
   "cell_type": "code",
   "execution_count": 5,
   "id": "99d5f1cb",
   "metadata": {},
   "outputs": [
    {
     "data": {
      "text/plain": [
       "(9918253, 25)"
      ]
     },
     "execution_count": 5,
     "metadata": {},
     "output_type": "execute_result"
    }
   ],
   "source": [
    "ords_prods_merge.shape"
   ]
  },
  {
   "cell_type": "code",
   "execution_count": 6,
   "id": "107873d0",
   "metadata": {},
   "outputs": [
    {
     "data": {
      "text/html": [
       "<div>\n",
       "<style scoped>\n",
       "    .dataframe tbody tr th:only-of-type {\n",
       "        vertical-align: middle;\n",
       "    }\n",
       "\n",
       "    .dataframe tbody tr th {\n",
       "        vertical-align: top;\n",
       "    }\n",
       "\n",
       "    .dataframe thead th {\n",
       "        text-align: right;\n",
       "    }\n",
       "</style>\n",
       "<table border=\"1\" class=\"dataframe\">\n",
       "  <thead>\n",
       "    <tr style=\"text-align: right;\">\n",
       "      <th></th>\n",
       "      <th>product_id</th>\n",
       "      <th>product_name</th>\n",
       "      <th>aisle_id</th>\n",
       "      <th>department_id</th>\n",
       "      <th>prices</th>\n",
       "      <th>order_id</th>\n",
       "      <th>user_id</th>\n",
       "      <th>order_number</th>\n",
       "      <th>order_day_of_week</th>\n",
       "      <th>order_hour_of_day</th>\n",
       "      <th>...</th>\n",
       "      <th>price_range_loc</th>\n",
       "      <th>busiest_day</th>\n",
       "      <th>busiest_days</th>\n",
       "      <th>busiest_period_of_day</th>\n",
       "      <th>max_order</th>\n",
       "      <th>loyalty_flag</th>\n",
       "      <th>mean_product_price</th>\n",
       "      <th>spending_flag</th>\n",
       "      <th>median_days_between_orders</th>\n",
       "      <th>order_frequency</th>\n",
       "    </tr>\n",
       "  </thead>\n",
       "  <tbody>\n",
       "    <tr>\n",
       "      <th>0</th>\n",
       "      <td>1</td>\n",
       "      <td>Chocolate Sandwich Cookies</td>\n",
       "      <td>61</td>\n",
       "      <td>19</td>\n",
       "      <td>5.8</td>\n",
       "      <td>3139998</td>\n",
       "      <td>138</td>\n",
       "      <td>28</td>\n",
       "      <td>6</td>\n",
       "      <td>11</td>\n",
       "      <td>...</td>\n",
       "      <td>Mid-range product</td>\n",
       "      <td>Regularly busy</td>\n",
       "      <td>Regularly busy</td>\n",
       "      <td>Most orders</td>\n",
       "      <td>32</td>\n",
       "      <td>Regular customer</td>\n",
       "      <td>6.935811</td>\n",
       "      <td>Low spender</td>\n",
       "      <td>8.0</td>\n",
       "      <td>Frequent customer</td>\n",
       "    </tr>\n",
       "    <tr>\n",
       "      <th>1</th>\n",
       "      <td>1</td>\n",
       "      <td>Chocolate Sandwich Cookies</td>\n",
       "      <td>61</td>\n",
       "      <td>19</td>\n",
       "      <td>5.8</td>\n",
       "      <td>1977647</td>\n",
       "      <td>138</td>\n",
       "      <td>30</td>\n",
       "      <td>6</td>\n",
       "      <td>17</td>\n",
       "      <td>...</td>\n",
       "      <td>Mid-range product</td>\n",
       "      <td>Regularly busy</td>\n",
       "      <td>Regularly busy</td>\n",
       "      <td>Average orders</td>\n",
       "      <td>32</td>\n",
       "      <td>Regular customer</td>\n",
       "      <td>6.935811</td>\n",
       "      <td>Low spender</td>\n",
       "      <td>8.0</td>\n",
       "      <td>Frequent customer</td>\n",
       "    </tr>\n",
       "    <tr>\n",
       "      <th>2</th>\n",
       "      <td>1</td>\n",
       "      <td>Chocolate Sandwich Cookies</td>\n",
       "      <td>61</td>\n",
       "      <td>19</td>\n",
       "      <td>5.8</td>\n",
       "      <td>389851</td>\n",
       "      <td>709</td>\n",
       "      <td>2</td>\n",
       "      <td>0</td>\n",
       "      <td>21</td>\n",
       "      <td>...</td>\n",
       "      <td>Mid-range product</td>\n",
       "      <td>Busiest day</td>\n",
       "      <td>Busiest days</td>\n",
       "      <td>Average orders</td>\n",
       "      <td>5</td>\n",
       "      <td>New customer</td>\n",
       "      <td>7.930208</td>\n",
       "      <td>Low spender</td>\n",
       "      <td>8.0</td>\n",
       "      <td>Frequent customer</td>\n",
       "    </tr>\n",
       "    <tr>\n",
       "      <th>3</th>\n",
       "      <td>1</td>\n",
       "      <td>Chocolate Sandwich Cookies</td>\n",
       "      <td>61</td>\n",
       "      <td>19</td>\n",
       "      <td>5.8</td>\n",
       "      <td>652770</td>\n",
       "      <td>764</td>\n",
       "      <td>1</td>\n",
       "      <td>3</td>\n",
       "      <td>13</td>\n",
       "      <td>...</td>\n",
       "      <td>Mid-range product</td>\n",
       "      <td>Regularly busy</td>\n",
       "      <td>Slowest days</td>\n",
       "      <td>Most orders</td>\n",
       "      <td>3</td>\n",
       "      <td>New customer</td>\n",
       "      <td>4.972414</td>\n",
       "      <td>Low spender</td>\n",
       "      <td>9.0</td>\n",
       "      <td>Frequent customer</td>\n",
       "    </tr>\n",
       "    <tr>\n",
       "      <th>4</th>\n",
       "      <td>1</td>\n",
       "      <td>Chocolate Sandwich Cookies</td>\n",
       "      <td>61</td>\n",
       "      <td>19</td>\n",
       "      <td>5.8</td>\n",
       "      <td>1813452</td>\n",
       "      <td>764</td>\n",
       "      <td>3</td>\n",
       "      <td>4</td>\n",
       "      <td>17</td>\n",
       "      <td>...</td>\n",
       "      <td>Mid-range product</td>\n",
       "      <td>Least busy</td>\n",
       "      <td>Slowest days</td>\n",
       "      <td>Average orders</td>\n",
       "      <td>3</td>\n",
       "      <td>New customer</td>\n",
       "      <td>4.972414</td>\n",
       "      <td>Low spender</td>\n",
       "      <td>9.0</td>\n",
       "      <td>Frequent customer</td>\n",
       "    </tr>\n",
       "  </tbody>\n",
       "</table>\n",
       "<p>5 rows × 25 columns</p>\n",
       "</div>"
      ],
      "text/plain": [
       "   product_id                product_name  aisle_id  department_id  prices  \\\n",
       "0           1  Chocolate Sandwich Cookies        61             19     5.8   \n",
       "1           1  Chocolate Sandwich Cookies        61             19     5.8   \n",
       "2           1  Chocolate Sandwich Cookies        61             19     5.8   \n",
       "3           1  Chocolate Sandwich Cookies        61             19     5.8   \n",
       "4           1  Chocolate Sandwich Cookies        61             19     5.8   \n",
       "\n",
       "   order_id  user_id  order_number  order_day_of_week  order_hour_of_day  ...  \\\n",
       "0   3139998      138            28                  6                 11  ...   \n",
       "1   1977647      138            30                  6                 17  ...   \n",
       "2    389851      709             2                  0                 21  ...   \n",
       "3    652770      764             1                  3                 13  ...   \n",
       "4   1813452      764             3                  4                 17  ...   \n",
       "\n",
       "     price_range_loc     busiest_day    busiest_days  busiest_period_of_day  \\\n",
       "0  Mid-range product  Regularly busy  Regularly busy            Most orders   \n",
       "1  Mid-range product  Regularly busy  Regularly busy         Average orders   \n",
       "2  Mid-range product     Busiest day    Busiest days         Average orders   \n",
       "3  Mid-range product  Regularly busy    Slowest days            Most orders   \n",
       "4  Mid-range product      Least busy    Slowest days         Average orders   \n",
       "\n",
       "  max_order      loyalty_flag mean_product_price spending_flag  \\\n",
       "0        32  Regular customer           6.935811   Low spender   \n",
       "1        32  Regular customer           6.935811   Low spender   \n",
       "2         5      New customer           7.930208   Low spender   \n",
       "3         3      New customer           4.972414   Low spender   \n",
       "4         3      New customer           4.972414   Low spender   \n",
       "\n",
       "  median_days_between_orders    order_frequency  \n",
       "0                        8.0  Frequent customer  \n",
       "1                        8.0  Frequent customer  \n",
       "2                        8.0  Frequent customer  \n",
       "3                        9.0  Frequent customer  \n",
       "4                        9.0  Frequent customer  \n",
       "\n",
       "[5 rows x 25 columns]"
      ]
     },
     "execution_count": 6,
     "metadata": {},
     "output_type": "execute_result"
    }
   ],
   "source": [
    "ords_prods_merge.head()"
   ]
  },
  {
   "cell_type": "markdown",
   "id": "800949c8",
   "metadata": {},
   "source": [
    " ## Creating Bar Chart with the column 'order_day_of_week'"
   ]
  },
  {
   "cell_type": "code",
   "execution_count": 7,
   "id": "0dd16dfc",
   "metadata": {},
   "outputs": [
    {
     "data": {
      "text/plain": [
       "<Axes: xlabel='order_day_of_week'>"
      ]
     },
     "execution_count": 7,
     "metadata": {},
     "output_type": "execute_result"
    },
    {
     "data": {
      "image/png": "[encoded data removed]",
      "text/plain": [
       "<Figure size 640x480 with 1 Axes>"
      ]
     },
     "metadata": {},
     "output_type": "display_data"
    }
   ],
   "source": [
    "ords_prods_merge['order_day_of_week'].value_counts().plot.bar()"
   ]
  },
  {
   "cell_type": "markdown",
   "id": "b09c0e86",
   "metadata": {},
   "source": [
    "###  Creating bar chart with sort_index()."
   ]
  },
  {
   "cell_type": "code",
   "execution_count": 8,
   "id": "e1524b0e",
   "metadata": {},
   "outputs": [
    {
     "data": {
      "image/png": "[encoded data removed]",
      "text/plain": [
       "<Figure size 640x480 with 1 Axes>"
      ]
     },
     "metadata": {},
     "output_type": "display_data"
    }
   ],
   "source": [
    "bar=ords_prods_merge['order_day_of_week'].value_counts().sort_index().plot.bar()"
   ]
  },
  {
   "cell_type": "markdown",
   "id": "21da3b44",
   "metadata": {},
   "source": [
    "### printing frequency with and without sort_index"
   ]
  },
  {
   "cell_type": "code",
   "execution_count": 9,
   "id": "96eb550e",
   "metadata": {},
   "outputs": [
    {
     "data": {
      "text/plain": [
       "order_day_of_week\n",
       "0    1894196\n",
       "1    1729956\n",
       "6    1382396\n",
       "5    1291406\n",
       "2    1286645\n",
       "3    1176810\n",
       "4    1156844\n",
       "Name: count, dtype: int64"
      ]
     },
     "execution_count": 9,
     "metadata": {},
     "output_type": "execute_result"
    }
   ],
   "source": [
    "ords_prods_merge['order_day_of_week'].value_counts()"
   ]
  },
  {
   "cell_type": "code",
   "execution_count": 10,
   "id": "3cd0cdfc",
   "metadata": {},
   "outputs": [
    {
     "data": {
      "text/plain": [
       "order_day_of_week\n",
       "0    1894196\n",
       "1    1729956\n",
       "2    1286645\n",
       "3    1176810\n",
       "4    1156844\n",
       "5    1291406\n",
       "6    1382396\n",
       "Name: count, dtype: int64"
      ]
     },
     "execution_count": 10,
     "metadata": {},
     "output_type": "execute_result"
    }
   ],
   "source": [
    "ords_prods_merge['order_day_of_week'].value_counts().sort_index()"
   ]
  },
  {
   "cell_type": "markdown",
   "id": "5ffcd807",
   "metadata": {},
   "source": [
    "### You can change the color of bar with color argument"
   ]
  },
  {
   "cell_type": "code",
   "execution_count": 12,
   "id": "19817c8f",
   "metadata": {},
   "outputs": [
    {
     "data": {
      "image/png": "[encoded data removed]",
      "text/plain": [
       "<Figure size 640x480 with 1 Axes>"
      ]
     },
     "metadata": {},
     "output_type": "display_data"
    }
   ],
   "source": [
    "bar = ords_prods_merge['order_day_of_week'].value_counts().plot.bar(color =['purple', 'red', 'pink', 'orange', 'yellow', 'green','blue'])"
   ]
  },
  {
   "cell_type": "markdown",
   "id": "4ea848f6",
   "metadata": {},
   "source": [
    "### Export or save charts in your pc folder"
   ]
  },
  {
   "cell_type": "code",
   "execution_count": 15,
   "id": "98cca9dc",
   "metadata": {},
   "outputs": [],
   "source": [
    "bar.figure.savefig(os.path.join(path, '04 Analysis','Visualizations', 'bar_order_day_of_week.png'))"
   ]
  },
  {
   "cell_type": "markdown",
   "id": "a54338ef",
   "metadata": {},
   "source": [
    "## Create a Histogram chart"
   ]
  },
  {
   "cell_type": "code",
   "execution_count": 16,
   "id": "6e2dbf94",
   "metadata": {},
   "outputs": [
    {
     "data": {
      "text/plain": [
       "<Axes: ylabel='Frequency'>"
      ]
     },
     "execution_count": 16,
     "metadata": {},
     "output_type": "execute_result"
    },
    {
     "data": {
      "image/png": "[encoded data removed]",
      "text/plain": [
       "<Figure size 640x480 with 1 Axes>"
      ]
     },
     "metadata": {},
     "output_type": "display_data"
    }
   ],
   "source": [
    "ords_prods_merge['prices'].plot.hist(bins = 25)"
   ]
  },
  {
   "cell_type": "markdown",
   "id": "8bb73794",
   "metadata": {},
   "source": [
    "### here is an problem with data integrity checks.(ex 4.5)"
   ]
  },
  {
   "cell_type": "code",
   "execution_count": 17,
   "id": "076964f7",
   "metadata": {},
   "outputs": [
    {
     "data": {
      "text/plain": [
       "count    9.918253e+06\n",
       "mean     1.116030e+01\n",
       "std      4.168003e+02\n",
       "min      1.000000e+00\n",
       "25%      4.200000e+00\n",
       "50%      7.400000e+00\n",
       "75%      1.130000e+01\n",
       "max      9.999900e+04\n",
       "Name: prices, dtype: float64"
      ]
     },
     "execution_count": 17,
     "metadata": {},
     "output_type": "execute_result"
    }
   ],
   "source": [
    "ords_prods_merge['prices'].describe()"
   ]
  },
  {
   "cell_type": "markdown",
   "id": "7014f64c",
   "metadata": {},
   "source": [
    "### here something wrong with max value. its 99999 so there is no iteam whose value is this much big.its called extreme value and this forcing histogram to shove all the small values into one bar"
   ]
  },
  {
   "cell_type": "code",
   "execution_count": 18,
   "id": "4a601346",
   "metadata": {},
   "outputs": [
    {
     "data": {
      "text/plain": [
       "11.160295709335092"
      ]
     },
     "execution_count": 18,
     "metadata": {},
     "output_type": "execute_result"
    }
   ],
   "source": [
    "ords_prods_merge['prices'].mean()"
   ]
  },
  {
   "cell_type": "code",
   "execution_count": 19,
   "id": "2a90480d",
   "metadata": {},
   "outputs": [
    {
     "data": {
      "text/plain": [
       "7.4"
      ]
     },
     "execution_count": 19,
     "metadata": {},
     "output_type": "execute_result"
    }
   ],
   "source": [
    "ords_prods_merge['prices'].median()"
   ]
  },
  {
   "cell_type": "code",
   "execution_count": 20,
   "id": "2c530e26",
   "metadata": {},
   "outputs": [
    {
     "data": {
      "text/plain": [
       "99999.0"
      ]
     },
     "execution_count": 20,
     "metadata": {},
     "output_type": "execute_result"
    }
   ],
   "source": [
    "ords_prods_merge['prices'].max()"
   ]
  },
  {
   "cell_type": "markdown",
   "id": "e352a6d5",
   "metadata": {},
   "source": [
    "## Create scatterplot to see outliers with the column 'prices'"
   ]
  },
  {
   "cell_type": "code",
   "execution_count": 21,
   "id": "ca4451fb",
   "metadata": {},
   "outputs": [
    {
     "data": {
      "text/plain": [
       "<Axes: xlabel='prices', ylabel='prices'>"
      ]
     },
     "execution_count": 21,
     "metadata": {},
     "output_type": "execute_result"
    },
    {
     "data": {
      "image/png": "[encoded data removed]",
      "text/plain": [
       "<Figure size 640x480 with 1 Axes>"
      ]
     },
     "metadata": {},
     "output_type": "display_data"
    }
   ],
   "source": [
    "sns.scatterplot(x = 'prices', y = 'prices',data = ords_prods_merge)"
   ]
  },
  {
   "cell_type": "markdown",
   "id": "9efd0f4e",
   "metadata": {},
   "source": [
    "### now here outliers shows that there are prices near 100000 and 20000 which represents that there are many iteams which prices are about these two numbers(prices). lets check it"
   ]
  },
  {
   "cell_type": "code",
   "execution_count": 22,
   "id": "39d61f0b",
   "metadata": {},
   "outputs": [
    {
     "data": {
      "text/html": [
       "<div>\n",
       "<style scoped>\n",
       "    .dataframe tbody tr th:only-of-type {\n",
       "        vertical-align: middle;\n",
       "    }\n",
       "\n",
       "    .dataframe tbody tr th {\n",
       "        vertical-align: top;\n",
       "    }\n",
       "\n",
       "    .dataframe thead th {\n",
       "        text-align: right;\n",
       "    }\n",
       "</style>\n",
       "<table border=\"1\" class=\"dataframe\">\n",
       "  <thead>\n",
       "    <tr style=\"text-align: right;\">\n",
       "      <th></th>\n",
       "      <th>product_id</th>\n",
       "      <th>product_name</th>\n",
       "      <th>aisle_id</th>\n",
       "      <th>department_id</th>\n",
       "      <th>prices</th>\n",
       "      <th>order_id</th>\n",
       "      <th>user_id</th>\n",
       "      <th>order_number</th>\n",
       "      <th>order_day_of_week</th>\n",
       "      <th>order_hour_of_day</th>\n",
       "      <th>...</th>\n",
       "      <th>price_range_loc</th>\n",
       "      <th>busiest_day</th>\n",
       "      <th>busiest_days</th>\n",
       "      <th>busiest_period_of_day</th>\n",
       "      <th>max_order</th>\n",
       "      <th>loyalty_flag</th>\n",
       "      <th>mean_product_price</th>\n",
       "      <th>spending_flag</th>\n",
       "      <th>median_days_between_orders</th>\n",
       "      <th>order_frequency</th>\n",
       "    </tr>\n",
       "  </thead>\n",
       "  <tbody>\n",
       "    <tr>\n",
       "      <th>4010767</th>\n",
       "      <td>21553</td>\n",
       "      <td>Lowfat 2% Milkfat Cottage Cheese</td>\n",
       "      <td>108</td>\n",
       "      <td>16</td>\n",
       "      <td>14900.0</td>\n",
       "      <td>912404</td>\n",
       "      <td>17</td>\n",
       "      <td>12</td>\n",
       "      <td>2</td>\n",
       "      <td>14</td>\n",
       "      <td>...</td>\n",
       "      <td>High-range product</td>\n",
       "      <td>Regularly busy</td>\n",
       "      <td>Regularly busy</td>\n",
       "      <td>Most orders</td>\n",
       "      <td>40</td>\n",
       "      <td>Regular customer</td>\n",
       "      <td>108.648299</td>\n",
       "      <td>High spender</td>\n",
       "      <td>5.0</td>\n",
       "      <td>Frequent customer</td>\n",
       "    </tr>\n",
       "    <tr>\n",
       "      <th>4010768</th>\n",
       "      <td>21553</td>\n",
       "      <td>Lowfat 2% Milkfat Cottage Cheese</td>\n",
       "      <td>108</td>\n",
       "      <td>16</td>\n",
       "      <td>14900.0</td>\n",
       "      <td>603376</td>\n",
       "      <td>17</td>\n",
       "      <td>22</td>\n",
       "      <td>6</td>\n",
       "      <td>16</td>\n",
       "      <td>...</td>\n",
       "      <td>High-range product</td>\n",
       "      <td>Regularly busy</td>\n",
       "      <td>Regularly busy</td>\n",
       "      <td>Most orders</td>\n",
       "      <td>40</td>\n",
       "      <td>Regular customer</td>\n",
       "      <td>108.648299</td>\n",
       "      <td>High spender</td>\n",
       "      <td>5.0</td>\n",
       "      <td>Frequent customer</td>\n",
       "    </tr>\n",
       "    <tr>\n",
       "      <th>4010769</th>\n",
       "      <td>21553</td>\n",
       "      <td>Lowfat 2% Milkfat Cottage Cheese</td>\n",
       "      <td>108</td>\n",
       "      <td>16</td>\n",
       "      <td>14900.0</td>\n",
       "      <td>3264360</td>\n",
       "      <td>135</td>\n",
       "      <td>2</td>\n",
       "      <td>2</td>\n",
       "      <td>21</td>\n",
       "      <td>...</td>\n",
       "      <td>High-range product</td>\n",
       "      <td>Regularly busy</td>\n",
       "      <td>Regularly busy</td>\n",
       "      <td>Average orders</td>\n",
       "      <td>4</td>\n",
       "      <td>New customer</td>\n",
       "      <td>1154.792308</td>\n",
       "      <td>High spender</td>\n",
       "      <td>12.0</td>\n",
       "      <td>Regular customer</td>\n",
       "    </tr>\n",
       "    <tr>\n",
       "      <th>4010770</th>\n",
       "      <td>21553</td>\n",
       "      <td>Lowfat 2% Milkfat Cottage Cheese</td>\n",
       "      <td>108</td>\n",
       "      <td>16</td>\n",
       "      <td>14900.0</td>\n",
       "      <td>892534</td>\n",
       "      <td>135</td>\n",
       "      <td>3</td>\n",
       "      <td>0</td>\n",
       "      <td>8</td>\n",
       "      <td>...</td>\n",
       "      <td>High-range product</td>\n",
       "      <td>Busiest day</td>\n",
       "      <td>Busiest days</td>\n",
       "      <td>Average orders</td>\n",
       "      <td>4</td>\n",
       "      <td>New customer</td>\n",
       "      <td>1154.792308</td>\n",
       "      <td>High spender</td>\n",
       "      <td>12.0</td>\n",
       "      <td>Regular customer</td>\n",
       "    </tr>\n",
       "    <tr>\n",
       "      <th>4010771</th>\n",
       "      <td>21553</td>\n",
       "      <td>Lowfat 2% Milkfat Cottage Cheese</td>\n",
       "      <td>108</td>\n",
       "      <td>16</td>\n",
       "      <td>14900.0</td>\n",
       "      <td>229704</td>\n",
       "      <td>342</td>\n",
       "      <td>8</td>\n",
       "      <td>1</td>\n",
       "      <td>19</td>\n",
       "      <td>...</td>\n",
       "      <td>High-range product</td>\n",
       "      <td>Regularly busy</td>\n",
       "      <td>Busiest days</td>\n",
       "      <td>Average orders</td>\n",
       "      <td>16</td>\n",
       "      <td>Regular customer</td>\n",
       "      <td>114.426619</td>\n",
       "      <td>High spender</td>\n",
       "      <td>23.0</td>\n",
       "      <td>Non-frequent customer</td>\n",
       "    </tr>\n",
       "    <tr>\n",
       "      <th>...</th>\n",
       "      <td>...</td>\n",
       "      <td>...</td>\n",
       "      <td>...</td>\n",
       "      <td>...</td>\n",
       "      <td>...</td>\n",
       "      <td>...</td>\n",
       "      <td>...</td>\n",
       "      <td>...</td>\n",
       "      <td>...</td>\n",
       "      <td>...</td>\n",
       "      <td>...</td>\n",
       "      <td>...</td>\n",
       "      <td>...</td>\n",
       "      <td>...</td>\n",
       "      <td>...</td>\n",
       "      <td>...</td>\n",
       "      <td>...</td>\n",
       "      <td>...</td>\n",
       "      <td>...</td>\n",
       "      <td>...</td>\n",
       "      <td>...</td>\n",
       "    </tr>\n",
       "    <tr>\n",
       "      <th>6670867</th>\n",
       "      <td>33664</td>\n",
       "      <td>2 % Reduced Fat  Milk</td>\n",
       "      <td>84</td>\n",
       "      <td>16</td>\n",
       "      <td>99999.0</td>\n",
       "      <td>1129338</td>\n",
       "      <td>58405</td>\n",
       "      <td>13</td>\n",
       "      <td>1</td>\n",
       "      <td>10</td>\n",
       "      <td>...</td>\n",
       "      <td>High-range product</td>\n",
       "      <td>Regularly busy</td>\n",
       "      <td>Busiest days</td>\n",
       "      <td>Most orders</td>\n",
       "      <td>17</td>\n",
       "      <td>Regular customer</td>\n",
       "      <td>1603.034574</td>\n",
       "      <td>High spender</td>\n",
       "      <td>26.0</td>\n",
       "      <td>Non-frequent customer</td>\n",
       "    </tr>\n",
       "    <tr>\n",
       "      <th>6670868</th>\n",
       "      <td>33664</td>\n",
       "      <td>2 % Reduced Fat  Milk</td>\n",
       "      <td>84</td>\n",
       "      <td>16</td>\n",
       "      <td>99999.0</td>\n",
       "      <td>190064</td>\n",
       "      <td>58405</td>\n",
       "      <td>15</td>\n",
       "      <td>5</td>\n",
       "      <td>17</td>\n",
       "      <td>...</td>\n",
       "      <td>High-range product</td>\n",
       "      <td>Regularly busy</td>\n",
       "      <td>Regularly busy</td>\n",
       "      <td>Average orders</td>\n",
       "      <td>17</td>\n",
       "      <td>Regular customer</td>\n",
       "      <td>1603.034574</td>\n",
       "      <td>High spender</td>\n",
       "      <td>26.0</td>\n",
       "      <td>Non-frequent customer</td>\n",
       "    </tr>\n",
       "    <tr>\n",
       "      <th>6670869</th>\n",
       "      <td>33664</td>\n",
       "      <td>2 % Reduced Fat  Milk</td>\n",
       "      <td>84</td>\n",
       "      <td>16</td>\n",
       "      <td>99999.0</td>\n",
       "      <td>1842539</td>\n",
       "      <td>58405</td>\n",
       "      <td>16</td>\n",
       "      <td>0</td>\n",
       "      <td>16</td>\n",
       "      <td>...</td>\n",
       "      <td>High-range product</td>\n",
       "      <td>Busiest day</td>\n",
       "      <td>Busiest days</td>\n",
       "      <td>Most orders</td>\n",
       "      <td>17</td>\n",
       "      <td>Regular customer</td>\n",
       "      <td>1603.034574</td>\n",
       "      <td>High spender</td>\n",
       "      <td>26.0</td>\n",
       "      <td>Non-frequent customer</td>\n",
       "    </tr>\n",
       "    <tr>\n",
       "      <th>6670870</th>\n",
       "      <td>33664</td>\n",
       "      <td>2 % Reduced Fat  Milk</td>\n",
       "      <td>84</td>\n",
       "      <td>16</td>\n",
       "      <td>99999.0</td>\n",
       "      <td>245547</td>\n",
       "      <td>58599</td>\n",
       "      <td>18</td>\n",
       "      <td>0</td>\n",
       "      <td>21</td>\n",
       "      <td>...</td>\n",
       "      <td>High-range product</td>\n",
       "      <td>Busiest day</td>\n",
       "      <td>Busiest days</td>\n",
       "      <td>Average orders</td>\n",
       "      <td>18</td>\n",
       "      <td>Regular customer</td>\n",
       "      <td>468.976037</td>\n",
       "      <td>High spender</td>\n",
       "      <td>7.0</td>\n",
       "      <td>Frequent customer</td>\n",
       "    </tr>\n",
       "    <tr>\n",
       "      <th>6670871</th>\n",
       "      <td>33664</td>\n",
       "      <td>2 % Reduced Fat  Milk</td>\n",
       "      <td>84</td>\n",
       "      <td>16</td>\n",
       "      <td>99999.0</td>\n",
       "      <td>795062</td>\n",
       "      <td>62917</td>\n",
       "      <td>20</td>\n",
       "      <td>5</td>\n",
       "      <td>12</td>\n",
       "      <td>...</td>\n",
       "      <td>High-range product</td>\n",
       "      <td>Regularly busy</td>\n",
       "      <td>Regularly busy</td>\n",
       "      <td>Most orders</td>\n",
       "      <td>24</td>\n",
       "      <td>Regular customer</td>\n",
       "      <td>427.680672</td>\n",
       "      <td>High spender</td>\n",
       "      <td>7.0</td>\n",
       "      <td>Frequent customer</td>\n",
       "    </tr>\n",
       "  </tbody>\n",
       "</table>\n",
       "<p>1421 rows × 25 columns</p>\n",
       "</div>"
      ],
      "text/plain": [
       "         product_id                      product_name  aisle_id  \\\n",
       "4010767       21553  Lowfat 2% Milkfat Cottage Cheese       108   \n",
       "4010768       21553  Lowfat 2% Milkfat Cottage Cheese       108   \n",
       "4010769       21553  Lowfat 2% Milkfat Cottage Cheese       108   \n",
       "4010770       21553  Lowfat 2% Milkfat Cottage Cheese       108   \n",
       "4010771       21553  Lowfat 2% Milkfat Cottage Cheese       108   \n",
       "...             ...                               ...       ...   \n",
       "6670867       33664             2 % Reduced Fat  Milk        84   \n",
       "6670868       33664             2 % Reduced Fat  Milk        84   \n",
       "6670869       33664             2 % Reduced Fat  Milk        84   \n",
       "6670870       33664             2 % Reduced Fat  Milk        84   \n",
       "6670871       33664             2 % Reduced Fat  Milk        84   \n",
       "\n",
       "         department_id   prices  order_id  user_id  order_number  \\\n",
       "4010767             16  14900.0    912404       17            12   \n",
       "4010768             16  14900.0    603376       17            22   \n",
       "4010769             16  14900.0   3264360      135             2   \n",
       "4010770             16  14900.0    892534      135             3   \n",
       "4010771             16  14900.0    229704      342             8   \n",
       "...                ...      ...       ...      ...           ...   \n",
       "6670867             16  99999.0   1129338    58405            13   \n",
       "6670868             16  99999.0    190064    58405            15   \n",
       "6670869             16  99999.0   1842539    58405            16   \n",
       "6670870             16  99999.0    245547    58599            18   \n",
       "6670871             16  99999.0    795062    62917            20   \n",
       "\n",
       "         order_day_of_week  order_hour_of_day  ...     price_range_loc  \\\n",
       "4010767                  2                 14  ...  High-range product   \n",
       "4010768                  6                 16  ...  High-range product   \n",
       "4010769                  2                 21  ...  High-range product   \n",
       "4010770                  0                  8  ...  High-range product   \n",
       "4010771                  1                 19  ...  High-range product   \n",
       "...                    ...                ...  ...                 ...   \n",
       "6670867                  1                 10  ...  High-range product   \n",
       "6670868                  5                 17  ...  High-range product   \n",
       "6670869                  0                 16  ...  High-range product   \n",
       "6670870                  0                 21  ...  High-range product   \n",
       "6670871                  5                 12  ...  High-range product   \n",
       "\n",
       "            busiest_day    busiest_days  busiest_period_of_day max_order  \\\n",
       "4010767  Regularly busy  Regularly busy            Most orders        40   \n",
       "4010768  Regularly busy  Regularly busy            Most orders        40   \n",
       "4010769  Regularly busy  Regularly busy         Average orders         4   \n",
       "4010770     Busiest day    Busiest days         Average orders         4   \n",
       "4010771  Regularly busy    Busiest days         Average orders        16   \n",
       "...                 ...             ...                    ...       ...   \n",
       "6670867  Regularly busy    Busiest days            Most orders        17   \n",
       "6670868  Regularly busy  Regularly busy         Average orders        17   \n",
       "6670869     Busiest day    Busiest days            Most orders        17   \n",
       "6670870     Busiest day    Busiest days         Average orders        18   \n",
       "6670871  Regularly busy  Regularly busy            Most orders        24   \n",
       "\n",
       "             loyalty_flag mean_product_price spending_flag  \\\n",
       "4010767  Regular customer         108.648299  High spender   \n",
       "4010768  Regular customer         108.648299  High spender   \n",
       "4010769      New customer        1154.792308  High spender   \n",
       "4010770      New customer        1154.792308  High spender   \n",
       "4010771  Regular customer         114.426619  High spender   \n",
       "...                   ...                ...           ...   \n",
       "6670867  Regular customer        1603.034574  High spender   \n",
       "6670868  Regular customer        1603.034574  High spender   \n",
       "6670869  Regular customer        1603.034574  High spender   \n",
       "6670870  Regular customer         468.976037  High spender   \n",
       "6670871  Regular customer         427.680672  High spender   \n",
       "\n",
       "        median_days_between_orders        order_frequency  \n",
       "4010767                        5.0      Frequent customer  \n",
       "4010768                        5.0      Frequent customer  \n",
       "4010769                       12.0       Regular customer  \n",
       "4010770                       12.0       Regular customer  \n",
       "4010771                       23.0  Non-frequent customer  \n",
       "...                            ...                    ...  \n",
       "6670867                       26.0  Non-frequent customer  \n",
       "6670868                       26.0  Non-frequent customer  \n",
       "6670869                       26.0  Non-frequent customer  \n",
       "6670870                        7.0      Frequent customer  \n",
       "6670871                        7.0      Frequent customer  \n",
       "\n",
       "[1421 rows x 25 columns]"
      ]
     },
     "execution_count": 22,
     "metadata": {},
     "output_type": "execute_result"
    }
   ],
   "source": [
    "ords_prods_merge.loc[ords_prods_merge['prices'] > 100]"
   ]
  },
  {
   "cell_type": "markdown",
   "id": "3f12501b",
   "metadata": {},
   "source": [
    "### now turn these outliers as missing so turn them into NaN. and then check again replacement was successfully run or not by Max value"
   ]
  },
  {
   "cell_type": "code",
   "execution_count": 23,
   "id": "fdf337d9",
   "metadata": {},
   "outputs": [],
   "source": [
    "ords_prods_merge.loc[ords_prods_merge['prices'] >100, 'prices'] = np.nan"
   ]
  },
  {
   "cell_type": "code",
   "execution_count": 24,
   "id": "0a2bb1e1",
   "metadata": {},
   "outputs": [
    {
     "data": {
      "text/plain": [
       "25.0"
      ]
     },
     "execution_count": 24,
     "metadata": {},
     "output_type": "execute_result"
    }
   ],
   "source": [
    "ords_prods_merge['prices'].max()"
   ]
  },
  {
   "cell_type": "markdown",
   "id": "b3ee7272",
   "metadata": {},
   "source": [
    "### now data is cleaned so create histogram clearly."
   ]
  },
  {
   "cell_type": "code",
   "execution_count": 25,
   "id": "5eccd4ac",
   "metadata": {},
   "outputs": [
    {
     "data": {
      "image/png": "[encoded data removed]",
      "text/plain": [
       "<Figure size 640x480 with 1 Axes>"
      ]
     },
     "metadata": {},
     "output_type": "display_data"
    }
   ],
   "source": [
    "hist = ords_prods_merge['prices'].plot.hist(bins = 25)"
   ]
  },
  {
   "cell_type": "code",
   "execution_count": 28,
   "id": "e0f294be",
   "metadata": {},
   "outputs": [
    {
     "data": {
      "image/png": "[encoded data removed]",
      "text/plain": [
       "<Figure size 640x480 with 1 Axes>"
      ]
     },
     "metadata": {},
     "output_type": "display_data"
    }
   ],
   "source": [
    "hist_2 = ords_prods_merge['prices'].plot.hist(bins = 70)"
   ]
  },
  {
   "cell_type": "code",
   "execution_count": 29,
   "id": "73b24927",
   "metadata": {},
   "outputs": [],
   "source": [
    "hist.figure.savefig(os.path.join(path, '04 Analysis', 'visualizations', 'hist_prices.png'))"
   ]
  },
  {
   "cell_type": "markdown",
   "id": "c6157ddd",
   "metadata": {},
   "source": [
    "## Creating Line charts"
   ]
  },
  {
   "cell_type": "markdown",
   "id": "c0c36a58",
   "metadata": {},
   "source": [
    "### it requires great deal of computing power so its might be crash your computer so best way to create subset by taking 2,000,000 rows. but it will not work so taking sampling Data would be the great."
   ]
  },
  {
   "cell_type": "code",
   "execution_count": 30,
   "id": "dda14ab7",
   "metadata": {},
   "outputs": [],
   "source": [
    "df = ords_prods_merge[:2000000]"
   ]
  },
  {
   "cell_type": "code",
   "execution_count": 31,
   "id": "f0f76496",
   "metadata": {},
   "outputs": [],
   "source": [
    "np.random.seed(4)\n",
    "dev = np.random.rand(len(ords_prods_merge)) <= 0.7"
   ]
  },
  {
   "cell_type": "code",
   "execution_count": 32,
   "id": "2d927320",
   "metadata": {},
   "outputs": [
    {
     "data": {
      "text/plain": [
       "array([False,  True, False, ...,  True,  True,  True])"
      ]
     },
     "execution_count": 32,
     "metadata": {},
     "output_type": "execute_result"
    }
   ],
   "source": [
    "dev"
   ]
  },
  {
   "cell_type": "code",
   "execution_count": 33,
   "id": "b84e63f0",
   "metadata": {},
   "outputs": [
    {
     "data": {
      "text/plain": [
       "9918253"
      ]
     },
     "execution_count": 33,
     "metadata": {},
     "output_type": "execute_result"
    }
   ],
   "source": [
    "len(ords_prods_merge)"
   ]
  },
  {
   "cell_type": "code",
   "execution_count": 34,
   "id": "9a0213d4",
   "metadata": {},
   "outputs": [
    {
     "data": {
      "text/plain": [
       "array([0.07149015, 0.30312933, 0.55504761, 0.08420486, 0.43215839,\n",
       "       0.95343269, 0.33410457, 0.81066899, 0.64765402, 0.99714314])"
      ]
     },
     "execution_count": 34,
     "metadata": {},
     "output_type": "execute_result"
    }
   ],
   "source": [
    "np.random.rand(10)"
   ]
  },
  {
   "cell_type": "markdown",
   "id": "fc214479",
   "metadata": {},
   "source": [
    "### store 70% of the sample in the dataframe big"
   ]
  },
  {
   "cell_type": "code",
   "execution_count": 35,
   "id": "bd9d24b8",
   "metadata": {},
   "outputs": [],
   "source": [
    "big = ords_prods_merge[dev]"
   ]
  },
  {
   "cell_type": "markdown",
   "id": "73dc8135",
   "metadata": {},
   "source": [
    "### store 30% of the sample in the dataframe small"
   ]
  },
  {
   "cell_type": "code",
   "execution_count": 36,
   "id": "ec7bdd66",
   "metadata": {},
   "outputs": [],
   "source": [
    "small = ords_prods_merge[~dev]"
   ]
  },
  {
   "cell_type": "markdown",
   "id": "754a977e",
   "metadata": {},
   "source": [
    "### lets check"
   ]
  },
  {
   "cell_type": "code",
   "execution_count": 37,
   "id": "4c74afcd",
   "metadata": {},
   "outputs": [
    {
     "data": {
      "text/plain": [
       "9918253"
      ]
     },
     "execution_count": 37,
     "metadata": {},
     "output_type": "execute_result"
    }
   ],
   "source": [
    "len(ords_prods_merge)"
   ]
  },
  {
   "cell_type": "code",
   "execution_count": 38,
   "id": "d6ffd046",
   "metadata": {},
   "outputs": [
    {
     "data": {
      "text/plain": [
       "9918253"
      ]
     },
     "execution_count": 38,
     "metadata": {},
     "output_type": "execute_result"
    }
   ],
   "source": [
    "len(big)+len(small)"
   ]
  },
  {
   "cell_type": "markdown",
   "id": "22311888",
   "metadata": {},
   "source": [
    "### now create line chart with small sample dataset otherwise it crashes the pc."
   ]
  },
  {
   "cell_type": "code",
   "execution_count": 40,
   "id": "a863ed14",
   "metadata": {},
   "outputs": [],
   "source": [
    "df_2 = small[['order_day_of_week','prices']]"
   ]
  },
  {
   "cell_type": "code",
   "execution_count": 41,
   "id": "1b217740",
   "metadata": {},
   "outputs": [
    {
     "name": "stderr",
     "output_type": "stream",
     "text": [
      "C:\\Users\\tjsra\\anaconda3\\Lib\\site-packages\\seaborn\\_oldcore.py:1119: FutureWarning: use_inf_as_na option is deprecated and will be removed in a future version. Convert inf values to NaN before operating instead.\n",
      "  with pd.option_context('mode.use_inf_as_na', True):\n",
      "C:\\Users\\tjsra\\anaconda3\\Lib\\site-packages\\seaborn\\_oldcore.py:1119: FutureWarning: use_inf_as_na option is deprecated and will be removed in a future version. Convert inf values to NaN before operating instead.\n",
      "  with pd.option_context('mode.use_inf_as_na', True):\n"
     ]
    },
    {
     "data": {
      "image/png": "[encoded data removed]",
      "text/plain": [
       "<Figure size 640x480 with 1 Axes>"
      ]
     },
     "metadata": {},
     "output_type": "display_data"
    }
   ],
   "source": [
    "line = sns.lineplot(data = df_2, x = 'order_day_of_week',y = 'prices')"
   ]
  },
  {
   "cell_type": "code",
   "execution_count": 42,
   "id": "c5847a07",
   "metadata": {},
   "outputs": [],
   "source": [
    "line.figure.savefig(os.path.join(path, '04 Analysis', 'visualizations', 'line_price_order_day_of_week.png'))"
   ]
  },
  {
   "cell_type": "code",
   "execution_count": null,
   "id": "dd73f7f2",
   "metadata": {},
   "outputs": [],
   "source": []
  }
 ],
 "metadata": {
  "kernelspec": {
   "display_name": "Python 3 (ipykernel)",
   "language": "python",
   "name": "python3"
  },
  "language_info": {
   "codemirror_mode": {
    "name": "ipython",
    "version": 3
   },
   "file_extension": ".py",
   "mimetype": "text/x-python",
   "name": "python",
   "nbconvert_exporter": "python",
   "pygments_lexer": "ipython3",
   "version": "3.11.7"
  }
 },
 "nbformat": 4,
 "nbformat_minor": 5
}
