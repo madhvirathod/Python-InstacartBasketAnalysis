{
 "cells": [
  {
   "cell_type": "markdown",
   "id": "58c08384",
   "metadata": {},
   "source": [
    "## 1. Import libraries"
   ]
  },
  {
   "cell_type": "code",
   "execution_count": 1,
   "id": "f4b6b4c6",
   "metadata": {},
   "outputs": [],
   "source": [
    "import pandas as pd\n",
    "import numpy as np\n",
    "import os\n",
    "import matplotlib.pyplot as plt\n",
    "import seaborn as sns\n",
    "import scipy"
   ]
  },
  {
   "cell_type": "code",
   "execution_count": 2,
   "id": "9c45bca7",
   "metadata": {},
   "outputs": [],
   "source": [
    "path=r\"C:\\Users\\tjsra\\OneDrive\\Desktop\\INSTACART BASKET ANALYSIS\""
   ]
  },
  {
   "cell_type": "code",
   "execution_count": 3,
   "id": "9820670b",
   "metadata": {},
   "outputs": [],
   "source": [
    "df = pd.read_pickle(os.path.join(path, '02 Data','Prepared Data', 'orders_products_customers_merged.pkl'))"
   ]
  },
  {
   "cell_type": "code",
   "execution_count": 4,
   "id": "d7feabbd",
   "metadata": {},
   "outputs": [
    {
     "data": {
      "text/html": [
       "<div>\n",
       "<style scoped>\n",
       "    .dataframe tbody tr th:only-of-type {\n",
       "        vertical-align: middle;\n",
       "    }\n",
       "\n",
       "    .dataframe tbody tr th {\n",
       "        vertical-align: top;\n",
       "    }\n",
       "\n",
       "    .dataframe thead th {\n",
       "        text-align: right;\n",
       "    }\n",
       "</style>\n",
       "<table border=\"1\" class=\"dataframe\">\n",
       "  <thead>\n",
       "    <tr style=\"text-align: right;\">\n",
       "      <th></th>\n",
       "      <th>product_id</th>\n",
       "      <th>product_name</th>\n",
       "      <th>aisle_id</th>\n",
       "      <th>department_id</th>\n",
       "      <th>prices</th>\n",
       "      <th>order_id</th>\n",
       "      <th>user_id</th>\n",
       "      <th>order_number</th>\n",
       "      <th>order_day_of_week</th>\n",
       "      <th>order_hour_of_day</th>\n",
       "      <th>...</th>\n",
       "      <th>first_name</th>\n",
       "      <th>surname</th>\n",
       "      <th>gender</th>\n",
       "      <th>state</th>\n",
       "      <th>age</th>\n",
       "      <th>date_joined</th>\n",
       "      <th>n_dependants</th>\n",
       "      <th>marital_status</th>\n",
       "      <th>income</th>\n",
       "      <th>merge_indicator</th>\n",
       "    </tr>\n",
       "  </thead>\n",
       "  <tbody>\n",
       "    <tr>\n",
       "      <th>0</th>\n",
       "      <td>1</td>\n",
       "      <td>Chocolate Sandwich Cookies</td>\n",
       "      <td>61</td>\n",
       "      <td>19</td>\n",
       "      <td>5.8</td>\n",
       "      <td>3139998</td>\n",
       "      <td>138</td>\n",
       "      <td>28</td>\n",
       "      <td>6</td>\n",
       "      <td>11</td>\n",
       "      <td>...</td>\n",
       "      <td>Charles</td>\n",
       "      <td>Cox</td>\n",
       "      <td>Male</td>\n",
       "      <td>Minnesota</td>\n",
       "      <td>81</td>\n",
       "      <td>8/1/2019</td>\n",
       "      <td>1</td>\n",
       "      <td>married</td>\n",
       "      <td>49620</td>\n",
       "      <td>both</td>\n",
       "    </tr>\n",
       "    <tr>\n",
       "      <th>1</th>\n",
       "      <td>1</td>\n",
       "      <td>Chocolate Sandwich Cookies</td>\n",
       "      <td>61</td>\n",
       "      <td>19</td>\n",
       "      <td>5.8</td>\n",
       "      <td>1977647</td>\n",
       "      <td>138</td>\n",
       "      <td>30</td>\n",
       "      <td>6</td>\n",
       "      <td>17</td>\n",
       "      <td>...</td>\n",
       "      <td>Charles</td>\n",
       "      <td>Cox</td>\n",
       "      <td>Male</td>\n",
       "      <td>Minnesota</td>\n",
       "      <td>81</td>\n",
       "      <td>8/1/2019</td>\n",
       "      <td>1</td>\n",
       "      <td>married</td>\n",
       "      <td>49620</td>\n",
       "      <td>both</td>\n",
       "    </tr>\n",
       "    <tr>\n",
       "      <th>2</th>\n",
       "      <td>1</td>\n",
       "      <td>Chocolate Sandwich Cookies</td>\n",
       "      <td>61</td>\n",
       "      <td>19</td>\n",
       "      <td>5.8</td>\n",
       "      <td>389851</td>\n",
       "      <td>709</td>\n",
       "      <td>2</td>\n",
       "      <td>0</td>\n",
       "      <td>21</td>\n",
       "      <td>...</td>\n",
       "      <td>Deborah</td>\n",
       "      <td>Glass</td>\n",
       "      <td>Female</td>\n",
       "      <td>Vermont</td>\n",
       "      <td>66</td>\n",
       "      <td>6/16/2018</td>\n",
       "      <td>2</td>\n",
       "      <td>married</td>\n",
       "      <td>158302</td>\n",
       "      <td>both</td>\n",
       "    </tr>\n",
       "    <tr>\n",
       "      <th>3</th>\n",
       "      <td>1</td>\n",
       "      <td>Chocolate Sandwich Cookies</td>\n",
       "      <td>61</td>\n",
       "      <td>19</td>\n",
       "      <td>5.8</td>\n",
       "      <td>652770</td>\n",
       "      <td>764</td>\n",
       "      <td>1</td>\n",
       "      <td>3</td>\n",
       "      <td>13</td>\n",
       "      <td>...</td>\n",
       "      <td>Heather</td>\n",
       "      <td>Myers</td>\n",
       "      <td>Female</td>\n",
       "      <td>Wisconsin</td>\n",
       "      <td>40</td>\n",
       "      <td>2/9/2020</td>\n",
       "      <td>3</td>\n",
       "      <td>married</td>\n",
       "      <td>31308</td>\n",
       "      <td>both</td>\n",
       "    </tr>\n",
       "    <tr>\n",
       "      <th>4</th>\n",
       "      <td>1</td>\n",
       "      <td>Chocolate Sandwich Cookies</td>\n",
       "      <td>61</td>\n",
       "      <td>19</td>\n",
       "      <td>5.8</td>\n",
       "      <td>1813452</td>\n",
       "      <td>764</td>\n",
       "      <td>3</td>\n",
       "      <td>4</td>\n",
       "      <td>17</td>\n",
       "      <td>...</td>\n",
       "      <td>Heather</td>\n",
       "      <td>Myers</td>\n",
       "      <td>Female</td>\n",
       "      <td>Wisconsin</td>\n",
       "      <td>40</td>\n",
       "      <td>2/9/2020</td>\n",
       "      <td>3</td>\n",
       "      <td>married</td>\n",
       "      <td>31308</td>\n",
       "      <td>both</td>\n",
       "    </tr>\n",
       "  </tbody>\n",
       "</table>\n",
       "<p>5 rows × 35 columns</p>\n",
       "</div>"
      ],
      "text/plain": [
       "   product_id                product_name  aisle_id  department_id  prices  \\\n",
       "0           1  Chocolate Sandwich Cookies        61             19     5.8   \n",
       "1           1  Chocolate Sandwich Cookies        61             19     5.8   \n",
       "2           1  Chocolate Sandwich Cookies        61             19     5.8   \n",
       "3           1  Chocolate Sandwich Cookies        61             19     5.8   \n",
       "4           1  Chocolate Sandwich Cookies        61             19     5.8   \n",
       "\n",
       "  order_id user_id  order_number  order_day_of_week  order_hour_of_day  ...  \\\n",
       "0  3139998     138            28                  6                 11  ...   \n",
       "1  1977647     138            30                  6                 17  ...   \n",
       "2   389851     709             2                  0                 21  ...   \n",
       "3   652770     764             1                  3                 13  ...   \n",
       "4  1813452     764             3                  4                 17  ...   \n",
       "\n",
       "   first_name  surname  gender      state age date_joined n_dependants  \\\n",
       "0     Charles      Cox    Male  Minnesota  81    8/1/2019            1   \n",
       "1     Charles      Cox    Male  Minnesota  81    8/1/2019            1   \n",
       "2     Deborah    Glass  Female    Vermont  66   6/16/2018            2   \n",
       "3     Heather    Myers  Female  Wisconsin  40    2/9/2020            3   \n",
       "4     Heather    Myers  Female  Wisconsin  40    2/9/2020            3   \n",
       "\n",
       "  marital_status  income  merge_indicator  \n",
       "0        married   49620             both  \n",
       "1        married   49620             both  \n",
       "2        married  158302             both  \n",
       "3        married   31308             both  \n",
       "4        married   31308             both  \n",
       "\n",
       "[5 rows x 35 columns]"
      ]
     },
     "execution_count": 4,
     "metadata": {},
     "output_type": "execute_result"
    }
   ],
   "source": [
    "# checking dataframe\n",
    "df.head()"
   ]
  },
  {
   "cell_type": "code",
   "execution_count": 5,
   "id": "a15bac0c",
   "metadata": {},
   "outputs": [
    {
     "data": {
      "text/plain": [
       "(9918253, 35)"
      ]
     },
     "execution_count": 5,
     "metadata": {},
     "output_type": "execute_result"
    }
   ],
   "source": [
    "df.shape"
   ]
  },
  {
   "cell_type": "markdown",
   "id": "95e6288d",
   "metadata": {},
   "source": [
    "## 2. Consider any security implications that might exist for this new data. You will need to address Pll data in the data before continuing your analysis."
   ]
  },
  {
   "cell_type": "markdown",
   "id": "69ff513a",
   "metadata": {},
   "source": [
    "### First name & surname should be dropped due to Pll"
   ]
  },
  {
   "cell_type": "code",
   "execution_count": 6,
   "id": "0ebbc40e",
   "metadata": {},
   "outputs": [],
   "source": [
    "# dropping first_name and surname\n",
    "df.drop(['first_name', 'surname'], axis=1, inplace = True)"
   ]
  },
  {
   "cell_type": "code",
   "execution_count": 7,
   "id": "3c1205f4",
   "metadata": {},
   "outputs": [
    {
     "data": {
      "text/plain": [
       "Index(['product_id', 'product_name', 'aisle_id', 'department_id', 'prices',\n",
       "       'order_id', 'user_id', 'order_number', 'order_day_of_week',\n",
       "       'order_hour_of_day', 'days_since_last_order', 'first_order',\n",
       "       'add_to_cart_order', 'reordered', '_merge', 'price_range_loc',\n",
       "       'busiest_day', 'busiest_days', 'busiest_period_of_day', 'max_order',\n",
       "       'loyalty_flag', 'mean_product_price', 'spending_flag',\n",
       "       'median_days_between_orders', 'order_frequency', 'gender', 'state',\n",
       "       'age', 'date_joined', 'n_dependants', 'marital_status', 'income',\n",
       "       'merge_indicator'],\n",
       "      dtype='object')"
      ]
     },
     "execution_count": 7,
     "metadata": {},
     "output_type": "execute_result"
    }
   ],
   "source": [
    "# checking column names\n",
    "df.columns"
   ]
  },
  {
   "cell_type": "markdown",
   "id": "f4104331",
   "metadata": {},
   "source": [
    "## 3 A. Create a 'Region' column based on the state column from your customers data set."
   ]
  },
  {
   "cell_type": "code",
   "execution_count": 8,
   "id": "c60ae5bc",
   "metadata": {},
   "outputs": [],
   "source": [
    "# Creating region lists\n",
    "Northeast=['Maine','New Hampshire','Vermont','Massachusetts','Rhode Island','Connecticut','New York','Pennsylvania','New Jersey']\n",
    "Midwest=['Wisconsin','Michigan','Illinois','Indiana','Ohio','North Dakota','South Dakota','Nebraska','Kansas','Minnesota','Iowa','Missouri']\n",
    "South=['Delaware','Maryland','District of Columbia','Virginia','West Virginia','North Carolina','South Carolina','Georgia','Florida','Kentucky', 'Tennessee','Mississippi','Alabama','Oklahoma','Texas','Arkansas','Louisiana']\n",
    "West=['Idaho','Montana','Wyoming','Nevada','Utah','Colorado','Arizona','New Mexico','Alaska','Washington','Oregon','California','Hawaii']"
   ]
  },
  {
   "cell_type": "code",
   "execution_count": 9,
   "id": "d8b899a4",
   "metadata": {},
   "outputs": [],
   "source": [
    "# Creating regional flag column\n",
    "df.loc[df['state'].isin(Northeast),'region']='Northeast'\n",
    "df.loc[df['state'].isin(Midwest),'region']='Midwest'\n",
    "df.loc[df['state'].isin(South),'region']='South'\n",
    "df.loc[df['state'].isin(West),'region']='West'"
   ]
  },
  {
   "cell_type": "code",
   "execution_count": 10,
   "id": "e4dc4491",
   "metadata": {},
   "outputs": [
    {
     "data": {
      "text/plain": [
       "9918253"
      ]
     },
     "execution_count": 10,
     "metadata": {},
     "output_type": "execute_result"
    }
   ],
   "source": [
    "# Checking length of new column\n",
    "len(df['region'])"
   ]
  },
  {
   "cell_type": "code",
   "execution_count": 11,
   "id": "e42bba7c",
   "metadata": {},
   "outputs": [
    {
     "data": {
      "text/plain": [
       "region\n",
       "South        3325041\n",
       "West         2511231\n",
       "Midwest      2312121\n",
       "Northeast    1769860\n",
       "Name: count, dtype: int64"
      ]
     },
     "execution_count": 11,
     "metadata": {},
     "output_type": "execute_result"
    }
   ],
   "source": [
    "# checking frequency\n",
    "df['region'].value_counts(dropna = False)"
   ]
  },
  {
   "cell_type": "markdown",
   "id": "dbe6c0a9",
   "metadata": {},
   "source": [
    "## 3 B. Determine whether there is a difference in spending habits between the different U.S regions."
   ]
  },
  {
   "cell_type": "code",
   "execution_count": 12,
   "id": "dd6adfda",
   "metadata": {},
   "outputs": [],
   "source": [
    "#Creating a crosstab\n",
    "\n",
    "crosstab = pd.crosstab(df['region'], df['spending_flag'], dropna = False)"
   ]
  },
  {
   "cell_type": "code",
   "execution_count": 13,
   "id": "63a0c23d",
   "metadata": {},
   "outputs": [
    {
     "data": {
      "text/html": [
       "<div>\n",
       "<style scoped>\n",
       "    .dataframe tbody tr th:only-of-type {\n",
       "        vertical-align: middle;\n",
       "    }\n",
       "\n",
       "    .dataframe tbody tr th {\n",
       "        vertical-align: top;\n",
       "    }\n",
       "\n",
       "    .dataframe thead th {\n",
       "        text-align: right;\n",
       "    }\n",
       "</style>\n",
       "<table border=\"1\" class=\"dataframe\">\n",
       "  <thead>\n",
       "    <tr style=\"text-align: right;\">\n",
       "      <th>spending_flag</th>\n",
       "      <th>High spender</th>\n",
       "      <th>Low spender</th>\n",
       "    </tr>\n",
       "    <tr>\n",
       "      <th>region</th>\n",
       "      <th></th>\n",
       "      <th></th>\n",
       "    </tr>\n",
       "  </thead>\n",
       "  <tbody>\n",
       "    <tr>\n",
       "      <th>Midwest</th>\n",
       "      <td>39264</td>\n",
       "      <td>2272857</td>\n",
       "    </tr>\n",
       "    <tr>\n",
       "      <th>Northeast</th>\n",
       "      <td>31365</td>\n",
       "      <td>1738495</td>\n",
       "    </tr>\n",
       "    <tr>\n",
       "      <th>South</th>\n",
       "      <td>64712</td>\n",
       "      <td>3260329</td>\n",
       "    </tr>\n",
       "    <tr>\n",
       "      <th>West</th>\n",
       "      <td>46577</td>\n",
       "      <td>2464654</td>\n",
       "    </tr>\n",
       "  </tbody>\n",
       "</table>\n",
       "</div>"
      ],
      "text/plain": [
       "spending_flag  High spender  Low spender\n",
       "region                                  \n",
       "Midwest               39264      2272857\n",
       "Northeast             31365      1738495\n",
       "South                 64712      3260329\n",
       "West                  46577      2464654"
      ]
     },
     "execution_count": 13,
     "metadata": {},
     "output_type": "execute_result"
    }
   ],
   "source": [
    "crosstab"
   ]
  },
  {
   "cell_type": "markdown",
   "id": "8cbfba9a",
   "metadata": {},
   "source": [
    "## 4. Create an exclusion flag for low-activity customers( customers with less than 5 orders) and exclude them from the data. Make sure you export this sample."
   ]
  },
  {
   "cell_type": "code",
   "execution_count": 14,
   "id": "c5f730b6",
   "metadata": {},
   "outputs": [],
   "source": [
    "#Creating exclusion flag column\n",
    "\n",
    "df.loc[df['max_order']<5, 'activity']='low'\n",
    "df.loc[df['max_order']>=5, 'activity']='high'"
   ]
  },
  {
   "cell_type": "code",
   "execution_count": 15,
   "id": "1740f1a6",
   "metadata": {},
   "outputs": [],
   "source": [
    "#Create a dataframe of customers with orders less than 5\n",
    "\n",
    "df_low = df[df['activity'] =='low']"
   ]
  },
  {
   "cell_type": "code",
   "execution_count": 16,
   "id": "eb31dd47",
   "metadata": {},
   "outputs": [
    {
     "data": {
      "text/html": [
       "<div>\n",
       "<style scoped>\n",
       "    .dataframe tbody tr th:only-of-type {\n",
       "        vertical-align: middle;\n",
       "    }\n",
       "\n",
       "    .dataframe tbody tr th {\n",
       "        vertical-align: top;\n",
       "    }\n",
       "\n",
       "    .dataframe thead th {\n",
       "        text-align: right;\n",
       "    }\n",
       "</style>\n",
       "<table border=\"1\" class=\"dataframe\">\n",
       "  <thead>\n",
       "    <tr style=\"text-align: right;\">\n",
       "      <th></th>\n",
       "      <th>product_id</th>\n",
       "      <th>product_name</th>\n",
       "      <th>aisle_id</th>\n",
       "      <th>department_id</th>\n",
       "      <th>prices</th>\n",
       "      <th>order_id</th>\n",
       "      <th>user_id</th>\n",
       "      <th>order_number</th>\n",
       "      <th>order_day_of_week</th>\n",
       "      <th>order_hour_of_day</th>\n",
       "      <th>...</th>\n",
       "      <th>gender</th>\n",
       "      <th>state</th>\n",
       "      <th>age</th>\n",
       "      <th>date_joined</th>\n",
       "      <th>n_dependants</th>\n",
       "      <th>marital_status</th>\n",
       "      <th>income</th>\n",
       "      <th>merge_indicator</th>\n",
       "      <th>region</th>\n",
       "      <th>activity</th>\n",
       "    </tr>\n",
       "  </thead>\n",
       "  <tbody>\n",
       "    <tr>\n",
       "      <th>3</th>\n",
       "      <td>1</td>\n",
       "      <td>Chocolate Sandwich Cookies</td>\n",
       "      <td>61</td>\n",
       "      <td>19</td>\n",
       "      <td>5.8</td>\n",
       "      <td>652770</td>\n",
       "      <td>764</td>\n",
       "      <td>1</td>\n",
       "      <td>3</td>\n",
       "      <td>13</td>\n",
       "      <td>...</td>\n",
       "      <td>Female</td>\n",
       "      <td>Wisconsin</td>\n",
       "      <td>40</td>\n",
       "      <td>2/9/2020</td>\n",
       "      <td>3</td>\n",
       "      <td>married</td>\n",
       "      <td>31308</td>\n",
       "      <td>both</td>\n",
       "      <td>Midwest</td>\n",
       "      <td>low</td>\n",
       "    </tr>\n",
       "    <tr>\n",
       "      <th>4</th>\n",
       "      <td>1</td>\n",
       "      <td>Chocolate Sandwich Cookies</td>\n",
       "      <td>61</td>\n",
       "      <td>19</td>\n",
       "      <td>5.8</td>\n",
       "      <td>1813452</td>\n",
       "      <td>764</td>\n",
       "      <td>3</td>\n",
       "      <td>4</td>\n",
       "      <td>17</td>\n",
       "      <td>...</td>\n",
       "      <td>Female</td>\n",
       "      <td>Wisconsin</td>\n",
       "      <td>40</td>\n",
       "      <td>2/9/2020</td>\n",
       "      <td>3</td>\n",
       "      <td>married</td>\n",
       "      <td>31308</td>\n",
       "      <td>both</td>\n",
       "      <td>Midwest</td>\n",
       "      <td>low</td>\n",
       "    </tr>\n",
       "    <tr>\n",
       "      <th>34</th>\n",
       "      <td>1</td>\n",
       "      <td>Chocolate Sandwich Cookies</td>\n",
       "      <td>61</td>\n",
       "      <td>19</td>\n",
       "      <td>5.8</td>\n",
       "      <td>2434812</td>\n",
       "      <td>1598</td>\n",
       "      <td>1</td>\n",
       "      <td>2</td>\n",
       "      <td>12</td>\n",
       "      <td>...</td>\n",
       "      <td>Male</td>\n",
       "      <td>Kansas</td>\n",
       "      <td>41</td>\n",
       "      <td>1/7/2018</td>\n",
       "      <td>2</td>\n",
       "      <td>married</td>\n",
       "      <td>122060</td>\n",
       "      <td>both</td>\n",
       "      <td>Midwest</td>\n",
       "      <td>low</td>\n",
       "    </tr>\n",
       "    <tr>\n",
       "      <th>35</th>\n",
       "      <td>1</td>\n",
       "      <td>Chocolate Sandwich Cookies</td>\n",
       "      <td>61</td>\n",
       "      <td>19</td>\n",
       "      <td>5.8</td>\n",
       "      <td>1531889</td>\n",
       "      <td>1598</td>\n",
       "      <td>2</td>\n",
       "      <td>2</td>\n",
       "      <td>10</td>\n",
       "      <td>...</td>\n",
       "      <td>Male</td>\n",
       "      <td>Kansas</td>\n",
       "      <td>41</td>\n",
       "      <td>1/7/2018</td>\n",
       "      <td>2</td>\n",
       "      <td>married</td>\n",
       "      <td>122060</td>\n",
       "      <td>both</td>\n",
       "      <td>Midwest</td>\n",
       "      <td>low</td>\n",
       "    </tr>\n",
       "    <tr>\n",
       "      <th>36</th>\n",
       "      <td>1</td>\n",
       "      <td>Chocolate Sandwich Cookies</td>\n",
       "      <td>61</td>\n",
       "      <td>19</td>\n",
       "      <td>5.8</td>\n",
       "      <td>726947</td>\n",
       "      <td>1598</td>\n",
       "      <td>3</td>\n",
       "      <td>4</td>\n",
       "      <td>17</td>\n",
       "      <td>...</td>\n",
       "      <td>Male</td>\n",
       "      <td>Kansas</td>\n",
       "      <td>41</td>\n",
       "      <td>1/7/2018</td>\n",
       "      <td>2</td>\n",
       "      <td>married</td>\n",
       "      <td>122060</td>\n",
       "      <td>both</td>\n",
       "      <td>Midwest</td>\n",
       "      <td>low</td>\n",
       "    </tr>\n",
       "  </tbody>\n",
       "</table>\n",
       "<p>5 rows × 35 columns</p>\n",
       "</div>"
      ],
      "text/plain": [
       "    product_id                product_name  aisle_id  department_id  prices  \\\n",
       "3            1  Chocolate Sandwich Cookies        61             19     5.8   \n",
       "4            1  Chocolate Sandwich Cookies        61             19     5.8   \n",
       "34           1  Chocolate Sandwich Cookies        61             19     5.8   \n",
       "35           1  Chocolate Sandwich Cookies        61             19     5.8   \n",
       "36           1  Chocolate Sandwich Cookies        61             19     5.8   \n",
       "\n",
       "   order_id user_id  order_number  order_day_of_week  order_hour_of_day  ...  \\\n",
       "3    652770     764             1                  3                 13  ...   \n",
       "4   1813452     764             3                  4                 17  ...   \n",
       "34  2434812    1598             1                  2                 12  ...   \n",
       "35  1531889    1598             2                  2                 10  ...   \n",
       "36   726947    1598             3                  4                 17  ...   \n",
       "\n",
       "    gender      state  age  date_joined n_dependants marital_status  income  \\\n",
       "3   Female  Wisconsin   40     2/9/2020            3        married   31308   \n",
       "4   Female  Wisconsin   40     2/9/2020            3        married   31308   \n",
       "34    Male     Kansas   41     1/7/2018            2        married  122060   \n",
       "35    Male     Kansas   41     1/7/2018            2        married  122060   \n",
       "36    Male     Kansas   41     1/7/2018            2        married  122060   \n",
       "\n",
       "   merge_indicator   region  activity  \n",
       "3             both  Midwest       low  \n",
       "4             both  Midwest       low  \n",
       "34            both  Midwest       low  \n",
       "35            both  Midwest       low  \n",
       "36            both  Midwest       low  \n",
       "\n",
       "[5 rows x 35 columns]"
      ]
     },
     "execution_count": 16,
     "metadata": {},
     "output_type": "execute_result"
    }
   ],
   "source": [
    "#Checking dataframe\n",
    "\n",
    "df_low.head()"
   ]
  },
  {
   "cell_type": "code",
   "execution_count": 17,
   "id": "19ed248c",
   "metadata": {},
   "outputs": [
    {
     "data": {
      "text/plain": [
       "activity\n",
       "low    438551\n",
       "Name: count, dtype: int64"
      ]
     },
     "execution_count": 17,
     "metadata": {},
     "output_type": "execute_result"
    }
   ],
   "source": [
    "df_low['activity'].value_counts(dropna = False)"
   ]
  },
  {
   "cell_type": "code",
   "execution_count": 18,
   "id": "b225a776",
   "metadata": {},
   "outputs": [],
   "source": [
    "#Exporting df_low\n",
    "\n",
    "df_low.to_pickle(os.path.join(path, '02 Data', 'Prepared Data', 'low_activity_customers.pkl'))"
   ]
  },
  {
   "cell_type": "markdown",
   "id": "86a5229a",
   "metadata": {},
   "source": [
    "## 5-7. Create a profiling variable based on age, income, certain goods in the 'department-id' column and number of dependents. Create an appropriate visualization to show the distribution of profiles. Aggregate the max, mean, and min variables on a customer -profile level for usage frequency and expenditure."
   ]
  },
  {
   "cell_type": "markdown",
   "id": "820e2ee4",
   "metadata": {},
   "source": [
    "### Age Profile"
   ]
  },
  {
   "cell_type": "code",
   "execution_count": 19,
   "id": "1062042b",
   "metadata": {},
   "outputs": [],
   "source": [
    "#Creating age profiling variable\n",
    "\n",
    "df.loc[df['age']<=25, 'age_group']='Young Adult'\n",
    "df.loc[(df['age']<65)&(df['age']>25), 'age_group']='Adult'\n",
    "df.loc[df['age']>=65, 'age_group']='Senior'"
   ]
  },
  {
   "cell_type": "code",
   "execution_count": 20,
   "id": "f0a55e9e",
   "metadata": {},
   "outputs": [
    {
     "data": {
      "text/plain": [
       "age_group\n",
       "Adult          6058855\n",
       "Senior         2620487\n",
       "Young Adult    1238911\n",
       "Name: count, dtype: int64"
      ]
     },
     "execution_count": 20,
     "metadata": {},
     "output_type": "execute_result"
    }
   ],
   "source": [
    "# Checking new variable\n",
    "\n",
    "df['age_group'].value_counts()"
   ]
  },
  {
   "cell_type": "code",
   "execution_count": 21,
   "id": "85b50c8c",
   "metadata": {},
   "outputs": [
    {
     "data": {
      "text/html": [
       "<div>\n",
       "<style scoped>\n",
       "    .dataframe tbody tr th:only-of-type {\n",
       "        vertical-align: middle;\n",
       "    }\n",
       "\n",
       "    .dataframe tbody tr th {\n",
       "        vertical-align: top;\n",
       "    }\n",
       "\n",
       "    .dataframe thead tr th {\n",
       "        text-align: left;\n",
       "    }\n",
       "\n",
       "    .dataframe thead tr:last-of-type th {\n",
       "        text-align: right;\n",
       "    }\n",
       "</style>\n",
       "<table border=\"1\" class=\"dataframe\">\n",
       "  <thead>\n",
       "    <tr>\n",
       "      <th></th>\n",
       "      <th colspan=\"3\" halign=\"left\">median_days_between_orders</th>\n",
       "    </tr>\n",
       "    <tr>\n",
       "      <th></th>\n",
       "      <th>mean</th>\n",
       "      <th>min</th>\n",
       "      <th>max</th>\n",
       "    </tr>\n",
       "    <tr>\n",
       "      <th>age_group</th>\n",
       "      <th></th>\n",
       "      <th></th>\n",
       "      <th></th>\n",
       "    </tr>\n",
       "  </thead>\n",
       "  <tbody>\n",
       "    <tr>\n",
       "      <th>Adult</th>\n",
       "      <td>10.449149</td>\n",
       "      <td>0.0</td>\n",
       "      <td>30.0</td>\n",
       "    </tr>\n",
       "    <tr>\n",
       "      <th>Senior</th>\n",
       "      <td>10.365720</td>\n",
       "      <td>0.0</td>\n",
       "      <td>30.0</td>\n",
       "    </tr>\n",
       "    <tr>\n",
       "      <th>Young Adult</th>\n",
       "      <td>10.280622</td>\n",
       "      <td>0.0</td>\n",
       "      <td>30.0</td>\n",
       "    </tr>\n",
       "  </tbody>\n",
       "</table>\n",
       "</div>"
      ],
      "text/plain": [
       "            median_days_between_orders           \n",
       "                                  mean  min   max\n",
       "age_group                                        \n",
       "Adult                        10.449149  0.0  30.0\n",
       "Senior                       10.365720  0.0  30.0\n",
       "Young Adult                  10.280622  0.0  30.0"
      ]
     },
     "execution_count": 21,
     "metadata": {},
     "output_type": "execute_result"
    }
   ],
   "source": [
    "# Aggregate for age group usage frequency\n",
    "\n",
    "df.groupby('age_group').agg({'median_days_between_orders':['mean', 'min', 'max']})"
   ]
  },
  {
   "cell_type": "code",
   "execution_count": 22,
   "id": "869d6401",
   "metadata": {},
   "outputs": [
    {
     "data": {
      "text/html": [
       "<div>\n",
       "<style scoped>\n",
       "    .dataframe tbody tr th:only-of-type {\n",
       "        vertical-align: middle;\n",
       "    }\n",
       "\n",
       "    .dataframe tbody tr th {\n",
       "        vertical-align: top;\n",
       "    }\n",
       "\n",
       "    .dataframe thead tr th {\n",
       "        text-align: left;\n",
       "    }\n",
       "\n",
       "    .dataframe thead tr:last-of-type th {\n",
       "        text-align: right;\n",
       "    }\n",
       "</style>\n",
       "<table border=\"1\" class=\"dataframe\">\n",
       "  <thead>\n",
       "    <tr>\n",
       "      <th></th>\n",
       "      <th colspan=\"3\" halign=\"left\">prices</th>\n",
       "    </tr>\n",
       "    <tr>\n",
       "      <th></th>\n",
       "      <th>mean</th>\n",
       "      <th>min</th>\n",
       "      <th>max</th>\n",
       "    </tr>\n",
       "    <tr>\n",
       "      <th>age_group</th>\n",
       "      <th></th>\n",
       "      <th></th>\n",
       "      <th></th>\n",
       "    </tr>\n",
       "  </thead>\n",
       "  <tbody>\n",
       "    <tr>\n",
       "      <th>Adult</th>\n",
       "      <td>7.789642</td>\n",
       "      <td>1.0</td>\n",
       "      <td>25.0</td>\n",
       "    </tr>\n",
       "    <tr>\n",
       "      <th>Senior</th>\n",
       "      <td>7.794646</td>\n",
       "      <td>1.0</td>\n",
       "      <td>25.0</td>\n",
       "    </tr>\n",
       "    <tr>\n",
       "      <th>Young Adult</th>\n",
       "      <td>7.791091</td>\n",
       "      <td>1.0</td>\n",
       "      <td>25.0</td>\n",
       "    </tr>\n",
       "  </tbody>\n",
       "</table>\n",
       "</div>"
      ],
      "text/plain": [
       "               prices           \n",
       "                 mean  min   max\n",
       "age_group                       \n",
       "Adult        7.789642  1.0  25.0\n",
       "Senior       7.794646  1.0  25.0\n",
       "Young Adult  7.791091  1.0  25.0"
      ]
     },
     "execution_count": 22,
     "metadata": {},
     "output_type": "execute_result"
    }
   ],
   "source": [
    "# Aggregate for age group expenditure\n",
    "\n",
    "df.groupby('age_group').agg({'prices': ['mean', 'min', 'max']})"
   ]
  },
  {
   "cell_type": "code",
   "execution_count": 23,
   "id": "baa1f756",
   "metadata": {},
   "outputs": [
    {
     "data": {
      "image/png": "[encoded data removed]",
      "text/plain": [
       "<Figure size 640x480 with 1 Axes>"
      ]
     },
     "metadata": {},
     "output_type": "display_data"
    }
   ],
   "source": [
    "# Age profile visualization\n",
    "\n",
    "bar=df['age_group'].value_counts().plot.bar(color = ['purple', 'green', 'yellow'])"
   ]
  },
  {
   "cell_type": "code",
   "execution_count": 24,
   "id": "18b133b1",
   "metadata": {},
   "outputs": [],
   "source": [
    "# Export Bar Chart\n",
    "\n",
    "bar.figure.savefig(os.path.join(path, '04 Analysis', 'Visualizations', 'bar_agegroup.png'))"
   ]
  },
  {
   "cell_type": "markdown",
   "id": "ae42e009",
   "metadata": {},
   "source": [
    "### Income Profile"
   ]
  },
  {
   "cell_type": "code",
   "execution_count": 25,
   "id": "4d163532",
   "metadata": {},
   "outputs": [],
   "source": [
    "#Create inceome profiling variable\n",
    "\n",
    "df.loc[df['income']<40000, 'income_group']='low income'\n",
    "df.loc[(df['income']>=40000)&(df['income']<150000), 'income_group']='middle income'\n",
    "df.loc[df['income']>150000, 'income_group']='high income'"
   ]
  },
  {
   "cell_type": "code",
   "execution_count": 26,
   "id": "bddeca73",
   "metadata": {},
   "outputs": [
    {
     "data": {
      "text/plain": [
       "income_group\n",
       "middle income    8121035\n",
       "high income      1247197\n",
       "low income        550021\n",
       "Name: count, dtype: int64"
      ]
     },
     "execution_count": 26,
     "metadata": {},
     "output_type": "execute_result"
    }
   ],
   "source": [
    "# Checking new variable\n",
    "\n",
    "df['income_group'].value_counts()"
   ]
  },
  {
   "cell_type": "code",
   "execution_count": 27,
   "id": "24462d2e",
   "metadata": {},
   "outputs": [
    {
     "data": {
      "text/html": [
       "<div>\n",
       "<style scoped>\n",
       "    .dataframe tbody tr th:only-of-type {\n",
       "        vertical-align: middle;\n",
       "    }\n",
       "\n",
       "    .dataframe tbody tr th {\n",
       "        vertical-align: top;\n",
       "    }\n",
       "\n",
       "    .dataframe thead tr th {\n",
       "        text-align: left;\n",
       "    }\n",
       "\n",
       "    .dataframe thead tr:last-of-type th {\n",
       "        text-align: right;\n",
       "    }\n",
       "</style>\n",
       "<table border=\"1\" class=\"dataframe\">\n",
       "  <thead>\n",
       "    <tr>\n",
       "      <th></th>\n",
       "      <th colspan=\"3\" halign=\"left\">median_days_between_orders</th>\n",
       "    </tr>\n",
       "    <tr>\n",
       "      <th></th>\n",
       "      <th>mean</th>\n",
       "      <th>min</th>\n",
       "      <th>max</th>\n",
       "    </tr>\n",
       "    <tr>\n",
       "      <th>income_group</th>\n",
       "      <th></th>\n",
       "      <th></th>\n",
       "      <th></th>\n",
       "    </tr>\n",
       "  </thead>\n",
       "  <tbody>\n",
       "    <tr>\n",
       "      <th>high income</th>\n",
       "      <td>10.171335</td>\n",
       "      <td>0.0</td>\n",
       "      <td>30.0</td>\n",
       "    </tr>\n",
       "    <tr>\n",
       "      <th>low income</th>\n",
       "      <td>10.959961</td>\n",
       "      <td>0.0</td>\n",
       "      <td>30.0</td>\n",
       "    </tr>\n",
       "    <tr>\n",
       "      <th>middle income</th>\n",
       "      <td>10.404588</td>\n",
       "      <td>0.0</td>\n",
       "      <td>30.0</td>\n",
       "    </tr>\n",
       "  </tbody>\n",
       "</table>\n",
       "</div>"
      ],
      "text/plain": [
       "              median_days_between_orders           \n",
       "                                    mean  min   max\n",
       "income_group                                       \n",
       "high income                    10.171335  0.0  30.0\n",
       "low income                     10.959961  0.0  30.0\n",
       "middle income                  10.404588  0.0  30.0"
      ]
     },
     "execution_count": 27,
     "metadata": {},
     "output_type": "execute_result"
    }
   ],
   "source": [
    "# Aggregate for income group order frequency\n",
    "\n",
    "df.groupby('income_group').agg({'median_days_between_orders': ['mean', 'min', 'max']})"
   ]
  },
  {
   "cell_type": "code",
   "execution_count": 28,
   "id": "d17b173f",
   "metadata": {},
   "outputs": [
    {
     "data": {
      "text/html": [
       "<div>\n",
       "<style scoped>\n",
       "    .dataframe tbody tr th:only-of-type {\n",
       "        vertical-align: middle;\n",
       "    }\n",
       "\n",
       "    .dataframe tbody tr th {\n",
       "        vertical-align: top;\n",
       "    }\n",
       "\n",
       "    .dataframe thead tr th {\n",
       "        text-align: left;\n",
       "    }\n",
       "\n",
       "    .dataframe thead tr:last-of-type th {\n",
       "        text-align: right;\n",
       "    }\n",
       "</style>\n",
       "<table border=\"1\" class=\"dataframe\">\n",
       "  <thead>\n",
       "    <tr>\n",
       "      <th></th>\n",
       "      <th colspan=\"3\" halign=\"left\">prices</th>\n",
       "    </tr>\n",
       "    <tr>\n",
       "      <th></th>\n",
       "      <th>mean</th>\n",
       "      <th>min</th>\n",
       "      <th>max</th>\n",
       "    </tr>\n",
       "    <tr>\n",
       "      <th>income_group</th>\n",
       "      <th></th>\n",
       "      <th></th>\n",
       "      <th></th>\n",
       "    </tr>\n",
       "  </thead>\n",
       "  <tbody>\n",
       "    <tr>\n",
       "      <th>high income</th>\n",
       "      <td>7.950422</td>\n",
       "      <td>1.0</td>\n",
       "      <td>25.0</td>\n",
       "    </tr>\n",
       "    <tr>\n",
       "      <th>low income</th>\n",
       "      <td>6.495792</td>\n",
       "      <td>1.0</td>\n",
       "      <td>25.0</td>\n",
       "    </tr>\n",
       "    <tr>\n",
       "      <th>middle income</th>\n",
       "      <td>7.854439</td>\n",
       "      <td>1.0</td>\n",
       "      <td>25.0</td>\n",
       "    </tr>\n",
       "  </tbody>\n",
       "</table>\n",
       "</div>"
      ],
      "text/plain": [
       "                 prices           \n",
       "                   mean  min   max\n",
       "income_group                      \n",
       "high income    7.950422  1.0  25.0\n",
       "low income     6.495792  1.0  25.0\n",
       "middle income  7.854439  1.0  25.0"
      ]
     },
     "execution_count": 28,
     "metadata": {},
     "output_type": "execute_result"
    }
   ],
   "source": [
    "# Aggregate for income group expenditure\n",
    "\n",
    "df.groupby('income_group').agg({'prices': ['mean', 'min', 'max']})"
   ]
  },
  {
   "cell_type": "code",
   "execution_count": 29,
   "id": "961bd558",
   "metadata": {},
   "outputs": [
    {
     "data": {
      "image/png": "[encoded data removed]",
      "text/plain": [
       "<Figure size 640x480 with 1 Axes>"
      ]
     },
     "metadata": {},
     "output_type": "display_data"
    }
   ],
   "source": [
    "#Income profile visualization\n",
    "\n",
    "bar2=df['income_group'].value_counts().sort_values().plot.barh()"
   ]
  },
  {
   "cell_type": "code",
   "execution_count": 30,
   "id": "65a835ea",
   "metadata": {},
   "outputs": [],
   "source": [
    "# Export Bar Chart\n",
    "\n",
    "bar2.figure.savefig(os.path.join(path, '04 Analysis', 'Visualizations', 'bar_incomegroup.png'))"
   ]
  },
  {
   "cell_type": "code",
   "execution_count": 31,
   "id": "c0456c65",
   "metadata": {},
   "outputs": [],
   "source": [
    "# Creating dependent group profiling variable\n",
    "df.loc[df['n_dependants']>0, 'dependants_group']='has dependants' \n",
    "df.loc[df['n_dependants']==0, 'dependants_group']='no dependants'"
   ]
  },
  {
   "cell_type": "code",
   "execution_count": 32,
   "id": "2789cda9",
   "metadata": {},
   "outputs": [
    {
     "data": {
      "text/plain": [
       "dependants_group\n",
       "has dependants    7466367\n",
       "no dependants     2451886\n",
       "Name: count, dtype: int64"
      ]
     },
     "execution_count": 32,
     "metadata": {},
     "output_type": "execute_result"
    }
   ],
   "source": [
    "# Checking new variable\n",
    "\n",
    "df['dependants_group'].value_counts()"
   ]
  },
  {
   "cell_type": "code",
   "execution_count": 33,
   "id": "f60d42bf",
   "metadata": {},
   "outputs": [
    {
     "data": {
      "text/html": [
       "<div>\n",
       "<style scoped>\n",
       "    .dataframe tbody tr th:only-of-type {\n",
       "        vertical-align: middle;\n",
       "    }\n",
       "\n",
       "    .dataframe tbody tr th {\n",
       "        vertical-align: top;\n",
       "    }\n",
       "\n",
       "    .dataframe thead tr th {\n",
       "        text-align: left;\n",
       "    }\n",
       "\n",
       "    .dataframe thead tr:last-of-type th {\n",
       "        text-align: right;\n",
       "    }\n",
       "</style>\n",
       "<table border=\"1\" class=\"dataframe\">\n",
       "  <thead>\n",
       "    <tr>\n",
       "      <th></th>\n",
       "      <th colspan=\"3\" halign=\"left\">median_days_between_orders</th>\n",
       "    </tr>\n",
       "    <tr>\n",
       "      <th></th>\n",
       "      <th>mean</th>\n",
       "      <th>min</th>\n",
       "      <th>max</th>\n",
       "    </tr>\n",
       "    <tr>\n",
       "      <th>dependants_group</th>\n",
       "      <th></th>\n",
       "      <th></th>\n",
       "      <th></th>\n",
       "    </tr>\n",
       "  </thead>\n",
       "  <tbody>\n",
       "    <tr>\n",
       "      <th>has dependants</th>\n",
       "      <td>10.393676</td>\n",
       "      <td>0.0</td>\n",
       "      <td>30.0</td>\n",
       "    </tr>\n",
       "    <tr>\n",
       "      <th>no dependants</th>\n",
       "      <td>10.443754</td>\n",
       "      <td>0.0</td>\n",
       "      <td>30.0</td>\n",
       "    </tr>\n",
       "  </tbody>\n",
       "</table>\n",
       "</div>"
      ],
      "text/plain": [
       "                 median_days_between_orders           \n",
       "                                       mean  min   max\n",
       "dependants_group                                      \n",
       "has dependants                    10.393676  0.0  30.0\n",
       "no dependants                     10.443754  0.0  30.0"
      ]
     },
     "execution_count": 33,
     "metadata": {},
     "output_type": "execute_result"
    }
   ],
   "source": [
    "# Aggregate for dependent group order frequency\n",
    "\n",
    "df.groupby('dependants_group').agg({'median_days_between_orders': ['mean', 'min', 'max']})"
   ]
  },
  {
   "cell_type": "code",
   "execution_count": 34,
   "id": "6dda5aaa",
   "metadata": {},
   "outputs": [
    {
     "data": {
      "text/html": [
       "<div>\n",
       "<style scoped>\n",
       "    .dataframe tbody tr th:only-of-type {\n",
       "        vertical-align: middle;\n",
       "    }\n",
       "\n",
       "    .dataframe tbody tr th {\n",
       "        vertical-align: top;\n",
       "    }\n",
       "\n",
       "    .dataframe thead tr th {\n",
       "        text-align: left;\n",
       "    }\n",
       "\n",
       "    .dataframe thead tr:last-of-type th {\n",
       "        text-align: right;\n",
       "    }\n",
       "</style>\n",
       "<table border=\"1\" class=\"dataframe\">\n",
       "  <thead>\n",
       "    <tr>\n",
       "      <th></th>\n",
       "      <th colspan=\"3\" halign=\"left\">prices</th>\n",
       "    </tr>\n",
       "    <tr>\n",
       "      <th></th>\n",
       "      <th>mean</th>\n",
       "      <th>min</th>\n",
       "      <th>max</th>\n",
       "    </tr>\n",
       "    <tr>\n",
       "      <th>dependants_group</th>\n",
       "      <th></th>\n",
       "      <th></th>\n",
       "      <th></th>\n",
       "    </tr>\n",
       "  </thead>\n",
       "  <tbody>\n",
       "    <tr>\n",
       "      <th>has dependants</th>\n",
       "      <td>7.792627</td>\n",
       "      <td>1.0</td>\n",
       "      <td>25.0</td>\n",
       "    </tr>\n",
       "    <tr>\n",
       "      <th>no dependants</th>\n",
       "      <td>7.786633</td>\n",
       "      <td>1.0</td>\n",
       "      <td>25.0</td>\n",
       "    </tr>\n",
       "  </tbody>\n",
       "</table>\n",
       "</div>"
      ],
      "text/plain": [
       "                    prices           \n",
       "                      mean  min   max\n",
       "dependants_group                     \n",
       "has dependants    7.792627  1.0  25.0\n",
       "no dependants     7.786633  1.0  25.0"
      ]
     },
     "execution_count": 34,
     "metadata": {},
     "output_type": "execute_result"
    }
   ],
   "source": [
    "# Aggregate for dependent group expenditure\n",
    "\n",
    "df.groupby('dependants_group').agg({'prices': ['mean', 'min', 'max']})"
   ]
  },
  {
   "cell_type": "code",
   "execution_count": 35,
   "id": "6c1d9d4a",
   "metadata": {},
   "outputs": [
    {
     "data": {
      "image/png": "[encoded data removed]",
      "text/plain": [
       "<Figure size 640x480 with 1 Axes>"
      ]
     },
     "metadata": {},
     "output_type": "display_data"
    }
   ],
   "source": [
    "# Number of dependent group profile visualization\n",
    "\n",
    "bar10 = df['dependants_group'].value_counts().sort_values().plot.barh()"
   ]
  },
  {
   "cell_type": "code",
   "execution_count": 36,
   "id": "b5ad9593",
   "metadata": {},
   "outputs": [],
   "source": [
    "# Export Bar Chart\n",
    "\n",
    "bar10.figure.savefig(os.path.join(path, '04 Analysis', 'Visualizations', 'bar_dependentgroup.png'))"
   ]
  },
  {
   "cell_type": "markdown",
   "id": "2c53761d",
   "metadata": {},
   "source": [
    "### Department ID Profile"
   ]
  },
  {
   "cell_type": "code",
   "execution_count": 37,
   "id": "ef45b082",
   "metadata": {},
   "outputs": [],
   "source": [
    "#Importing departments dataframe\n",
    "\n",
    "df_dept=pd.read_csv(os.path.join(path, '02 Data', 'Prepared Data', 'departments_wrangled.csv'))"
   ]
  },
  {
   "cell_type": "code",
   "execution_count": 38,
   "id": "c934c110",
   "metadata": {},
   "outputs": [
    {
     "data": {
      "text/html": [
       "<div>\n",
       "<style scoped>\n",
       "    .dataframe tbody tr th:only-of-type {\n",
       "        vertical-align: middle;\n",
       "    }\n",
       "\n",
       "    .dataframe tbody tr th {\n",
       "        vertical-align: top;\n",
       "    }\n",
       "\n",
       "    .dataframe thead th {\n",
       "        text-align: right;\n",
       "    }\n",
       "</style>\n",
       "<table border=\"1\" class=\"dataframe\">\n",
       "  <thead>\n",
       "    <tr style=\"text-align: right;\">\n",
       "      <th></th>\n",
       "      <th>Unnamed: 0</th>\n",
       "      <th>department</th>\n",
       "    </tr>\n",
       "  </thead>\n",
       "  <tbody>\n",
       "    <tr>\n",
       "      <th>0</th>\n",
       "      <td>1</td>\n",
       "      <td>frozen</td>\n",
       "    </tr>\n",
       "    <tr>\n",
       "      <th>1</th>\n",
       "      <td>2</td>\n",
       "      <td>other</td>\n",
       "    </tr>\n",
       "    <tr>\n",
       "      <th>2</th>\n",
       "      <td>3</td>\n",
       "      <td>bakery</td>\n",
       "    </tr>\n",
       "    <tr>\n",
       "      <th>3</th>\n",
       "      <td>4</td>\n",
       "      <td>produce</td>\n",
       "    </tr>\n",
       "    <tr>\n",
       "      <th>4</th>\n",
       "      <td>5</td>\n",
       "      <td>alcohol</td>\n",
       "    </tr>\n",
       "    <tr>\n",
       "      <th>5</th>\n",
       "      <td>6</td>\n",
       "      <td>international</td>\n",
       "    </tr>\n",
       "    <tr>\n",
       "      <th>6</th>\n",
       "      <td>7</td>\n",
       "      <td>beverages</td>\n",
       "    </tr>\n",
       "    <tr>\n",
       "      <th>7</th>\n",
       "      <td>8</td>\n",
       "      <td>pets</td>\n",
       "    </tr>\n",
       "    <tr>\n",
       "      <th>8</th>\n",
       "      <td>9</td>\n",
       "      <td>dry goods pasta</td>\n",
       "    </tr>\n",
       "    <tr>\n",
       "      <th>9</th>\n",
       "      <td>10</td>\n",
       "      <td>bulk</td>\n",
       "    </tr>\n",
       "    <tr>\n",
       "      <th>10</th>\n",
       "      <td>11</td>\n",
       "      <td>personal care</td>\n",
       "    </tr>\n",
       "    <tr>\n",
       "      <th>11</th>\n",
       "      <td>12</td>\n",
       "      <td>meat seafood</td>\n",
       "    </tr>\n",
       "    <tr>\n",
       "      <th>12</th>\n",
       "      <td>13</td>\n",
       "      <td>pantry</td>\n",
       "    </tr>\n",
       "    <tr>\n",
       "      <th>13</th>\n",
       "      <td>14</td>\n",
       "      <td>breakfast</td>\n",
       "    </tr>\n",
       "    <tr>\n",
       "      <th>14</th>\n",
       "      <td>15</td>\n",
       "      <td>canned goods</td>\n",
       "    </tr>\n",
       "    <tr>\n",
       "      <th>15</th>\n",
       "      <td>16</td>\n",
       "      <td>dairy eggs</td>\n",
       "    </tr>\n",
       "    <tr>\n",
       "      <th>16</th>\n",
       "      <td>17</td>\n",
       "      <td>household</td>\n",
       "    </tr>\n",
       "    <tr>\n",
       "      <th>17</th>\n",
       "      <td>18</td>\n",
       "      <td>babies</td>\n",
       "    </tr>\n",
       "    <tr>\n",
       "      <th>18</th>\n",
       "      <td>19</td>\n",
       "      <td>snacks</td>\n",
       "    </tr>\n",
       "    <tr>\n",
       "      <th>19</th>\n",
       "      <td>20</td>\n",
       "      <td>deli</td>\n",
       "    </tr>\n",
       "    <tr>\n",
       "      <th>20</th>\n",
       "      <td>21</td>\n",
       "      <td>missing</td>\n",
       "    </tr>\n",
       "  </tbody>\n",
       "</table>\n",
       "</div>"
      ],
      "text/plain": [
       "    Unnamed: 0       department\n",
       "0            1           frozen\n",
       "1            2            other\n",
       "2            3           bakery\n",
       "3            4          produce\n",
       "4            5          alcohol\n",
       "5            6    international\n",
       "6            7        beverages\n",
       "7            8             pets\n",
       "8            9  dry goods pasta\n",
       "9           10             bulk\n",
       "10          11    personal care\n",
       "11          12     meat seafood\n",
       "12          13           pantry\n",
       "13          14        breakfast\n",
       "14          15     canned goods\n",
       "15          16       dairy eggs\n",
       "16          17        household\n",
       "17          18           babies\n",
       "18          19           snacks\n",
       "19          20             deli\n",
       "20          21          missing"
      ]
     },
     "execution_count": 38,
     "metadata": {},
     "output_type": "execute_result"
    }
   ],
   "source": [
    "#Checking Dataframe\n",
    "df_dept"
   ]
  },
  {
   "cell_type": "code",
   "execution_count": 39,
   "id": "07819a3c",
   "metadata": {},
   "outputs": [],
   "source": [
    "#Renaming unnamed column to department_id\n",
    "df_dept.rename(columns = {'Unnamed: 0' : 'department_id'}, inplace = True)"
   ]
  },
  {
   "cell_type": "code",
   "execution_count": 40,
   "id": "065e20bd",
   "metadata": {},
   "outputs": [
    {
     "data": {
      "text/html": [
       "<div>\n",
       "<style scoped>\n",
       "    .dataframe tbody tr th:only-of-type {\n",
       "        vertical-align: middle;\n",
       "    }\n",
       "\n",
       "    .dataframe tbody tr th {\n",
       "        vertical-align: top;\n",
       "    }\n",
       "\n",
       "    .dataframe thead th {\n",
       "        text-align: right;\n",
       "    }\n",
       "</style>\n",
       "<table border=\"1\" class=\"dataframe\">\n",
       "  <thead>\n",
       "    <tr style=\"text-align: right;\">\n",
       "      <th></th>\n",
       "      <th>department_id</th>\n",
       "      <th>department</th>\n",
       "    </tr>\n",
       "  </thead>\n",
       "  <tbody>\n",
       "    <tr>\n",
       "      <th>0</th>\n",
       "      <td>1</td>\n",
       "      <td>frozen</td>\n",
       "    </tr>\n",
       "    <tr>\n",
       "      <th>1</th>\n",
       "      <td>2</td>\n",
       "      <td>other</td>\n",
       "    </tr>\n",
       "    <tr>\n",
       "      <th>2</th>\n",
       "      <td>3</td>\n",
       "      <td>bakery</td>\n",
       "    </tr>\n",
       "    <tr>\n",
       "      <th>3</th>\n",
       "      <td>4</td>\n",
       "      <td>produce</td>\n",
       "    </tr>\n",
       "    <tr>\n",
       "      <th>4</th>\n",
       "      <td>5</td>\n",
       "      <td>alcohol</td>\n",
       "    </tr>\n",
       "    <tr>\n",
       "      <th>5</th>\n",
       "      <td>6</td>\n",
       "      <td>international</td>\n",
       "    </tr>\n",
       "    <tr>\n",
       "      <th>6</th>\n",
       "      <td>7</td>\n",
       "      <td>beverages</td>\n",
       "    </tr>\n",
       "    <tr>\n",
       "      <th>7</th>\n",
       "      <td>8</td>\n",
       "      <td>pets</td>\n",
       "    </tr>\n",
       "    <tr>\n",
       "      <th>8</th>\n",
       "      <td>9</td>\n",
       "      <td>dry goods pasta</td>\n",
       "    </tr>\n",
       "    <tr>\n",
       "      <th>9</th>\n",
       "      <td>10</td>\n",
       "      <td>bulk</td>\n",
       "    </tr>\n",
       "    <tr>\n",
       "      <th>10</th>\n",
       "      <td>11</td>\n",
       "      <td>personal care</td>\n",
       "    </tr>\n",
       "    <tr>\n",
       "      <th>11</th>\n",
       "      <td>12</td>\n",
       "      <td>meat seafood</td>\n",
       "    </tr>\n",
       "    <tr>\n",
       "      <th>12</th>\n",
       "      <td>13</td>\n",
       "      <td>pantry</td>\n",
       "    </tr>\n",
       "    <tr>\n",
       "      <th>13</th>\n",
       "      <td>14</td>\n",
       "      <td>breakfast</td>\n",
       "    </tr>\n",
       "    <tr>\n",
       "      <th>14</th>\n",
       "      <td>15</td>\n",
       "      <td>canned goods</td>\n",
       "    </tr>\n",
       "    <tr>\n",
       "      <th>15</th>\n",
       "      <td>16</td>\n",
       "      <td>dairy eggs</td>\n",
       "    </tr>\n",
       "    <tr>\n",
       "      <th>16</th>\n",
       "      <td>17</td>\n",
       "      <td>household</td>\n",
       "    </tr>\n",
       "    <tr>\n",
       "      <th>17</th>\n",
       "      <td>18</td>\n",
       "      <td>babies</td>\n",
       "    </tr>\n",
       "    <tr>\n",
       "      <th>18</th>\n",
       "      <td>19</td>\n",
       "      <td>snacks</td>\n",
       "    </tr>\n",
       "    <tr>\n",
       "      <th>19</th>\n",
       "      <td>20</td>\n",
       "      <td>deli</td>\n",
       "    </tr>\n",
       "    <tr>\n",
       "      <th>20</th>\n",
       "      <td>21</td>\n",
       "      <td>missing</td>\n",
       "    </tr>\n",
       "  </tbody>\n",
       "</table>\n",
       "</div>"
      ],
      "text/plain": [
       "    department_id       department\n",
       "0               1           frozen\n",
       "1               2            other\n",
       "2               3           bakery\n",
       "3               4          produce\n",
       "4               5          alcohol\n",
       "5               6    international\n",
       "6               7        beverages\n",
       "7               8             pets\n",
       "8               9  dry goods pasta\n",
       "9              10             bulk\n",
       "10             11    personal care\n",
       "11             12     meat seafood\n",
       "12             13           pantry\n",
       "13             14        breakfast\n",
       "14             15     canned goods\n",
       "15             16       dairy eggs\n",
       "16             17        household\n",
       "17             18           babies\n",
       "18             19           snacks\n",
       "19             20             deli\n",
       "20             21          missing"
      ]
     },
     "execution_count": 40,
     "metadata": {},
     "output_type": "execute_result"
    }
   ],
   "source": [
    "df_dept"
   ]
  },
  {
   "cell_type": "code",
   "execution_count": 41,
   "id": "82b3766e",
   "metadata": {},
   "outputs": [
    {
     "data": {
      "text/plain": [
       "{1: 'frozen',\n",
       " 2: 'other',\n",
       " 3: 'bakery',\n",
       " 4: 'produce',\n",
       " 5: 'alcohol',\n",
       " 6: 'international',\n",
       " 7: 'beverages',\n",
       " 8: 'pets',\n",
       " 9: 'dry goods pasta',\n",
       " 10: 'bulk',\n",
       " 11: 'personal care',\n",
       " 12: 'meat seafood',\n",
       " 13: 'pantry',\n",
       " 14: 'breakfast',\n",
       " 15: 'canned goods',\n",
       " 16: 'dairy eggs',\n",
       " 17: 'household',\n",
       " 18: 'babies',\n",
       " 19: 'snacks',\n",
       " 20: 'deli',\n",
       " 21: 'missing'}"
      ]
     },
     "execution_count": 41,
     "metadata": {},
     "output_type": "execute_result"
    }
   ],
   "source": [
    "#Turning department dataframe into data dictionary\n",
    "zipped=zip(df_dept['department_id'], df_dept['department'])\n",
    "data_dict=dict(zipped)\n",
    "data_dict\n"
   ]
  },
  {
   "cell_type": "code",
   "execution_count": 42,
   "id": "045fed12",
   "metadata": {},
   "outputs": [],
   "source": [
    "# Connect department names to department_id in dataframe\n",
    "\n",
    "df['department'] = df['department_id'].map(data_dict)"
   ]
  },
  {
   "cell_type": "code",
   "execution_count": 43,
   "id": "f4c5efe2",
   "metadata": {},
   "outputs": [
    {
     "data": {
      "text/html": [
       "<div>\n",
       "<style scoped>\n",
       "    .dataframe tbody tr th:only-of-type {\n",
       "        vertical-align: middle;\n",
       "    }\n",
       "\n",
       "    .dataframe tbody tr th {\n",
       "        vertical-align: top;\n",
       "    }\n",
       "\n",
       "    .dataframe thead th {\n",
       "        text-align: right;\n",
       "    }\n",
       "</style>\n",
       "<table border=\"1\" class=\"dataframe\">\n",
       "  <thead>\n",
       "    <tr style=\"text-align: right;\">\n",
       "      <th></th>\n",
       "      <th>product_id</th>\n",
       "      <th>product_name</th>\n",
       "      <th>aisle_id</th>\n",
       "      <th>department_id</th>\n",
       "      <th>prices</th>\n",
       "      <th>order_id</th>\n",
       "      <th>user_id</th>\n",
       "      <th>order_number</th>\n",
       "      <th>order_day_of_week</th>\n",
       "      <th>order_hour_of_day</th>\n",
       "      <th>...</th>\n",
       "      <th>n_dependants</th>\n",
       "      <th>marital_status</th>\n",
       "      <th>income</th>\n",
       "      <th>merge_indicator</th>\n",
       "      <th>region</th>\n",
       "      <th>activity</th>\n",
       "      <th>age_group</th>\n",
       "      <th>income_group</th>\n",
       "      <th>dependants_group</th>\n",
       "      <th>department</th>\n",
       "    </tr>\n",
       "  </thead>\n",
       "  <tbody>\n",
       "    <tr>\n",
       "      <th>0</th>\n",
       "      <td>1</td>\n",
       "      <td>Chocolate Sandwich Cookies</td>\n",
       "      <td>61</td>\n",
       "      <td>19</td>\n",
       "      <td>5.8</td>\n",
       "      <td>3139998</td>\n",
       "      <td>138</td>\n",
       "      <td>28</td>\n",
       "      <td>6</td>\n",
       "      <td>11</td>\n",
       "      <td>...</td>\n",
       "      <td>1</td>\n",
       "      <td>married</td>\n",
       "      <td>49620</td>\n",
       "      <td>both</td>\n",
       "      <td>Midwest</td>\n",
       "      <td>high</td>\n",
       "      <td>Senior</td>\n",
       "      <td>middle income</td>\n",
       "      <td>has dependants</td>\n",
       "      <td>snacks</td>\n",
       "    </tr>\n",
       "    <tr>\n",
       "      <th>1</th>\n",
       "      <td>1</td>\n",
       "      <td>Chocolate Sandwich Cookies</td>\n",
       "      <td>61</td>\n",
       "      <td>19</td>\n",
       "      <td>5.8</td>\n",
       "      <td>1977647</td>\n",
       "      <td>138</td>\n",
       "      <td>30</td>\n",
       "      <td>6</td>\n",
       "      <td>17</td>\n",
       "      <td>...</td>\n",
       "      <td>1</td>\n",
       "      <td>married</td>\n",
       "      <td>49620</td>\n",
       "      <td>both</td>\n",
       "      <td>Midwest</td>\n",
       "      <td>high</td>\n",
       "      <td>Senior</td>\n",
       "      <td>middle income</td>\n",
       "      <td>has dependants</td>\n",
       "      <td>snacks</td>\n",
       "    </tr>\n",
       "    <tr>\n",
       "      <th>2</th>\n",
       "      <td>1</td>\n",
       "      <td>Chocolate Sandwich Cookies</td>\n",
       "      <td>61</td>\n",
       "      <td>19</td>\n",
       "      <td>5.8</td>\n",
       "      <td>389851</td>\n",
       "      <td>709</td>\n",
       "      <td>2</td>\n",
       "      <td>0</td>\n",
       "      <td>21</td>\n",
       "      <td>...</td>\n",
       "      <td>2</td>\n",
       "      <td>married</td>\n",
       "      <td>158302</td>\n",
       "      <td>both</td>\n",
       "      <td>Northeast</td>\n",
       "      <td>high</td>\n",
       "      <td>Senior</td>\n",
       "      <td>high income</td>\n",
       "      <td>has dependants</td>\n",
       "      <td>snacks</td>\n",
       "    </tr>\n",
       "    <tr>\n",
       "      <th>3</th>\n",
       "      <td>1</td>\n",
       "      <td>Chocolate Sandwich Cookies</td>\n",
       "      <td>61</td>\n",
       "      <td>19</td>\n",
       "      <td>5.8</td>\n",
       "      <td>652770</td>\n",
       "      <td>764</td>\n",
       "      <td>1</td>\n",
       "      <td>3</td>\n",
       "      <td>13</td>\n",
       "      <td>...</td>\n",
       "      <td>3</td>\n",
       "      <td>married</td>\n",
       "      <td>31308</td>\n",
       "      <td>both</td>\n",
       "      <td>Midwest</td>\n",
       "      <td>low</td>\n",
       "      <td>Adult</td>\n",
       "      <td>low income</td>\n",
       "      <td>has dependants</td>\n",
       "      <td>snacks</td>\n",
       "    </tr>\n",
       "    <tr>\n",
       "      <th>4</th>\n",
       "      <td>1</td>\n",
       "      <td>Chocolate Sandwich Cookies</td>\n",
       "      <td>61</td>\n",
       "      <td>19</td>\n",
       "      <td>5.8</td>\n",
       "      <td>1813452</td>\n",
       "      <td>764</td>\n",
       "      <td>3</td>\n",
       "      <td>4</td>\n",
       "      <td>17</td>\n",
       "      <td>...</td>\n",
       "      <td>3</td>\n",
       "      <td>married</td>\n",
       "      <td>31308</td>\n",
       "      <td>both</td>\n",
       "      <td>Midwest</td>\n",
       "      <td>low</td>\n",
       "      <td>Adult</td>\n",
       "      <td>low income</td>\n",
       "      <td>has dependants</td>\n",
       "      <td>snacks</td>\n",
       "    </tr>\n",
       "  </tbody>\n",
       "</table>\n",
       "<p>5 rows × 39 columns</p>\n",
       "</div>"
      ],
      "text/plain": [
       "   product_id                product_name  aisle_id  department_id  prices  \\\n",
       "0           1  Chocolate Sandwich Cookies        61             19     5.8   \n",
       "1           1  Chocolate Sandwich Cookies        61             19     5.8   \n",
       "2           1  Chocolate Sandwich Cookies        61             19     5.8   \n",
       "3           1  Chocolate Sandwich Cookies        61             19     5.8   \n",
       "4           1  Chocolate Sandwich Cookies        61             19     5.8   \n",
       "\n",
       "  order_id user_id  order_number  order_day_of_week  order_hour_of_day  ...  \\\n",
       "0  3139998     138            28                  6                 11  ...   \n",
       "1  1977647     138            30                  6                 17  ...   \n",
       "2   389851     709             2                  0                 21  ...   \n",
       "3   652770     764             1                  3                 13  ...   \n",
       "4  1813452     764             3                  4                 17  ...   \n",
       "\n",
       "   n_dependants  marital_status  income  merge_indicator     region activity  \\\n",
       "0             1         married   49620             both    Midwest     high   \n",
       "1             1         married   49620             both    Midwest     high   \n",
       "2             2         married  158302             both  Northeast     high   \n",
       "3             3         married   31308             both    Midwest      low   \n",
       "4             3         married   31308             both    Midwest      low   \n",
       "\n",
       "  age_group   income_group dependants_group  department  \n",
       "0    Senior  middle income   has dependants      snacks  \n",
       "1    Senior  middle income   has dependants      snacks  \n",
       "2    Senior    high income   has dependants      snacks  \n",
       "3     Adult     low income   has dependants      snacks  \n",
       "4     Adult     low income   has dependants      snacks  \n",
       "\n",
       "[5 rows x 39 columns]"
      ]
     },
     "execution_count": 43,
     "metadata": {},
     "output_type": "execute_result"
    }
   ],
   "source": [
    "#Checking dataframe\n",
    "df.head()"
   ]
  },
  {
   "cell_type": "markdown",
   "id": "4d5ee61d",
   "metadata": {},
   "source": [
    "### Department-Baby Profile"
   ]
  },
  {
   "cell_type": "code",
   "execution_count": 44,
   "id": "522e2162",
   "metadata": {},
   "outputs": [
    {
     "name": "stderr",
     "output_type": "stream",
     "text": [
      "C:\\Users\\tjsra\\AppData\\Local\\Temp\\ipykernel_10924\\2511058100.py:4: FutureWarning: The provided callable <function max at 0x0000016475824540> is currently using SeriesGroupBy.max. In a future version of pandas, the provided callable will be used directly. To keep current behavior pass the string \"max\" instead.\n",
      "  df['baby_status'] = df.groupby(['user_id'])['baby_status'].transform(np.max)\n"
     ]
    }
   ],
   "source": [
    "# Creating baby department profiling variable\n",
    "\n",
    "df['baby_status'] = [1 if x == 'babies' else 0 for x in df['department']]\n",
    "df['baby_status'] = df.groupby(['user_id'])['baby_status'].transform(np.max)"
   ]
  },
  {
   "cell_type": "code",
   "execution_count": 45,
   "id": "f70853ac",
   "metadata": {},
   "outputs": [
    {
     "data": {
      "text/plain": [
       "baby_status\n",
       "0    6891862\n",
       "1    3026391\n",
       "Name: count, dtype: int64"
      ]
     },
     "execution_count": 45,
     "metadata": {},
     "output_type": "execute_result"
    }
   ],
   "source": [
    "#Checking new variable\n",
    "\n",
    "df['baby_status'].value_counts(dropna=False)"
   ]
  },
  {
   "cell_type": "code",
   "execution_count": 46,
   "id": "9a5d188a",
   "metadata": {},
   "outputs": [
    {
     "data": {
      "text/html": [
       "<div>\n",
       "<style scoped>\n",
       "    .dataframe tbody tr th:only-of-type {\n",
       "        vertical-align: middle;\n",
       "    }\n",
       "\n",
       "    .dataframe tbody tr th {\n",
       "        vertical-align: top;\n",
       "    }\n",
       "\n",
       "    .dataframe thead tr th {\n",
       "        text-align: left;\n",
       "    }\n",
       "\n",
       "    .dataframe thead tr:last-of-type th {\n",
       "        text-align: right;\n",
       "    }\n",
       "</style>\n",
       "<table border=\"1\" class=\"dataframe\">\n",
       "  <thead>\n",
       "    <tr>\n",
       "      <th></th>\n",
       "      <th colspan=\"3\" halign=\"left\">median_days_between_orders</th>\n",
       "    </tr>\n",
       "    <tr>\n",
       "      <th></th>\n",
       "      <th>mean</th>\n",
       "      <th>min</th>\n",
       "      <th>max</th>\n",
       "    </tr>\n",
       "    <tr>\n",
       "      <th>baby_status</th>\n",
       "      <th></th>\n",
       "      <th></th>\n",
       "      <th></th>\n",
       "    </tr>\n",
       "  </thead>\n",
       "  <tbody>\n",
       "    <tr>\n",
       "      <th>0</th>\n",
       "      <td>11.248910</td>\n",
       "      <td>0.0</td>\n",
       "      <td>30.0</td>\n",
       "    </tr>\n",
       "    <tr>\n",
       "      <th>1</th>\n",
       "      <td>8.486661</td>\n",
       "      <td>0.0</td>\n",
       "      <td>30.0</td>\n",
       "    </tr>\n",
       "  </tbody>\n",
       "</table>\n",
       "</div>"
      ],
      "text/plain": [
       "            median_days_between_orders           \n",
       "                                  mean  min   max\n",
       "baby_status                                      \n",
       "0                            11.248910  0.0  30.0\n",
       "1                             8.486661  0.0  30.0"
      ]
     },
     "execution_count": 46,
     "metadata": {},
     "output_type": "execute_result"
    }
   ],
   "source": [
    "# Aggregate for baby status bracket order frequency\n",
    "\n",
    "df.groupby('baby_status').agg({'median_days_between_orders': ['mean', 'min', 'max']})"
   ]
  },
  {
   "cell_type": "code",
   "execution_count": 47,
   "id": "88f929b2",
   "metadata": {},
   "outputs": [
    {
     "data": {
      "text/html": [
       "<div>\n",
       "<style scoped>\n",
       "    .dataframe tbody tr th:only-of-type {\n",
       "        vertical-align: middle;\n",
       "    }\n",
       "\n",
       "    .dataframe tbody tr th {\n",
       "        vertical-align: top;\n",
       "    }\n",
       "\n",
       "    .dataframe thead tr th {\n",
       "        text-align: left;\n",
       "    }\n",
       "\n",
       "    .dataframe thead tr:last-of-type th {\n",
       "        text-align: right;\n",
       "    }\n",
       "</style>\n",
       "<table border=\"1\" class=\"dataframe\">\n",
       "  <thead>\n",
       "    <tr>\n",
       "      <th></th>\n",
       "      <th colspan=\"3\" halign=\"left\">prices</th>\n",
       "    </tr>\n",
       "    <tr>\n",
       "      <th></th>\n",
       "      <th>mean</th>\n",
       "      <th>min</th>\n",
       "      <th>max</th>\n",
       "    </tr>\n",
       "    <tr>\n",
       "      <th>baby_status</th>\n",
       "      <th></th>\n",
       "      <th></th>\n",
       "      <th></th>\n",
       "    </tr>\n",
       "  </thead>\n",
       "  <tbody>\n",
       "    <tr>\n",
       "      <th>0</th>\n",
       "      <td>7.769727</td>\n",
       "      <td>1.0</td>\n",
       "      <td>25.0</td>\n",
       "    </tr>\n",
       "    <tr>\n",
       "      <th>1</th>\n",
       "      <td>7.839916</td>\n",
       "      <td>1.0</td>\n",
       "      <td>25.0</td>\n",
       "    </tr>\n",
       "  </tbody>\n",
       "</table>\n",
       "</div>"
      ],
      "text/plain": [
       "               prices           \n",
       "                 mean  min   max\n",
       "baby_status                     \n",
       "0            7.769727  1.0  25.0\n",
       "1            7.839916  1.0  25.0"
      ]
     },
     "execution_count": 47,
     "metadata": {},
     "output_type": "execute_result"
    }
   ],
   "source": [
    "# Aggregate for baby status bracket expenditure\n",
    "\n",
    "df.groupby('baby_status').agg({'prices': ['mean', 'min', 'max']})"
   ]
  },
  {
   "cell_type": "code",
   "execution_count": 48,
   "id": "3a9631e1",
   "metadata": {},
   "outputs": [
    {
     "data": {
      "image/png": "[encoded data removed]",
      "text/plain": [
       "<Figure size 640x480 with 1 Axes>"
      ]
     },
     "metadata": {},
     "output_type": "display_data"
    }
   ],
   "source": [
    "pie = df['baby_status'].value_counts().plot.pie(labels=['No', 'Yes'], autopct=('%1.f%%'), colors=['blue','orange'])"
   ]
  },
  {
   "cell_type": "code",
   "execution_count": 49,
   "id": "9f262241",
   "metadata": {},
   "outputs": [],
   "source": [
    "#Export pie chart\n",
    "\n",
    "pie.figure.savefig(os.path.join(path, '04 Analysis', 'Visualizations', 'pie_babystatus.png'))"
   ]
  },
  {
   "cell_type": "markdown",
   "id": "1a172a22",
   "metadata": {},
   "source": [
    "### Department - Alcohol Profile"
   ]
  },
  {
   "cell_type": "code",
   "execution_count": 50,
   "id": "fed47226",
   "metadata": {},
   "outputs": [
    {
     "name": "stderr",
     "output_type": "stream",
     "text": [
      "C:\\Users\\tjsra\\AppData\\Local\\Temp\\ipykernel_10924\\3553741728.py:3: FutureWarning: The provided callable <function max at 0x0000016475824540> is currently using SeriesGroupBy.max. In a future version of pandas, the provided callable will be used directly. To keep current behavior pass the string \"max\" instead.\n",
      "  df['alcohol_status'] = df.groupby(['user_id'])['alcohol_status'].transform(np.max)\n"
     ]
    }
   ],
   "source": [
    "#Creating alcohol profiling variable\n",
    "df['alcohol_status'] = [1 if x == 'alcohol' else 0 for x in df['department']]\n",
    "df['alcohol_status'] = df.groupby(['user_id'])['alcohol_status'].transform(np.max)"
   ]
  },
  {
   "cell_type": "code",
   "execution_count": 51,
   "id": "fc5ad960",
   "metadata": {},
   "outputs": [
    {
     "data": {
      "text/plain": [
       "alcohol_status\n",
       "0    9214149\n",
       "1     704104\n",
       "Name: count, dtype: int64"
      ]
     },
     "execution_count": 51,
     "metadata": {},
     "output_type": "execute_result"
    }
   ],
   "source": [
    "#Checking new variable\n",
    "\n",
    "df['alcohol_status'].value_counts(dropna=False)"
   ]
  },
  {
   "cell_type": "code",
   "execution_count": 52,
   "id": "b65fe26e",
   "metadata": {},
   "outputs": [
    {
     "data": {
      "text/html": [
       "<div>\n",
       "<style scoped>\n",
       "    .dataframe tbody tr th:only-of-type {\n",
       "        vertical-align: middle;\n",
       "    }\n",
       "\n",
       "    .dataframe tbody tr th {\n",
       "        vertical-align: top;\n",
       "    }\n",
       "\n",
       "    .dataframe thead tr th {\n",
       "        text-align: left;\n",
       "    }\n",
       "\n",
       "    .dataframe thead tr:last-of-type th {\n",
       "        text-align: right;\n",
       "    }\n",
       "</style>\n",
       "<table border=\"1\" class=\"dataframe\">\n",
       "  <thead>\n",
       "    <tr>\n",
       "      <th></th>\n",
       "      <th colspan=\"3\" halign=\"left\">median_days_between_orders</th>\n",
       "    </tr>\n",
       "    <tr>\n",
       "      <th></th>\n",
       "      <th>mean</th>\n",
       "      <th>min</th>\n",
       "      <th>max</th>\n",
       "    </tr>\n",
       "    <tr>\n",
       "      <th>alcohol_status</th>\n",
       "      <th></th>\n",
       "      <th></th>\n",
       "      <th></th>\n",
       "    </tr>\n",
       "  </thead>\n",
       "  <tbody>\n",
       "    <tr>\n",
       "      <th>0</th>\n",
       "      <td>10.428930</td>\n",
       "      <td>0.0</td>\n",
       "      <td>30.0</td>\n",
       "    </tr>\n",
       "    <tr>\n",
       "      <th>1</th>\n",
       "      <td>10.106714</td>\n",
       "      <td>0.0</td>\n",
       "      <td>30.0</td>\n",
       "    </tr>\n",
       "  </tbody>\n",
       "</table>\n",
       "</div>"
      ],
      "text/plain": [
       "               median_days_between_orders           \n",
       "                                     mean  min   max\n",
       "alcohol_status                                      \n",
       "0                               10.428930  0.0  30.0\n",
       "1                               10.106714  0.0  30.0"
      ]
     },
     "execution_count": 52,
     "metadata": {},
     "output_type": "execute_result"
    }
   ],
   "source": [
    "# Aggregate for alcohol_status bracket order frequency\n",
    "\n",
    "df.groupby('alcohol_status').agg({'median_days_between_orders': ['mean', 'min', 'max']})"
   ]
  },
  {
   "cell_type": "code",
   "execution_count": 53,
   "id": "52b45c03",
   "metadata": {},
   "outputs": [
    {
     "data": {
      "text/html": [
       "<div>\n",
       "<style scoped>\n",
       "    .dataframe tbody tr th:only-of-type {\n",
       "        vertical-align: middle;\n",
       "    }\n",
       "\n",
       "    .dataframe tbody tr th {\n",
       "        vertical-align: top;\n",
       "    }\n",
       "\n",
       "    .dataframe thead tr th {\n",
       "        text-align: left;\n",
       "    }\n",
       "\n",
       "    .dataframe thead tr:last-of-type th {\n",
       "        text-align: right;\n",
       "    }\n",
       "</style>\n",
       "<table border=\"1\" class=\"dataframe\">\n",
       "  <thead>\n",
       "    <tr>\n",
       "      <th></th>\n",
       "      <th colspan=\"3\" halign=\"left\">prices</th>\n",
       "    </tr>\n",
       "    <tr>\n",
       "      <th></th>\n",
       "      <th>mean</th>\n",
       "      <th>min</th>\n",
       "      <th>max</th>\n",
       "    </tr>\n",
       "    <tr>\n",
       "      <th>alcohol_status</th>\n",
       "      <th></th>\n",
       "      <th></th>\n",
       "      <th></th>\n",
       "    </tr>\n",
       "  </thead>\n",
       "  <tbody>\n",
       "    <tr>\n",
       "      <th>0</th>\n",
       "      <td>7.792977</td>\n",
       "      <td>1.0</td>\n",
       "      <td>25.0</td>\n",
       "    </tr>\n",
       "    <tr>\n",
       "      <th>1</th>\n",
       "      <td>7.767168</td>\n",
       "      <td>1.0</td>\n",
       "      <td>25.0</td>\n",
       "    </tr>\n",
       "  </tbody>\n",
       "</table>\n",
       "</div>"
      ],
      "text/plain": [
       "                  prices           \n",
       "                    mean  min   max\n",
       "alcohol_status                     \n",
       "0               7.792977  1.0  25.0\n",
       "1               7.767168  1.0  25.0"
      ]
     },
     "execution_count": 53,
     "metadata": {},
     "output_type": "execute_result"
    }
   ],
   "source": [
    "# Aggregate for alcohol_status bracket expenditure\n",
    "\n",
    "df.groupby('alcohol_status').agg({'prices': ['mean', 'min', 'max']})"
   ]
  },
  {
   "cell_type": "code",
   "execution_count": 54,
   "id": "cb9beea1",
   "metadata": {},
   "outputs": [
    {
     "data": {
      "image/png": "[encoded data removed]",
      "text/plain": [
       "<Figure size 640x480 with 1 Axes>"
      ]
     },
     "metadata": {},
     "output_type": "display_data"
    }
   ],
   "source": [
    "# Alcohol_status visualization\n",
    "\n",
    "pie2 = df['alcohol_status'].value_counts().plot.pie(labels=['No', 'Yes'], autopct=('%1.f%%'), colors=['yellow','purple'])"
   ]
  },
  {
   "cell_type": "code",
   "execution_count": 55,
   "id": "6f41365d",
   "metadata": {},
   "outputs": [],
   "source": [
    "#Export alcohol_status pie chart\n",
    "\n",
    "pie2.figure.savefig(os.path.join(path, '04 Analysis', 'Visualizations', 'pie_alcoholstatus.png'))"
   ]
  },
  {
   "cell_type": "markdown",
   "id": "b9486554",
   "metadata": {},
   "source": [
    "### Department - Pet Profile"
   ]
  },
  {
   "cell_type": "code",
   "execution_count": 56,
   "id": "9d37c30a",
   "metadata": {},
   "outputs": [
    {
     "name": "stderr",
     "output_type": "stream",
     "text": [
      "C:\\Users\\tjsra\\AppData\\Local\\Temp\\ipykernel_10924\\1820921294.py:6: FutureWarning: The provided callable <function max at 0x0000016475824540> is currently using SeriesGroupBy.max. In a future version of pandas, the provided callable will be used directly. To keep current behavior pass the string \"max\" instead.\n",
      "  df['pet_status']=df.groupby(['user_id'])['pet_status'].transform(np.max)\n"
     ]
    }
   ],
   "source": [
    "#Creating pet profiling variable: \n",
    "#bought pet supplies(1) \n",
    "#didn't buy pet supplies (0)\n",
    "\n",
    "df['pet_status'] = [1 if x == 'pets' else 0 for x in df['department']]\n",
    "df['pet_status']=df.groupby(['user_id'])['pet_status'].transform(np.max)"
   ]
  },
  {
   "cell_type": "code",
   "execution_count": 57,
   "id": "e8566661",
   "metadata": {},
   "outputs": [
    {
     "data": {
      "text/plain": [
       "pet_status\n",
       "0    8816460\n",
       "1    1101793\n",
       "Name: count, dtype: int64"
      ]
     },
     "execution_count": 57,
     "metadata": {},
     "output_type": "execute_result"
    }
   ],
   "source": [
    "# Checking new variable\n",
    "\n",
    "df['pet_status'].value_counts(dropna=False)"
   ]
  },
  {
   "cell_type": "code",
   "execution_count": 58,
   "id": "fcbdddcf",
   "metadata": {},
   "outputs": [
    {
     "data": {
      "text/html": [
       "<div>\n",
       "<style scoped>\n",
       "    .dataframe tbody tr th:only-of-type {\n",
       "        vertical-align: middle;\n",
       "    }\n",
       "\n",
       "    .dataframe tbody tr th {\n",
       "        vertical-align: top;\n",
       "    }\n",
       "\n",
       "    .dataframe thead tr th {\n",
       "        text-align: left;\n",
       "    }\n",
       "\n",
       "    .dataframe thead tr:last-of-type th {\n",
       "        text-align: right;\n",
       "    }\n",
       "</style>\n",
       "<table border=\"1\" class=\"dataframe\">\n",
       "  <thead>\n",
       "    <tr>\n",
       "      <th></th>\n",
       "      <th colspan=\"3\" halign=\"left\">median_days_between_orders</th>\n",
       "    </tr>\n",
       "    <tr>\n",
       "      <th></th>\n",
       "      <th>mean</th>\n",
       "      <th>min</th>\n",
       "      <th>max</th>\n",
       "    </tr>\n",
       "    <tr>\n",
       "      <th>pet_status</th>\n",
       "      <th></th>\n",
       "      <th></th>\n",
       "      <th></th>\n",
       "    </tr>\n",
       "  </thead>\n",
       "  <tbody>\n",
       "    <tr>\n",
       "      <th>0</th>\n",
       "      <td>10.538044</td>\n",
       "      <td>0.0</td>\n",
       "      <td>30.0</td>\n",
       "    </tr>\n",
       "    <tr>\n",
       "      <th>1</th>\n",
       "      <td>9.349897</td>\n",
       "      <td>0.0</td>\n",
       "      <td>30.0</td>\n",
       "    </tr>\n",
       "  </tbody>\n",
       "</table>\n",
       "</div>"
      ],
      "text/plain": [
       "           median_days_between_orders           \n",
       "                                 mean  min   max\n",
       "pet_status                                      \n",
       "0                           10.538044  0.0  30.0\n",
       "1                            9.349897  0.0  30.0"
      ]
     },
     "execution_count": 58,
     "metadata": {},
     "output_type": "execute_result"
    }
   ],
   "source": [
    "#Aggregating for pet_status bracket order frequency\n",
    "df.groupby('pet_status').agg({'median_days_between_orders': ['mean', 'min', 'max']})"
   ]
  },
  {
   "cell_type": "code",
   "execution_count": 59,
   "id": "08a52dd1",
   "metadata": {},
   "outputs": [
    {
     "data": {
      "text/html": [
       "<div>\n",
       "<style scoped>\n",
       "    .dataframe tbody tr th:only-of-type {\n",
       "        vertical-align: middle;\n",
       "    }\n",
       "\n",
       "    .dataframe tbody tr th {\n",
       "        vertical-align: top;\n",
       "    }\n",
       "\n",
       "    .dataframe thead tr th {\n",
       "        text-align: left;\n",
       "    }\n",
       "\n",
       "    .dataframe thead tr:last-of-type th {\n",
       "        text-align: right;\n",
       "    }\n",
       "</style>\n",
       "<table border=\"1\" class=\"dataframe\">\n",
       "  <thead>\n",
       "    <tr>\n",
       "      <th></th>\n",
       "      <th colspan=\"3\" halign=\"left\">prices</th>\n",
       "    </tr>\n",
       "    <tr>\n",
       "      <th></th>\n",
       "      <th>mean</th>\n",
       "      <th>min</th>\n",
       "      <th>max</th>\n",
       "    </tr>\n",
       "    <tr>\n",
       "      <th>pet_status</th>\n",
       "      <th></th>\n",
       "      <th></th>\n",
       "      <th></th>\n",
       "    </tr>\n",
       "  </thead>\n",
       "  <tbody>\n",
       "    <tr>\n",
       "      <th>0</th>\n",
       "      <td>7.791056</td>\n",
       "      <td>1.0</td>\n",
       "      <td>25.0</td>\n",
       "    </tr>\n",
       "    <tr>\n",
       "      <th>1</th>\n",
       "      <td>7.791864</td>\n",
       "      <td>1.0</td>\n",
       "      <td>25.0</td>\n",
       "    </tr>\n",
       "  </tbody>\n",
       "</table>\n",
       "</div>"
      ],
      "text/plain": [
       "              prices           \n",
       "                mean  min   max\n",
       "pet_status                     \n",
       "0           7.791056  1.0  25.0\n",
       "1           7.791864  1.0  25.0"
      ]
     },
     "execution_count": 59,
     "metadata": {},
     "output_type": "execute_result"
    }
   ],
   "source": [
    "#Aggregating for pet_status bracket expenditure\n",
    "df.groupby('pet_status').agg({'prices': ['mean', 'min', 'max']})"
   ]
  },
  {
   "cell_type": "code",
   "execution_count": 60,
   "id": "4028a9be",
   "metadata": {},
   "outputs": [
    {
     "data": {
      "image/png": "[encoded data removed]",
      "text/plain": [
       "<Figure size 640x480 with 1 Axes>"
      ]
     },
     "metadata": {},
     "output_type": "display_data"
    }
   ],
   "source": [
    "# Pet_status Visualization\n",
    "\n",
    "pie3 = df['pet_status'].value_counts().plot.pie(labels=['No', 'Yes'], autopct=('%1.f%%'), colors=['green','red'])"
   ]
  },
  {
   "cell_type": "code",
   "execution_count": 61,
   "id": "945a1b7d",
   "metadata": {},
   "outputs": [],
   "source": [
    "#Export Pet_status Pie Chart\n",
    "\n",
    "pie3.figure.savefig(os.path.join(path, '04 Analysis', 'Visualizations', 'pie_petstatus_png'))"
   ]
  },
  {
   "cell_type": "markdown",
   "id": "54d1a8fa",
   "metadata": {},
   "source": [
    "## 8 & 9. Compare your customer profiles with regions and departments. Product suitable charts to illustrate your reports and export them in your project folder."
   ]
  },
  {
   "cell_type": "code",
   "execution_count": 62,
   "id": "b7acae7e",
   "metadata": {},
   "outputs": [],
   "source": [
    "# Creating crosstab for region and age group\n",
    "\n",
    "age_region = pd.crosstab(df['region'], df['age_group'], dropna = False)"
   ]
  },
  {
   "cell_type": "code",
   "execution_count": 63,
   "id": "adf41b1e",
   "metadata": {},
   "outputs": [
    {
     "data": {
      "text/html": [
       "<div>\n",
       "<style scoped>\n",
       "    .dataframe tbody tr th:only-of-type {\n",
       "        vertical-align: middle;\n",
       "    }\n",
       "\n",
       "    .dataframe tbody tr th {\n",
       "        vertical-align: top;\n",
       "    }\n",
       "\n",
       "    .dataframe thead th {\n",
       "        text-align: right;\n",
       "    }\n",
       "</style>\n",
       "<table border=\"1\" class=\"dataframe\">\n",
       "  <thead>\n",
       "    <tr style=\"text-align: right;\">\n",
       "      <th>age_group</th>\n",
       "      <th>Adult</th>\n",
       "      <th>Senior</th>\n",
       "      <th>Young Adult</th>\n",
       "    </tr>\n",
       "    <tr>\n",
       "      <th>region</th>\n",
       "      <th></th>\n",
       "      <th></th>\n",
       "      <th></th>\n",
       "    </tr>\n",
       "  </thead>\n",
       "  <tbody>\n",
       "    <tr>\n",
       "      <th>Midwest</th>\n",
       "      <td>1435721</td>\n",
       "      <td>605501</td>\n",
       "      <td>270899</td>\n",
       "    </tr>\n",
       "    <tr>\n",
       "      <th>Northeast</th>\n",
       "      <td>1070661</td>\n",
       "      <td>484409</td>\n",
       "      <td>214790</td>\n",
       "    </tr>\n",
       "    <tr>\n",
       "      <th>South</th>\n",
       "      <td>2027722</td>\n",
       "      <td>860999</td>\n",
       "      <td>436320</td>\n",
       "    </tr>\n",
       "    <tr>\n",
       "      <th>West</th>\n",
       "      <td>1524751</td>\n",
       "      <td>669578</td>\n",
       "      <td>316902</td>\n",
       "    </tr>\n",
       "  </tbody>\n",
       "</table>\n",
       "</div>"
      ],
      "text/plain": [
       "age_group    Adult  Senior  Young Adult\n",
       "region                                 \n",
       "Midwest    1435721  605501       270899\n",
       "Northeast  1070661  484409       214790\n",
       "South      2027722  860999       436320\n",
       "West       1524751  669578       316902"
      ]
     },
     "execution_count": 63,
     "metadata": {},
     "output_type": "execute_result"
    }
   ],
   "source": [
    "# Checking crosstab\n",
    "\n",
    "age_region"
   ]
  },
  {
   "cell_type": "code",
   "execution_count": 64,
   "id": "055ad515",
   "metadata": {},
   "outputs": [
    {
     "data": {
      "image/png": "[encoded data removed]",
      "text/plain": [
       "<Figure size 640x480 with 1 Axes>"
      ]
     },
     "metadata": {},
     "output_type": "display_data"
    }
   ],
   "source": [
    "# Age_region Bar Chart\n",
    "bar3 = age_region.plot(kind='bar', stacked =True)"
   ]
  },
  {
   "cell_type": "code",
   "execution_count": 65,
   "id": "89568537",
   "metadata": {},
   "outputs": [],
   "source": [
    "# Export Region bar chart\n",
    "bar3.figure.savefig(os.path.join(path, '04 Analysis', 'Visualizations', 'bar_age_region.png'))"
   ]
  },
  {
   "cell_type": "code",
   "execution_count": 66,
   "id": "7b6ff26b",
   "metadata": {},
   "outputs": [],
   "source": [
    "# Creating crosstab for region and income\n",
    "\n",
    "region_income = pd.crosstab(df['region'], df['income_group'], dropna = False)"
   ]
  },
  {
   "cell_type": "code",
   "execution_count": 67,
   "id": "bd149b46",
   "metadata": {},
   "outputs": [
    {
     "data": {
      "text/html": [
       "<div>\n",
       "<style scoped>\n",
       "    .dataframe tbody tr th:only-of-type {\n",
       "        vertical-align: middle;\n",
       "    }\n",
       "\n",
       "    .dataframe tbody tr th {\n",
       "        vertical-align: top;\n",
       "    }\n",
       "\n",
       "    .dataframe thead th {\n",
       "        text-align: right;\n",
       "    }\n",
       "</style>\n",
       "<table border=\"1\" class=\"dataframe\">\n",
       "  <thead>\n",
       "    <tr style=\"text-align: right;\">\n",
       "      <th>income_group</th>\n",
       "      <th>high income</th>\n",
       "      <th>low income</th>\n",
       "      <th>middle income</th>\n",
       "    </tr>\n",
       "    <tr>\n",
       "      <th>region</th>\n",
       "      <th></th>\n",
       "      <th></th>\n",
       "      <th></th>\n",
       "    </tr>\n",
       "  </thead>\n",
       "  <tbody>\n",
       "    <tr>\n",
       "      <th>Midwest</th>\n",
       "      <td>290769</td>\n",
       "      <td>132264</td>\n",
       "      <td>1889088</td>\n",
       "    </tr>\n",
       "    <tr>\n",
       "      <th>Northeast</th>\n",
       "      <td>226127</td>\n",
       "      <td>91798</td>\n",
       "      <td>1451935</td>\n",
       "    </tr>\n",
       "    <tr>\n",
       "      <th>South</th>\n",
       "      <td>413103</td>\n",
       "      <td>192278</td>\n",
       "      <td>2719660</td>\n",
       "    </tr>\n",
       "    <tr>\n",
       "      <th>West</th>\n",
       "      <td>317198</td>\n",
       "      <td>133681</td>\n",
       "      <td>2060352</td>\n",
       "    </tr>\n",
       "  </tbody>\n",
       "</table>\n",
       "</div>"
      ],
      "text/plain": [
       "income_group  high income  low income  middle income\n",
       "region                                              \n",
       "Midwest            290769      132264        1889088\n",
       "Northeast          226127       91798        1451935\n",
       "South              413103      192278        2719660\n",
       "West               317198      133681        2060352"
      ]
     },
     "execution_count": 67,
     "metadata": {},
     "output_type": "execute_result"
    }
   ],
   "source": [
    "# Checking crosstab\n",
    "\n",
    "region_income"
   ]
  },
  {
   "cell_type": "code",
   "execution_count": 68,
   "id": "e3de572e",
   "metadata": {},
   "outputs": [
    {
     "data": {
      "image/png": "[encoded data removed]",
      "text/plain": [
       "<Figure size 640x480 with 1 Axes>"
      ]
     },
     "metadata": {},
     "output_type": "display_data"
    }
   ],
   "source": [
    "# Region_income bar chart\n",
    "\n",
    "bar4 = region_income.plot(kind='bar', stacked =True)"
   ]
  },
  {
   "cell_type": "code",
   "execution_count": 69,
   "id": "43d53b95",
   "metadata": {},
   "outputs": [],
   "source": [
    "# Export Region income bar chart\n",
    "bar4.figure.savefig(os.path.join(path, '04 Analysis', 'Visualizations', 'bar_region_income.png'))"
   ]
  },
  {
   "cell_type": "code",
   "execution_count": 70,
   "id": "c61f9120",
   "metadata": {},
   "outputs": [],
   "source": [
    "# Creating crosstab for region and department\n",
    "\n",
    "region_dep = pd.crosstab(df['department'], df['region'], dropna = False)"
   ]
  },
  {
   "cell_type": "code",
   "execution_count": 71,
   "id": "945e8f7f",
   "metadata": {},
   "outputs": [
    {
     "data": {
      "text/html": [
       "<div>\n",
       "<style scoped>\n",
       "    .dataframe tbody tr th:only-of-type {\n",
       "        vertical-align: middle;\n",
       "    }\n",
       "\n",
       "    .dataframe tbody tr th {\n",
       "        vertical-align: top;\n",
       "    }\n",
       "\n",
       "    .dataframe thead th {\n",
       "        text-align: right;\n",
       "    }\n",
       "</style>\n",
       "<table border=\"1\" class=\"dataframe\">\n",
       "  <thead>\n",
       "    <tr style=\"text-align: right;\">\n",
       "      <th>region</th>\n",
       "      <th>Midwest</th>\n",
       "      <th>Northeast</th>\n",
       "      <th>South</th>\n",
       "      <th>West</th>\n",
       "    </tr>\n",
       "    <tr>\n",
       "      <th>department</th>\n",
       "      <th></th>\n",
       "      <th></th>\n",
       "      <th></th>\n",
       "      <th></th>\n",
       "    </tr>\n",
       "  </thead>\n",
       "  <tbody>\n",
       "    <tr>\n",
       "      <th>alcohol</th>\n",
       "      <td>10664</td>\n",
       "      <td>7944</td>\n",
       "      <td>15569</td>\n",
       "      <td>12131</td>\n",
       "    </tr>\n",
       "    <tr>\n",
       "      <th>babies</th>\n",
       "      <td>30545</td>\n",
       "      <td>24344</td>\n",
       "      <td>42522</td>\n",
       "      <td>31726</td>\n",
       "    </tr>\n",
       "    <tr>\n",
       "      <th>bakery</th>\n",
       "      <td>84067</td>\n",
       "      <td>64765</td>\n",
       "      <td>119494</td>\n",
       "      <td>90976</td>\n",
       "    </tr>\n",
       "    <tr>\n",
       "      <th>beverages</th>\n",
       "      <td>190436</td>\n",
       "      <td>149657</td>\n",
       "      <td>278876</td>\n",
       "      <td>203560</td>\n",
       "    </tr>\n",
       "    <tr>\n",
       "      <th>breakfast</th>\n",
       "      <td>49770</td>\n",
       "      <td>38899</td>\n",
       "      <td>71886</td>\n",
       "      <td>54405</td>\n",
       "    </tr>\n",
       "    <tr>\n",
       "      <th>bulk</th>\n",
       "      <td>2570</td>\n",
       "      <td>1719</td>\n",
       "      <td>3355</td>\n",
       "      <td>2956</td>\n",
       "    </tr>\n",
       "    <tr>\n",
       "      <th>canned goods</th>\n",
       "      <td>76479</td>\n",
       "      <td>58656</td>\n",
       "      <td>108794</td>\n",
       "      <td>84484</td>\n",
       "    </tr>\n",
       "    <tr>\n",
       "      <th>dairy eggs</th>\n",
       "      <td>381737</td>\n",
       "      <td>294441</td>\n",
       "      <td>557104</td>\n",
       "      <td>416464</td>\n",
       "    </tr>\n",
       "    <tr>\n",
       "      <th>deli</th>\n",
       "      <td>74401</td>\n",
       "      <td>58983</td>\n",
       "      <td>108834</td>\n",
       "      <td>82058</td>\n",
       "    </tr>\n",
       "    <tr>\n",
       "      <th>dry goods pasta</th>\n",
       "      <td>62300</td>\n",
       "      <td>47439</td>\n",
       "      <td>86180</td>\n",
       "      <td>68411</td>\n",
       "    </tr>\n",
       "    <tr>\n",
       "      <th>frozen</th>\n",
       "      <td>158334</td>\n",
       "      <td>119171</td>\n",
       "      <td>229860</td>\n",
       "      <td>171955</td>\n",
       "    </tr>\n",
       "    <tr>\n",
       "      <th>household</th>\n",
       "      <td>55391</td>\n",
       "      <td>40926</td>\n",
       "      <td>73724</td>\n",
       "      <td>56354</td>\n",
       "    </tr>\n",
       "    <tr>\n",
       "      <th>international</th>\n",
       "      <td>19653</td>\n",
       "      <td>14150</td>\n",
       "      <td>27726</td>\n",
       "      <td>21103</td>\n",
       "    </tr>\n",
       "    <tr>\n",
       "      <th>meat seafood</th>\n",
       "      <td>50301</td>\n",
       "      <td>39039</td>\n",
       "      <td>72025</td>\n",
       "      <td>55804</td>\n",
       "    </tr>\n",
       "    <tr>\n",
       "      <th>missing</th>\n",
       "      <td>4891</td>\n",
       "      <td>3738</td>\n",
       "      <td>7116</td>\n",
       "      <td>5260</td>\n",
       "    </tr>\n",
       "    <tr>\n",
       "      <th>other</th>\n",
       "      <td>2515</td>\n",
       "      <td>2167</td>\n",
       "      <td>3582</td>\n",
       "      <td>2716</td>\n",
       "    </tr>\n",
       "    <tr>\n",
       "      <th>pantry</th>\n",
       "      <td>133957</td>\n",
       "      <td>100979</td>\n",
       "      <td>191231</td>\n",
       "      <td>146845</td>\n",
       "    </tr>\n",
       "    <tr>\n",
       "      <th>personal care</th>\n",
       "      <td>32721</td>\n",
       "      <td>24777</td>\n",
       "      <td>46275</td>\n",
       "      <td>34791</td>\n",
       "    </tr>\n",
       "    <tr>\n",
       "      <th>pets</th>\n",
       "      <td>7201</td>\n",
       "      <td>5563</td>\n",
       "      <td>8870</td>\n",
       "      <td>8027</td>\n",
       "    </tr>\n",
       "    <tr>\n",
       "      <th>produce</th>\n",
       "      <td>678680</td>\n",
       "      <td>511851</td>\n",
       "      <td>977217</td>\n",
       "      <td>736960</td>\n",
       "    </tr>\n",
       "    <tr>\n",
       "      <th>snacks</th>\n",
       "      <td>205508</td>\n",
       "      <td>160652</td>\n",
       "      <td>294801</td>\n",
       "      <td>224245</td>\n",
       "    </tr>\n",
       "  </tbody>\n",
       "</table>\n",
       "</div>"
      ],
      "text/plain": [
       "region           Midwest  Northeast   South    West\n",
       "department                                         \n",
       "alcohol            10664       7944   15569   12131\n",
       "babies             30545      24344   42522   31726\n",
       "bakery             84067      64765  119494   90976\n",
       "beverages         190436     149657  278876  203560\n",
       "breakfast          49770      38899   71886   54405\n",
       "bulk                2570       1719    3355    2956\n",
       "canned goods       76479      58656  108794   84484\n",
       "dairy eggs        381737     294441  557104  416464\n",
       "deli               74401      58983  108834   82058\n",
       "dry goods pasta    62300      47439   86180   68411\n",
       "frozen            158334     119171  229860  171955\n",
       "household          55391      40926   73724   56354\n",
       "international      19653      14150   27726   21103\n",
       "meat seafood       50301      39039   72025   55804\n",
       "missing             4891       3738    7116    5260\n",
       "other               2515       2167    3582    2716\n",
       "pantry            133957     100979  191231  146845\n",
       "personal care      32721      24777   46275   34791\n",
       "pets                7201       5563    8870    8027\n",
       "produce           678680     511851  977217  736960\n",
       "snacks            205508     160652  294801  224245"
      ]
     },
     "execution_count": 71,
     "metadata": {},
     "output_type": "execute_result"
    }
   ],
   "source": [
    "# Checking Crosstab\n",
    "\n",
    "region_dep"
   ]
  },
  {
   "cell_type": "code",
   "execution_count": 72,
   "id": "d45098f7",
   "metadata": {},
   "outputs": [
    {
     "data": {
      "image/png": "[encoded data removed]",
      "text/plain": [
       "<Figure size 640x480 with 1 Axes>"
      ]
     },
     "metadata": {},
     "output_type": "display_data"
    }
   ],
   "source": [
    "# Region_department Bar Chart\n",
    "\n",
    "bar5 = region_dep.plot(kind='bar', stacked =True)"
   ]
  },
  {
   "cell_type": "code",
   "execution_count": 73,
   "id": "7401041a",
   "metadata": {},
   "outputs": [],
   "source": [
    "#Exporting bar chart\n",
    "\n",
    "bar5.figure.savefig(os.path.join(path, '04 Analysis', 'Visualizations', 'bar_region_department.png'))"
   ]
  },
  {
   "cell_type": "code",
   "execution_count": 74,
   "id": "f287190f",
   "metadata": {},
   "outputs": [],
   "source": [
    "# Creating crosstab for region and price range\n",
    "\n",
    "region_pricerange = pd.crosstab(df['region'], df['price_range_loc'], dropna = False)"
   ]
  },
  {
   "cell_type": "code",
   "execution_count": 75,
   "id": "f5fc9a4d",
   "metadata": {},
   "outputs": [
    {
     "data": {
      "text/html": [
       "<div>\n",
       "<style scoped>\n",
       "    .dataframe tbody tr th:only-of-type {\n",
       "        vertical-align: middle;\n",
       "    }\n",
       "\n",
       "    .dataframe tbody tr th {\n",
       "        vertical-align: top;\n",
       "    }\n",
       "\n",
       "    .dataframe thead th {\n",
       "        text-align: right;\n",
       "    }\n",
       "</style>\n",
       "<table border=\"1\" class=\"dataframe\">\n",
       "  <thead>\n",
       "    <tr style=\"text-align: right;\">\n",
       "      <th>price_range_loc</th>\n",
       "      <th>High-range product</th>\n",
       "      <th>Low-range product</th>\n",
       "      <th>Mid-range product</th>\n",
       "    </tr>\n",
       "    <tr>\n",
       "      <th>region</th>\n",
       "      <th></th>\n",
       "      <th></th>\n",
       "      <th></th>\n",
       "    </tr>\n",
       "  </thead>\n",
       "  <tbody>\n",
       "    <tr>\n",
       "      <th>Midwest</th>\n",
       "      <td>29540</td>\n",
       "      <td>720757</td>\n",
       "      <td>1561824</td>\n",
       "    </tr>\n",
       "    <tr>\n",
       "      <th>Northeast</th>\n",
       "      <td>22822</td>\n",
       "      <td>555625</td>\n",
       "      <td>1191413</td>\n",
       "    </tr>\n",
       "    <tr>\n",
       "      <th>South</th>\n",
       "      <td>42751</td>\n",
       "      <td>1038687</td>\n",
       "      <td>2243603</td>\n",
       "    </tr>\n",
       "    <tr>\n",
       "      <th>West</th>\n",
       "      <td>32630</td>\n",
       "      <td>785074</td>\n",
       "      <td>1693527</td>\n",
       "    </tr>\n",
       "  </tbody>\n",
       "</table>\n",
       "</div>"
      ],
      "text/plain": [
       "price_range_loc  High-range product  Low-range product  Mid-range product\n",
       "region                                                                   \n",
       "Midwest                       29540             720757            1561824\n",
       "Northeast                     22822             555625            1191413\n",
       "South                         42751            1038687            2243603\n",
       "West                          32630             785074            1693527"
      ]
     },
     "execution_count": 75,
     "metadata": {},
     "output_type": "execute_result"
    }
   ],
   "source": [
    "# Checking crosstab\n",
    "\n",
    "region_pricerange"
   ]
  },
  {
   "cell_type": "code",
   "execution_count": 76,
   "id": "6f9a7157",
   "metadata": {},
   "outputs": [
    {
     "data": {
      "image/png": "[encoded data removed]",
      "text/plain": [
       "<Figure size 640x480 with 1 Axes>"
      ]
     },
     "metadata": {},
     "output_type": "display_data"
    }
   ],
   "source": [
    "# Region_pricerange Bar Chart\n",
    "\n",
    "bar6 = region_pricerange.plot(kind='bar', stacked =True)"
   ]
  },
  {
   "cell_type": "code",
   "execution_count": 77,
   "id": "c6ad31be",
   "metadata": {},
   "outputs": [],
   "source": [
    "#Exporting bar chart\n",
    "bar6.figure.savefig(os.path.join(path, '04 Analysis', 'Visualizations', 'bar_region_pricerange.png'))"
   ]
  },
  {
   "cell_type": "code",
   "execution_count": 78,
   "id": "47036cea",
   "metadata": {},
   "outputs": [],
   "source": [
    "# Creating crosstab for income and frequency\n",
    "\n",
    "income_freq = pd.crosstab(df['income_group'], df['order_frequency'], dropna = False)"
   ]
  },
  {
   "cell_type": "code",
   "execution_count": 79,
   "id": "a69a7487",
   "metadata": {},
   "outputs": [
    {
     "data": {
      "text/html": [
       "<div>\n",
       "<style scoped>\n",
       "    .dataframe tbody tr th:only-of-type {\n",
       "        vertical-align: middle;\n",
       "    }\n",
       "\n",
       "    .dataframe tbody tr th {\n",
       "        vertical-align: top;\n",
       "    }\n",
       "\n",
       "    .dataframe thead th {\n",
       "        text-align: right;\n",
       "    }\n",
       "</style>\n",
       "<table border=\"1\" class=\"dataframe\">\n",
       "  <thead>\n",
       "    <tr style=\"text-align: right;\">\n",
       "      <th>order_frequency</th>\n",
       "      <th>Frequent customer</th>\n",
       "      <th>Non-frequent customer</th>\n",
       "      <th>Regular customer</th>\n",
       "    </tr>\n",
       "    <tr>\n",
       "      <th>income_group</th>\n",
       "      <th></th>\n",
       "      <th></th>\n",
       "      <th></th>\n",
       "    </tr>\n",
       "  </thead>\n",
       "  <tbody>\n",
       "    <tr>\n",
       "      <th>high income</th>\n",
       "      <td>843878</td>\n",
       "      <td>129818</td>\n",
       "      <td>273501</td>\n",
       "    </tr>\n",
       "    <tr>\n",
       "      <th>low income</th>\n",
       "      <td>348920</td>\n",
       "      <td>72613</td>\n",
       "      <td>128488</td>\n",
       "    </tr>\n",
       "    <tr>\n",
       "      <th>middle income</th>\n",
       "      <td>5389368</td>\n",
       "      <td>907321</td>\n",
       "      <td>1824346</td>\n",
       "    </tr>\n",
       "  </tbody>\n",
       "</table>\n",
       "</div>"
      ],
      "text/plain": [
       "order_frequency  Frequent customer  Non-frequent customer  Regular customer\n",
       "income_group                                                               \n",
       "high income                 843878                 129818            273501\n",
       "low income                  348920                  72613            128488\n",
       "middle income              5389368                 907321           1824346"
      ]
     },
     "execution_count": 79,
     "metadata": {},
     "output_type": "execute_result"
    }
   ],
   "source": [
    "# Checking crosstab\n",
    "\n",
    "income_freq"
   ]
  },
  {
   "cell_type": "code",
   "execution_count": 80,
   "id": "870063af",
   "metadata": {},
   "outputs": [
    {
     "data": {
      "image/png": "[encoded data removed]",
      "text/plain": [
       "<Figure size 640x480 with 1 Axes>"
      ]
     },
     "metadata": {},
     "output_type": "display_data"
    }
   ],
   "source": [
    "# Income Group and Order frequency Bar Chart\n",
    "\n",
    "bar7 = income_freq.plot(kind='bar', stacked =True)"
   ]
  },
  {
   "cell_type": "code",
   "execution_count": 81,
   "id": "5b67db81",
   "metadata": {},
   "outputs": [],
   "source": [
    "# Export income frequency bar chart\n",
    "bar7.figure.savefig(os.path.join(path, '04 Analysis','Visualizations', 'bar_income_frequency.png'))"
   ]
  },
  {
   "cell_type": "code",
   "execution_count": 82,
   "id": "5f7e1eb6",
   "metadata": {},
   "outputs": [],
   "source": [
    "# Creating crosstab for age and frequency\n",
    "\n",
    "age_freq = pd.crosstab(df['age_group'], df['order_frequency'], dropna = False)"
   ]
  },
  {
   "cell_type": "code",
   "execution_count": 83,
   "id": "26b6eda3",
   "metadata": {},
   "outputs": [
    {
     "data": {
      "text/html": [
       "<div>\n",
       "<style scoped>\n",
       "    .dataframe tbody tr th:only-of-type {\n",
       "        vertical-align: middle;\n",
       "    }\n",
       "\n",
       "    .dataframe tbody tr th {\n",
       "        vertical-align: top;\n",
       "    }\n",
       "\n",
       "    .dataframe thead th {\n",
       "        text-align: right;\n",
       "    }\n",
       "</style>\n",
       "<table border=\"1\" class=\"dataframe\">\n",
       "  <thead>\n",
       "    <tr style=\"text-align: right;\">\n",
       "      <th>order_frequency</th>\n",
       "      <th>Frequent customer</th>\n",
       "      <th>Non-frequent customer</th>\n",
       "      <th>Regular customer</th>\n",
       "    </tr>\n",
       "    <tr>\n",
       "      <th>age_group</th>\n",
       "      <th></th>\n",
       "      <th></th>\n",
       "      <th></th>\n",
       "    </tr>\n",
       "  </thead>\n",
       "  <tbody>\n",
       "    <tr>\n",
       "      <th>Adult</th>\n",
       "      <td>4003862</td>\n",
       "      <td>688697</td>\n",
       "      <td>1366296</td>\n",
       "    </tr>\n",
       "    <tr>\n",
       "      <th>Senior</th>\n",
       "      <td>1747312</td>\n",
       "      <td>286677</td>\n",
       "      <td>586498</td>\n",
       "    </tr>\n",
       "    <tr>\n",
       "      <th>Young Adult</th>\n",
       "      <td>830992</td>\n",
       "      <td>134378</td>\n",
       "      <td>273541</td>\n",
       "    </tr>\n",
       "  </tbody>\n",
       "</table>\n",
       "</div>"
      ],
      "text/plain": [
       "order_frequency  Frequent customer  Non-frequent customer  Regular customer\n",
       "age_group                                                                  \n",
       "Adult                      4003862                 688697           1366296\n",
       "Senior                     1747312                 286677            586498\n",
       "Young Adult                 830992                 134378            273541"
      ]
     },
     "execution_count": 83,
     "metadata": {},
     "output_type": "execute_result"
    }
   ],
   "source": [
    "# Checking crosstab\n",
    "\n",
    "age_freq"
   ]
  },
  {
   "cell_type": "code",
   "execution_count": 84,
   "id": "c40189dd",
   "metadata": {},
   "outputs": [
    {
     "data": {
      "image/png": "[encoded data removed]",
      "text/plain": [
       "<Figure size 640x480 with 1 Axes>"
      ]
     },
     "metadata": {},
     "output_type": "display_data"
    }
   ],
   "source": [
    "# Region Price Range Bar Chart\n",
    "\n",
    "bar8 = age_freq.plot(kind='bar', stacked =True)"
   ]
  },
  {
   "cell_type": "code",
   "execution_count": 85,
   "id": "0de77f8e",
   "metadata": {},
   "outputs": [],
   "source": [
    "# Exporting bar chart\n",
    "\n",
    "bar8.figure.savefig(os.path.join(path, '04 Analysis','Visualizations', 'bar_age_freq.png'))"
   ]
  },
  {
   "cell_type": "code",
   "execution_count": 87,
   "id": "424b8f58",
   "metadata": {},
   "outputs": [],
   "source": [
    "# Creating crosstab for marital status and frequency\n",
    "\n",
    "marital_freq = pd.crosstab(df['marital_status'], df['order_frequency'], dropna = False)"
   ]
  },
  {
   "cell_type": "code",
   "execution_count": 88,
   "id": "f69eb43f",
   "metadata": {},
   "outputs": [
    {
     "data": {
      "text/html": [
       "<div>\n",
       "<style scoped>\n",
       "    .dataframe tbody tr th:only-of-type {\n",
       "        vertical-align: middle;\n",
       "    }\n",
       "\n",
       "    .dataframe tbody tr th {\n",
       "        vertical-align: top;\n",
       "    }\n",
       "\n",
       "    .dataframe thead th {\n",
       "        text-align: right;\n",
       "    }\n",
       "</style>\n",
       "<table border=\"1\" class=\"dataframe\">\n",
       "  <thead>\n",
       "    <tr style=\"text-align: right;\">\n",
       "      <th>order_frequency</th>\n",
       "      <th>Frequent customer</th>\n",
       "      <th>Non-frequent customer</th>\n",
       "      <th>Regular customer</th>\n",
       "    </tr>\n",
       "    <tr>\n",
       "      <th>marital_status</th>\n",
       "      <th></th>\n",
       "      <th></th>\n",
       "      <th></th>\n",
       "    </tr>\n",
       "  </thead>\n",
       "  <tbody>\n",
       "    <tr>\n",
       "      <th>divorced/widowed</th>\n",
       "      <td>550277</td>\n",
       "      <td>92146</td>\n",
       "      <td>195845</td>\n",
       "    </tr>\n",
       "    <tr>\n",
       "      <th>living with parents and siblings</th>\n",
       "      <td>330539</td>\n",
       "      <td>51194</td>\n",
       "      <td>100155</td>\n",
       "    </tr>\n",
       "    <tr>\n",
       "      <th>married</th>\n",
       "      <td>4637093</td>\n",
       "      <td>781796</td>\n",
       "      <td>1565590</td>\n",
       "    </tr>\n",
       "    <tr>\n",
       "      <th>single</th>\n",
       "      <td>1064257</td>\n",
       "      <td>184616</td>\n",
       "      <td>364745</td>\n",
       "    </tr>\n",
       "  </tbody>\n",
       "</table>\n",
       "</div>"
      ],
      "text/plain": [
       "order_frequency                   Frequent customer  Non-frequent customer  \\\n",
       "marital_status                                                               \n",
       "divorced/widowed                             550277                  92146   \n",
       "living with parents and siblings             330539                  51194   \n",
       "married                                     4637093                 781796   \n",
       "single                                      1064257                 184616   \n",
       "\n",
       "order_frequency                   Regular customer  \n",
       "marital_status                                      \n",
       "divorced/widowed                            195845  \n",
       "living with parents and siblings            100155  \n",
       "married                                    1565590  \n",
       "single                                      364745  "
      ]
     },
     "execution_count": 88,
     "metadata": {},
     "output_type": "execute_result"
    }
   ],
   "source": [
    "# Checking crosstab\n",
    "\n",
    "marital_freq"
   ]
  },
  {
   "cell_type": "code",
   "execution_count": 89,
   "id": "cfe5070c",
   "metadata": {},
   "outputs": [
    {
     "data": {
      "image/png": "[encoded data removed]",
      "text/plain": [
       "<Figure size 640x480 with 1 Axes>"
      ]
     },
     "metadata": {},
     "output_type": "display_data"
    }
   ],
   "source": [
    "#Marital_freq Bar Chart\n",
    "\n",
    "bar9 = marital_freq.plot(kind='bar', stacked =True)"
   ]
  },
  {
   "cell_type": "code",
   "execution_count": 90,
   "id": "3f2c8090",
   "metadata": {},
   "outputs": [],
   "source": [
    "# Exporting bar chart\n",
    "\n",
    "bar9.figure.savefig(os.path.join(path, '04 Analysis','Visualizations', 'bar_marital_freq.png'))"
   ]
  },
  {
   "cell_type": "code",
   "execution_count": 91,
   "id": "5502a45f",
   "metadata": {},
   "outputs": [
    {
     "data": {
      "image/png": "[encoded data removed]",
      "text/plain": [
       "<Figure size 640x480 with 1 Axes>"
      ]
     },
     "metadata": {},
     "output_type": "display_data"
    }
   ],
   "source": [
    "pie = df['price_range_loc'].value_counts().plot.pie(autopct=('%1.f%%'))"
   ]
  },
  {
   "cell_type": "code",
   "execution_count": 92,
   "id": "a5cbd747",
   "metadata": {},
   "outputs": [],
   "source": [
    "# Exporting pie chart\n",
    "\n",
    "pie.figure.savefig(os.path.join(path, '04 Analysis','Visualizations', 'pie_price_range_loc.png'))"
   ]
  },
  {
   "cell_type": "code",
   "execution_count": 93,
   "id": "a9531aaf",
   "metadata": {},
   "outputs": [
    {
     "data": {
      "image/png": "[encoded data removed]",
      "text/plain": [
       "<Figure size 640x480 with 1 Axes>"
      ]
     },
     "metadata": {},
     "output_type": "display_data"
    }
   ],
   "source": [
    "Bar =df.department.value_counts().sort_values().plot(kind = 'barh')"
   ]
  },
  {
   "cell_type": "code",
   "execution_count": 94,
   "id": "d87f8819",
   "metadata": {},
   "outputs": [],
   "source": [
    "# Exporting bar chart\n",
    "\n",
    "Bar.figure.savefig(os.path.join(path, '04 Analysis','Visualizations', 'Bar_department.png'))"
   ]
  },
  {
   "cell_type": "code",
   "execution_count": 95,
   "id": "55b21cad",
   "metadata": {},
   "outputs": [],
   "source": [
    "dep_freq = pd.crosstab(df['department'], df['order_frequency'], dropna = False)"
   ]
  },
  {
   "cell_type": "code",
   "execution_count": 96,
   "id": "3edbceb8",
   "metadata": {},
   "outputs": [
    {
     "data": {
      "image/png": "[encoded data removed]",
      "text/plain": [
       "<Figure size 640x480 with 1 Axes>"
      ]
     },
     "metadata": {},
     "output_type": "display_data"
    }
   ],
   "source": [
    "bar = dep_freq.plot(kind='bar', stacked =True)"
   ]
  },
  {
   "cell_type": "code",
   "execution_count": 97,
   "id": "5d0758ee",
   "metadata": {},
   "outputs": [],
   "source": [
    "# Exporting bar chart\n",
    "\n",
    "bar.figure.savefig(os.path.join(path, '04 Analysis','Visualizations', 'bar_frequency.png'))"
   ]
  },
  {
   "cell_type": "code",
   "execution_count": null,
   "id": "75d699cd",
   "metadata": {},
   "outputs": [],
   "source": []
  }
 ],
 "metadata": {
  "kernelspec": {
   "display_name": "Python 3 (ipykernel)",
   "language": "python",
   "name": "python3"
  },
  "language_info": {
   "codemirror_mode": {
    "name": "ipython",
    "version": 3
   },
   "file_extension": ".py",
   "mimetype": "text/x-python",
   "name": "python",
   "nbconvert_exporter": "python",
   "pygments_lexer": "ipython3",
   "version": "3.11.7"
  }
 },
 "nbformat": 4,
 "nbformat_minor": 5
}
