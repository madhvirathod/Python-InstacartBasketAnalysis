{
 "cells": [
  {
   "cell_type": "markdown",
   "id": "382b917e",
   "metadata": {},
   "source": [
    "# 01.Importing Libraries"
   ]
  },
  {
   "cell_type": "markdown",
   "id": "ec95c5b7",
   "metadata": {},
   "source": [
    "# import libraries"
   ]
  },
  {
   "cell_type": "code",
   "execution_count": 1,
   "id": "ad016de3",
   "metadata": {},
   "outputs": [],
   "source": [
    "import pandas as pd\n",
    "import numpy as np\n",
    "import os"
   ]
  },
  {
   "cell_type": "markdown",
   "id": "be2da393",
   "metadata": {},
   "source": [
    "# 02.working with Python data types"
   ]
  },
  {
   "cell_type": "markdown",
   "id": "1cd58be0",
   "metadata": {},
   "source": [
    "# code 3 different ways of reaching a result of 100"
   ]
  },
  {
   "cell_type": "code",
   "execution_count": 2,
   "id": "b656d4f7",
   "metadata": {},
   "outputs": [],
   "source": [
    "X=60"
   ]
  },
  {
   "cell_type": "code",
   "execution_count": 3,
   "id": "ad70f4e7",
   "metadata": {},
   "outputs": [],
   "source": [
    "Y=40"
   ]
  },
  {
   "cell_type": "code",
   "execution_count": 4,
   "id": "c2388c40",
   "metadata": {},
   "outputs": [
    {
     "data": {
      "text/plain": [
       "100"
      ]
     },
     "execution_count": 4,
     "metadata": {},
     "output_type": "execute_result"
    }
   ],
   "source": [
    "X+Y"
   ]
  },
  {
   "cell_type": "code",
   "execution_count": 5,
   "id": "0ed06a05",
   "metadata": {},
   "outputs": [],
   "source": [
    "X=225"
   ]
  },
  {
   "cell_type": "code",
   "execution_count": 6,
   "id": "a84c6c42",
   "metadata": {},
   "outputs": [],
   "source": [
    "Y=125"
   ]
  },
  {
   "cell_type": "code",
   "execution_count": 7,
   "id": "7d908d21",
   "metadata": {},
   "outputs": [
    {
     "data": {
      "text/plain": [
       "100"
      ]
     },
     "execution_count": 7,
     "metadata": {},
     "output_type": "execute_result"
    }
   ],
   "source": [
    "X-Y"
   ]
  },
  {
   "cell_type": "code",
   "execution_count": 14,
   "id": "92f54ab7",
   "metadata": {},
   "outputs": [],
   "source": [
    "X=20"
   ]
  },
  {
   "cell_type": "code",
   "execution_count": 15,
   "id": "5c0f74d0",
   "metadata": {},
   "outputs": [],
   "source": [
    "Y=5"
   ]
  },
  {
   "cell_type": "code",
   "execution_count": 16,
   "id": "808fb5b4",
   "metadata": {},
   "outputs": [
    {
     "data": {
      "text/plain": [
       "100"
      ]
     },
     "execution_count": 16,
     "metadata": {},
     "output_type": "execute_result"
    }
   ],
   "source": [
    "X*Y"
   ]
  },
  {
   "cell_type": "markdown",
   "id": "e46f8941",
   "metadata": {},
   "source": [
    "# code 2 floating-point variables and divide them by each other"
   ]
  },
  {
   "cell_type": "code",
   "execution_count": 20,
   "id": "4362eb29",
   "metadata": {},
   "outputs": [],
   "source": [
    "X=8.66"
   ]
  },
  {
   "cell_type": "code",
   "execution_count": 21,
   "id": "60033710",
   "metadata": {},
   "outputs": [],
   "source": [
    "Y=4.33"
   ]
  },
  {
   "cell_type": "code",
   "execution_count": 22,
   "id": "286c1294",
   "metadata": {},
   "outputs": [
    {
     "data": {
      "text/plain": [
       "2.0"
      ]
     },
     "execution_count": 22,
     "metadata": {},
     "output_type": "execute_result"
    }
   ],
   "source": [
    "X/Y"
   ]
  },
  {
   "cell_type": "code",
   "execution_count": 23,
   "id": "4b9a3026",
   "metadata": {},
   "outputs": [],
   "source": [
    "X=68.89"
   ]
  },
  {
   "cell_type": "code",
   "execution_count": 24,
   "id": "4d2a1bc5",
   "metadata": {},
   "outputs": [],
   "source": [
    "Y=27.49"
   ]
  },
  {
   "cell_type": "code",
   "execution_count": 25,
   "id": "9045800c",
   "metadata": {},
   "outputs": [
    {
     "data": {
      "text/plain": [
       "2.506002182611859"
      ]
     },
     "execution_count": 25,
     "metadata": {},
     "output_type": "execute_result"
    }
   ],
   "source": [
    "X/Y"
   ]
  },
  {
   "cell_type": "markdown",
   "id": "e878ace9",
   "metadata": {},
   "source": [
    "# construct a short word made of separate strings"
   ]
  },
  {
   "cell_type": "code",
   "execution_count": 29,
   "id": "95415f9c",
   "metadata": {},
   "outputs": [],
   "source": [
    "a='Pink '"
   ]
  },
  {
   "cell_type": "code",
   "execution_count": 30,
   "id": "b26b3b55",
   "metadata": {},
   "outputs": [],
   "source": [
    "b='flower'"
   ]
  },
  {
   "cell_type": "code",
   "execution_count": 31,
   "id": "9b0ef5df",
   "metadata": {},
   "outputs": [
    {
     "data": {
      "text/plain": [
       "'Pink flower'"
      ]
     },
     "execution_count": 31,
     "metadata": {},
     "output_type": "execute_result"
    }
   ],
   "source": [
    "a+b"
   ]
  },
  {
   "cell_type": "markdown",
   "id": "201c20ee",
   "metadata": {},
   "source": [
    "# construct short sentences made of separate strings"
   ]
  },
  {
   "cell_type": "code",
   "execution_count": 32,
   "id": "a6b91716",
   "metadata": {},
   "outputs": [],
   "source": [
    "a='Life is '"
   ]
  },
  {
   "cell_type": "code",
   "execution_count": 33,
   "id": "d3c64357",
   "metadata": {},
   "outputs": [],
   "source": [
    "b='beautiful'"
   ]
  },
  {
   "cell_type": "code",
   "execution_count": 34,
   "id": "173f758e",
   "metadata": {},
   "outputs": [
    {
     "data": {
      "text/plain": [
       "'Life is beautiful'"
      ]
     },
     "execution_count": 34,
     "metadata": {},
     "output_type": "execute_result"
    }
   ],
   "source": [
    "a+b"
   ]
  },
  {
   "cell_type": "code",
   "execution_count": 35,
   "id": "7710a491",
   "metadata": {},
   "outputs": [],
   "source": [
    "a='I love '"
   ]
  },
  {
   "cell_type": "code",
   "execution_count": 36,
   "id": "d49edf0c",
   "metadata": {},
   "outputs": [],
   "source": [
    "b='the nature'"
   ]
  },
  {
   "cell_type": "code",
   "execution_count": 37,
   "id": "9e90ec94",
   "metadata": {},
   "outputs": [
    {
     "data": {
      "text/plain": [
       "'I love the nature'"
      ]
     },
     "execution_count": 37,
     "metadata": {},
     "output_type": "execute_result"
    }
   ],
   "source": [
    "a+b"
   ]
  },
  {
   "cell_type": "markdown",
   "id": "0c193bd7",
   "metadata": {},
   "source": [
    "# Bonus task. string appears 100 times"
   ]
  },
  {
   "cell_type": "code",
   "execution_count": 38,
   "id": "46d54630",
   "metadata": {},
   "outputs": [],
   "source": [
    "a='sun'"
   ]
  },
  {
   "cell_type": "code",
   "execution_count": 39,
   "id": "54a7c472",
   "metadata": {},
   "outputs": [
    {
     "data": {
      "text/plain": [
       "'sunsunsunsunsunsunsunsunsunsunsunsunsunsunsunsunsunsunsunsunsunsunsunsunsunsunsunsunsunsunsunsunsunsunsunsunsunsunsunsunsunsunsunsunsunsunsunsunsunsunsunsunsunsunsunsunsunsunsunsunsunsunsunsunsunsunsunsunsunsunsunsunsunsunsunsunsunsunsunsunsunsunsunsunsunsunsunsunsunsunsunsunsunsunsunsunsunsunsunsun'"
      ]
     },
     "execution_count": 39,
     "metadata": {},
     "output_type": "execute_result"
    }
   ],
   "source": [
    "a*100"
   ]
  },
  {
   "cell_type": "code",
   "execution_count": null,
   "id": "ef3a552b",
   "metadata": {},
   "outputs": [],
   "source": []
  }
 ],
 "metadata": {
  "kernelspec": {
   "display_name": "Python 3 (ipykernel)",
   "language": "python",
   "name": "python3"
  },
  "language_info": {
   "codemirror_mode": {
    "name": "ipython",
    "version": 3
   },
   "file_extension": ".py",
   "mimetype": "text/x-python",
   "name": "python",
   "nbconvert_exporter": "python",
   "pygments_lexer": "ipython3",
   "version": "3.11.7"
  }
 },
 "nbformat": 4,
 "nbformat_minor": 5
}
